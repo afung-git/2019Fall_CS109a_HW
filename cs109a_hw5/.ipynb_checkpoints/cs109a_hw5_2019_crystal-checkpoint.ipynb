{
 "cells": [
  {
   "cell_type": "markdown",
   "metadata": {
    "deletable": true,
    "editable": true
   },
   "source": [
    "\n",
    "# <img style=\"float: left; padding-right: 10px; width: 45px\" src=\"https://raw.githubusercontent.com/Harvard-IACS/2018-CS109A/master/content/styles/iacs.png\"> CS109A Introduction to Data Science\n",
    "\n",
    "## Homework 5: $k$-NN Classification, ROC, and PCA\n",
    "\n",
    "**Harvard University**<br/>\n",
    "**Fall 2019**<br/>\n",
    "**Instructors**: Pavlos Protopapas, Kevin Rader, and Chris Tanner\n",
    "\n",
    "<hr style=\"height:2pt\">\n",
    "\n"
   ]
  },
  {
   "cell_type": "code",
   "execution_count": 1,
   "metadata": {
    "collapsed": false,
    "deletable": true,
    "editable": true
   },
   "outputs": [
    {
     "data": {
      "text/html": [
       "<style>\n",
       "blockquote { background: #AEDE94; }\n",
       "h1 { \n",
       "    padding-top: 25px;\n",
       "    padding-bottom: 25px;\n",
       "    text-align: left; \n",
       "    padding-left: 10px;\n",
       "    background-color: #DDDDDD; \n",
       "    color: black;\n",
       "}\n",
       "h2 { \n",
       "    padding-top: 10px;\n",
       "    padding-bottom: 10px;\n",
       "    text-align: left; \n",
       "    padding-left: 5px;\n",
       "    background-color: #EEEEEE; \n",
       "    color: black;\n",
       "}\n",
       "\n",
       "div.exercise {\n",
       "\tbackground-color: #ffcccc;\n",
       "\tborder-color: #E9967A; \t\n",
       "\tborder-left: 5px solid #800080; \n",
       "\tpadding: 0.5em;\n",
       "}\n",
       "\n",
       "span.sub-q {\n",
       "\tfont-weight: bold;\n",
       "}\n",
       "div.theme {\n",
       "\tbackground-color: #DDDDDD;\n",
       "\tborder-color: #E9967A; \t\n",
       "\tborder-left: 5px solid #800080; \n",
       "\tpadding: 0.5em;\n",
       "\tfont-size: 18pt;\n",
       "}\n",
       "div.gc { \n",
       "\tbackground-color: #AEDE94;\n",
       "\tborder-color: #E9967A; \t \n",
       "\tborder-left: 5px solid #800080; \n",
       "\tpadding: 0.5em;\n",
       "\tfont-size: 12pt;\n",
       "}\n",
       "p.q1 { \n",
       "    padding-top: 5px;\n",
       "    padding-bottom: 5px;\n",
       "    text-align: left; \n",
       "    padding-left: 5px;\n",
       "    background-color: #EEEEEE; \n",
       "    color: black;\n",
       "}\n",
       "header {\n",
       "   padding-top: 35px;\n",
       "    padding-bottom: 35px;\n",
       "    text-align: left; \n",
       "    padding-left: 10px;\n",
       "    background-color: #DDDDDD; \n",
       "    color: black;\n",
       "}\n",
       "</style>\n",
       "\n"
      ],
      "text/plain": [
       "<IPython.core.display.HTML object>"
      ]
     },
     "execution_count": 1,
     "metadata": {},
     "output_type": "execute_result"
    }
   ],
   "source": [
    "#RUN THIS CELL \n",
    "import requests\n",
    "from IPython.core.display import HTML\n",
    "styles = requests.get(\"https://raw.githubusercontent.com/Harvard-IACS/2018-CS109A/master/content/styles/cs109.css\").text\n",
    "HTML(styles)"
   ]
  },
  {
   "cell_type": "markdown",
   "metadata": {
    "deletable": true,
    "editable": true
   },
   "source": [
    "### INSTRUCTIONS\n",
    "\n",
    "- To submit your assignment follow the instructions given in Canvas.\n",
    "- Restart the kernel and run the whole notebook again before you submit. \n",
    "- As much as possible, try and stick to the hints and functions we import at the top of the homework, as those are the ideas and tools the class supports and is aiming to teach. And if a problem specifies a particular library you're required to use that library, and possibly others from the import list.\n",
    "- Please use .head() when viewing data. Do not submit a notebook that is excessively long because output was not suppressed or otherwise limited."
   ]
  },
  {
   "cell_type": "code",
   "execution_count": 2,
   "metadata": {
    "collapsed": true,
    "deletable": true,
    "editable": true
   },
   "outputs": [],
   "source": [
    "import numpy as np\n",
    "import pandas as pd\n",
    "from scipy.stats import ttest_ind\n",
    "pd.set_option('display.max_columns', 25)\n",
    "\n",
    "from sklearn.linear_model import LinearRegression\n",
    "from sklearn.linear_model import LogisticRegression\n",
    "from sklearn.linear_model import LogisticRegressionCV\n",
    "from sklearn.linear_model import LassoCV\n",
    "\n",
    "from sklearn.neighbors import KNeighborsClassifier\n",
    "from sklearn.model_selection import cross_val_score\n",
    "from sklearn.metrics import accuracy_score\n",
    "from sklearn.model_selection import KFold\n",
    "from sklearn.preprocessing import MinMaxScaler\n",
    "from sklearn.model_selection import train_test_split\n",
    "from sklearn.decomposition import PCA\n",
    "from sklearn import metrics\n",
    "\n",
    "import matplotlib\n",
    "import matplotlib.pyplot as plt\n",
    "%matplotlib inline\n",
    "\n",
    "import statsmodels.api as sm\n",
    "from statsmodels.api import OLS\n",
    "\n",
    "import seaborn as sns\n",
    "sns.set()"
   ]
  },
  {
   "cell_type": "markdown",
   "metadata": {
    "deletable": true,
    "editable": true
   },
   "source": [
    "\n",
    "## Continuing Cancer Classification from Gene Expressions\n",
    "\n",
    "In this problem, we will continue to work with the 2-class (ALL vs. AML) cancer classification problem from homework 4. The dataset is provided in the file `data/hw4_enhance.csv` and is the same as the previous HW.  Recall: **0 indicates the ALL** class and **1 indicates the AML** class within `Cancer_type`, and columns 2-7130 contain expression levels of 7129 genes recorded from each tissue sample. \n",
    "\n",
    "In the following questions, we will handle the high dimensionality of this problem directly by applying Principal Component Analysis (PCA), and then use the resulting PCA-transformed in logistic regression and $k$-NN modeling."
   ]
  },
  {
   "cell_type": "markdown",
   "metadata": {
    "deletable": true,
    "editable": true
   },
   "source": [
    "<div class='exercise'><b> Question 1 [20 pts]: Baseline Modeling </b></div>\n",
    "\n",
    "First step is to split the observations into an approximate 80-20 train-test split.  Below is the same code from HW4 to do this for you (we again want to make sure everyone has the same splits). Use the training data set to answer the following questions:\n"
   ]
  },
  {
   "cell_type": "markdown",
   "metadata": {
    "deletable": true,
    "editable": true
   },
   "source": [
    "**First step is to split the observations into an approximate 80-20 train-test split. Below is some code to do this for you (we want to make sure everyone has the same splits). `Cancer_type` is again our target column.**"
   ]
  },
  {
   "cell_type": "code",
   "execution_count": 3,
   "metadata": {
    "collapsed": true,
    "deletable": true,
    "editable": true
   },
   "outputs": [],
   "source": [
    "np.random.seed(10)\n",
    "df = pd.read_csv('data/hw4_enhance.csv', index_col=0)\n",
    "\n",
    "X_train, X_test, y_train, y_test =train_test_split(df.loc[:, df.columns != 'Cancer_type'], \n",
    "                                                         df.Cancer_type, test_size=0.2, \n",
    "                                                         random_state = 109, \n",
    "                                                         stratify = df.Cancer_type)"
   ]
  },
  {
   "cell_type": "markdown",
   "metadata": {
    "deletable": true,
    "editable": true
   },
   "source": [
    "**1.1** Begin by normalizing all predictors just like you did in HW4.  Use these versions of the predictors throughout this assignment.\n",
    "\n",
    "**1.2** Fit an 'unregularized' multiple logistic regression model (set C=100000) with all the gene predictors from the data set (you did this in HW4).  Report the misclassification rate on both the train and test sets.\n",
    "\n",
    "**1.3** Use regularization to improve the predictions from the multiple logistic regression model. Specifically, use LASSO-like regularization and cross-validation to train the model on the training set (you did this in HW4).  Report the classification accuracy on both the train and test sets.\n",
    "\n",
    "**1.4** Use 5-fold cross-validation to select $k$ for a $k$-NN classification model based on the full predictor set.  Choose between `k = 1,2,5,10,20,50,100,200,500`. \n",
    "\n",
    "**1.5** Provide the confusion matrix for all 3 models above and report the false positive and false negative rates (all in the test set).  Briefly interpret what you notice.\n"
   ]
  },
  {
   "cell_type": "markdown",
   "metadata": {
    "deletable": true,
    "editable": true
   },
   "source": [
    "<hr>\n",
    "\n",
    "### Solutions"
   ]
  },
  {
   "cell_type": "markdown",
   "metadata": {
    "deletable": true,
    "editable": true
   },
   "source": [
    "**1.1 Begin by normalizing all predictors just like you did in HW4.  Use these versions of the predictors throughout this assignment.**"
   ]
  },
  {
   "cell_type": "code",
   "execution_count": 4,
   "metadata": {
    "collapsed": true,
    "deletable": true,
    "editable": true
   },
   "outputs": [
    {
     "data": {
      "text/html": [
       "<div>\n",
       "<style scoped>\n",
       "    .dataframe tbody tr th:only-of-type {\n",
       "        vertical-align: middle;\n",
       "    }\n",
       "\n",
       "    .dataframe tbody tr th {\n",
       "        vertical-align: top;\n",
       "    }\n",
       "\n",
       "    .dataframe thead th {\n",
       "        text-align: right;\n",
       "    }\n",
       "</style>\n",
       "<table border=\"1\" class=\"dataframe\">\n",
       "  <thead>\n",
       "    <tr style=\"text-align: right;\">\n",
       "      <th></th>\n",
       "      <th>AFFX-BioB-5_at</th>\n",
       "      <th>AFFX-BioB-M_at</th>\n",
       "      <th>AFFX-BioB-3_at</th>\n",
       "      <th>AFFX-BioC-5_at</th>\n",
       "      <th>AFFX-BioC-3_at</th>\n",
       "      <th>AFFX-BioDn-5_at</th>\n",
       "      <th>AFFX-BioDn-3_at</th>\n",
       "      <th>AFFX-CreX-5_at</th>\n",
       "      <th>AFFX-CreX-3_at</th>\n",
       "      <th>AFFX-BioB-5_st</th>\n",
       "      <th>AFFX-BioB-M_st</th>\n",
       "      <th>AFFX-BioB-3_st</th>\n",
       "      <th>...</th>\n",
       "      <th>U11863_at</th>\n",
       "      <th>U29175_at</th>\n",
       "      <th>U48730_at</th>\n",
       "      <th>U58516_at</th>\n",
       "      <th>U73738_at</th>\n",
       "      <th>X06956_at</th>\n",
       "      <th>X16699_at</th>\n",
       "      <th>X83863_at</th>\n",
       "      <th>Z17240_at</th>\n",
       "      <th>L49218_f_at</th>\n",
       "      <th>M71243_f_at</th>\n",
       "      <th>Z78285_f_at</th>\n",
       "    </tr>\n",
       "  </thead>\n",
       "  <tbody>\n",
       "    <tr>\n",
       "      <th>count</th>\n",
       "      <td>151.000000</td>\n",
       "      <td>151.000000</td>\n",
       "      <td>151.000000</td>\n",
       "      <td>151.000000</td>\n",
       "      <td>151.000000</td>\n",
       "      <td>151.000000</td>\n",
       "      <td>151.000000</td>\n",
       "      <td>151.000000</td>\n",
       "      <td>151.000000</td>\n",
       "      <td>151.000000</td>\n",
       "      <td>151.000000</td>\n",
       "      <td>151.000000</td>\n",
       "      <td>...</td>\n",
       "      <td>151.000000</td>\n",
       "      <td>151.000000</td>\n",
       "      <td>151.000000</td>\n",
       "      <td>151.000000</td>\n",
       "      <td>151.000000</td>\n",
       "      <td>151.000000</td>\n",
       "      <td>151.000000</td>\n",
       "      <td>151.000000</td>\n",
       "      <td>151.000000</td>\n",
       "      <td>151.000000</td>\n",
       "      <td>151.000000</td>\n",
       "      <td>151.000000</td>\n",
       "    </tr>\n",
       "    <tr>\n",
       "      <th>mean</th>\n",
       "      <td>0.521900</td>\n",
       "      <td>0.687150</td>\n",
       "      <td>0.428496</td>\n",
       "      <td>0.465988</td>\n",
       "      <td>0.533584</td>\n",
       "      <td>0.489591</td>\n",
       "      <td>0.538567</td>\n",
       "      <td>0.550409</td>\n",
       "      <td>0.495196</td>\n",
       "      <td>0.334031</td>\n",
       "      <td>0.565051</td>\n",
       "      <td>0.498272</td>\n",
       "      <td>...</td>\n",
       "      <td>0.578692</td>\n",
       "      <td>0.496483</td>\n",
       "      <td>0.504205</td>\n",
       "      <td>0.495199</td>\n",
       "      <td>0.385312</td>\n",
       "      <td>0.321002</td>\n",
       "      <td>0.563333</td>\n",
       "      <td>0.540981</td>\n",
       "      <td>0.420553</td>\n",
       "      <td>0.520914</td>\n",
       "      <td>0.403908</td>\n",
       "      <td>0.491997</td>\n",
       "    </tr>\n",
       "    <tr>\n",
       "      <th>std</th>\n",
       "      <td>0.189456</td>\n",
       "      <td>0.164801</td>\n",
       "      <td>0.176141</td>\n",
       "      <td>0.191290</td>\n",
       "      <td>0.139465</td>\n",
       "      <td>0.211013</td>\n",
       "      <td>0.180306</td>\n",
       "      <td>0.172728</td>\n",
       "      <td>0.182104</td>\n",
       "      <td>0.158311</td>\n",
       "      <td>0.154197</td>\n",
       "      <td>0.188860</td>\n",
       "      <td>...</td>\n",
       "      <td>0.198255</td>\n",
       "      <td>0.166746</td>\n",
       "      <td>0.173335</td>\n",
       "      <td>0.169380</td>\n",
       "      <td>0.201798</td>\n",
       "      <td>0.161601</td>\n",
       "      <td>0.183045</td>\n",
       "      <td>0.182802</td>\n",
       "      <td>0.209879</td>\n",
       "      <td>0.202484</td>\n",
       "      <td>0.174322</td>\n",
       "      <td>0.167380</td>\n",
       "    </tr>\n",
       "    <tr>\n",
       "      <th>min</th>\n",
       "      <td>0.000000</td>\n",
       "      <td>0.000000</td>\n",
       "      <td>0.000000</td>\n",
       "      <td>0.000000</td>\n",
       "      <td>0.000000</td>\n",
       "      <td>0.000000</td>\n",
       "      <td>0.000000</td>\n",
       "      <td>0.000000</td>\n",
       "      <td>0.000000</td>\n",
       "      <td>0.000000</td>\n",
       "      <td>0.000000</td>\n",
       "      <td>0.000000</td>\n",
       "      <td>...</td>\n",
       "      <td>0.000000</td>\n",
       "      <td>0.000000</td>\n",
       "      <td>0.000000</td>\n",
       "      <td>0.000000</td>\n",
       "      <td>0.000000</td>\n",
       "      <td>0.000000</td>\n",
       "      <td>0.000000</td>\n",
       "      <td>0.000000</td>\n",
       "      <td>0.000000</td>\n",
       "      <td>0.000000</td>\n",
       "      <td>0.000000</td>\n",
       "      <td>0.000000</td>\n",
       "    </tr>\n",
       "    <tr>\n",
       "      <th>25%</th>\n",
       "      <td>0.430567</td>\n",
       "      <td>0.591452</td>\n",
       "      <td>0.314190</td>\n",
       "      <td>0.340344</td>\n",
       "      <td>0.444970</td>\n",
       "      <td>0.339775</td>\n",
       "      <td>0.427865</td>\n",
       "      <td>0.435116</td>\n",
       "      <td>0.381384</td>\n",
       "      <td>0.245950</td>\n",
       "      <td>0.481813</td>\n",
       "      <td>0.384830</td>\n",
       "      <td>...</td>\n",
       "      <td>0.441030</td>\n",
       "      <td>0.397085</td>\n",
       "      <td>0.402522</td>\n",
       "      <td>0.376562</td>\n",
       "      <td>0.241894</td>\n",
       "      <td>0.232169</td>\n",
       "      <td>0.452024</td>\n",
       "      <td>0.432256</td>\n",
       "      <td>0.285630</td>\n",
       "      <td>0.386056</td>\n",
       "      <td>0.301268</td>\n",
       "      <td>0.386250</td>\n",
       "    </tr>\n",
       "    <tr>\n",
       "      <th>50%</th>\n",
       "      <td>0.524879</td>\n",
       "      <td>0.703790</td>\n",
       "      <td>0.400219</td>\n",
       "      <td>0.466646</td>\n",
       "      <td>0.549577</td>\n",
       "      <td>0.474069</td>\n",
       "      <td>0.535236</td>\n",
       "      <td>0.568455</td>\n",
       "      <td>0.484707</td>\n",
       "      <td>0.321790</td>\n",
       "      <td>0.583144</td>\n",
       "      <td>0.521970</td>\n",
       "      <td>...</td>\n",
       "      <td>0.574291</td>\n",
       "      <td>0.502505</td>\n",
       "      <td>0.507359</td>\n",
       "      <td>0.469548</td>\n",
       "      <td>0.391591</td>\n",
       "      <td>0.307632</td>\n",
       "      <td>0.556613</td>\n",
       "      <td>0.529104</td>\n",
       "      <td>0.391091</td>\n",
       "      <td>0.528650</td>\n",
       "      <td>0.389592</td>\n",
       "      <td>0.485651</td>\n",
       "    </tr>\n",
       "    <tr>\n",
       "      <th>75%</th>\n",
       "      <td>0.643519</td>\n",
       "      <td>0.786007</td>\n",
       "      <td>0.545325</td>\n",
       "      <td>0.592139</td>\n",
       "      <td>0.610496</td>\n",
       "      <td>0.638307</td>\n",
       "      <td>0.631029</td>\n",
       "      <td>0.675841</td>\n",
       "      <td>0.624623</td>\n",
       "      <td>0.415356</td>\n",
       "      <td>0.657662</td>\n",
       "      <td>0.600796</td>\n",
       "      <td>...</td>\n",
       "      <td>0.722299</td>\n",
       "      <td>0.607422</td>\n",
       "      <td>0.606819</td>\n",
       "      <td>0.610389</td>\n",
       "      <td>0.514722</td>\n",
       "      <td>0.373763</td>\n",
       "      <td>0.688384</td>\n",
       "      <td>0.656917</td>\n",
       "      <td>0.562734</td>\n",
       "      <td>0.666292</td>\n",
       "      <td>0.503775</td>\n",
       "      <td>0.574866</td>\n",
       "    </tr>\n",
       "    <tr>\n",
       "      <th>max</th>\n",
       "      <td>1.000000</td>\n",
       "      <td>1.000000</td>\n",
       "      <td>1.000000</td>\n",
       "      <td>1.000000</td>\n",
       "      <td>1.000000</td>\n",
       "      <td>1.000000</td>\n",
       "      <td>1.000000</td>\n",
       "      <td>1.000000</td>\n",
       "      <td>1.000000</td>\n",
       "      <td>1.000000</td>\n",
       "      <td>1.000000</td>\n",
       "      <td>1.000000</td>\n",
       "      <td>...</td>\n",
       "      <td>1.000000</td>\n",
       "      <td>1.000000</td>\n",
       "      <td>1.000000</td>\n",
       "      <td>1.000000</td>\n",
       "      <td>1.000000</td>\n",
       "      <td>1.000000</td>\n",
       "      <td>1.000000</td>\n",
       "      <td>1.000000</td>\n",
       "      <td>1.000000</td>\n",
       "      <td>1.000000</td>\n",
       "      <td>1.000000</td>\n",
       "      <td>1.000000</td>\n",
       "    </tr>\n",
       "  </tbody>\n",
       "</table>\n",
       "<p>8 rows × 7129 columns</p>\n",
       "</div>"
      ],
      "text/plain": [
       "       AFFX-BioB-5_at  AFFX-BioB-M_at  AFFX-BioB-3_at  AFFX-BioC-5_at  \\\n",
       "count      151.000000      151.000000      151.000000      151.000000   \n",
       "mean         0.521900        0.687150        0.428496        0.465988   \n",
       "std          0.189456        0.164801        0.176141        0.191290   \n",
       "min          0.000000        0.000000        0.000000        0.000000   \n",
       "25%          0.430567        0.591452        0.314190        0.340344   \n",
       "50%          0.524879        0.703790        0.400219        0.466646   \n",
       "75%          0.643519        0.786007        0.545325        0.592139   \n",
       "max          1.000000        1.000000        1.000000        1.000000   \n",
       "\n",
       "       AFFX-BioC-3_at  AFFX-BioDn-5_at  AFFX-BioDn-3_at  AFFX-CreX-5_at  \\\n",
       "count      151.000000       151.000000       151.000000      151.000000   \n",
       "mean         0.533584         0.489591         0.538567        0.550409   \n",
       "std          0.139465         0.211013         0.180306        0.172728   \n",
       "min          0.000000         0.000000         0.000000        0.000000   \n",
       "25%          0.444970         0.339775         0.427865        0.435116   \n",
       "50%          0.549577         0.474069         0.535236        0.568455   \n",
       "75%          0.610496         0.638307         0.631029        0.675841   \n",
       "max          1.000000         1.000000         1.000000        1.000000   \n",
       "\n",
       "       AFFX-CreX-3_at  AFFX-BioB-5_st  AFFX-BioB-M_st  AFFX-BioB-3_st  \\\n",
       "count      151.000000      151.000000      151.000000      151.000000   \n",
       "mean         0.495196        0.334031        0.565051        0.498272   \n",
       "std          0.182104        0.158311        0.154197        0.188860   \n",
       "min          0.000000        0.000000        0.000000        0.000000   \n",
       "25%          0.381384        0.245950        0.481813        0.384830   \n",
       "50%          0.484707        0.321790        0.583144        0.521970   \n",
       "75%          0.624623        0.415356        0.657662        0.600796   \n",
       "max          1.000000        1.000000        1.000000        1.000000   \n",
       "\n",
       "          ...        U11863_at   U29175_at   U48730_at   U58516_at  \\\n",
       "count     ...       151.000000  151.000000  151.000000  151.000000   \n",
       "mean      ...         0.578692    0.496483    0.504205    0.495199   \n",
       "std       ...         0.198255    0.166746    0.173335    0.169380   \n",
       "min       ...         0.000000    0.000000    0.000000    0.000000   \n",
       "25%       ...         0.441030    0.397085    0.402522    0.376562   \n",
       "50%       ...         0.574291    0.502505    0.507359    0.469548   \n",
       "75%       ...         0.722299    0.607422    0.606819    0.610389   \n",
       "max       ...         1.000000    1.000000    1.000000    1.000000   \n",
       "\n",
       "        U73738_at   X06956_at   X16699_at   X83863_at   Z17240_at  \\\n",
       "count  151.000000  151.000000  151.000000  151.000000  151.000000   \n",
       "mean     0.385312    0.321002    0.563333    0.540981    0.420553   \n",
       "std      0.201798    0.161601    0.183045    0.182802    0.209879   \n",
       "min      0.000000    0.000000    0.000000    0.000000    0.000000   \n",
       "25%      0.241894    0.232169    0.452024    0.432256    0.285630   \n",
       "50%      0.391591    0.307632    0.556613    0.529104    0.391091   \n",
       "75%      0.514722    0.373763    0.688384    0.656917    0.562734   \n",
       "max      1.000000    1.000000    1.000000    1.000000    1.000000   \n",
       "\n",
       "       L49218_f_at  M71243_f_at  Z78285_f_at  \n",
       "count   151.000000   151.000000   151.000000  \n",
       "mean      0.520914     0.403908     0.491997  \n",
       "std       0.202484     0.174322     0.167380  \n",
       "min       0.000000     0.000000     0.000000  \n",
       "25%       0.386056     0.301268     0.386250  \n",
       "50%       0.528650     0.389592     0.485651  \n",
       "75%       0.666292     0.503775     0.574866  \n",
       "max       1.000000     1.000000     1.000000  \n",
       "\n",
       "[8 rows x 7129 columns]"
      ]
     },
     "execution_count": 4,
     "metadata": {},
     "output_type": "execute_result"
    }
   ],
   "source": [
    "# your code here\n",
    "normalized_x_train=(X_train-X_train.min())/(X_train.max()-X_train.min()) #normalization \n",
    "normalized_x_train.describe()\n",
    "\n",
    "normalized_x_test=(X_test-X_test.min())/(X_test.max()-X_test.min()) #normalization \n",
    "normalized_x_test.describe()"
   ]
  },
  {
   "cell_type": "markdown",
   "metadata": {
    "deletable": true,
    "editable": true
   },
   "source": [
    "**1.2 Fit an 'unregularized' multiple logistic regression model (set C=100000) with all the gene predictors from the data set (you did this in HW4).  Report the misclassification rate on both the train and test sets.**"
   ]
  },
  {
   "cell_type": "code",
   "execution_count": 88,
   "metadata": {
    "collapsed": true,
    "deletable": true,
    "editable": true
   },
   "outputs": [],
   "source": [
    "# your code here\n",
    "\n",
    "logmodel=LogisticRegression(C=100000,fit_intercept=True)\n",
    "logmodel.fit(normalized_x_train,y_train.values.ravel())\n",
    "\n",
    "#model on test model\n",
    "pred_test = logmodel.predict(normalized_x_test)\n",
    "accuracy_test=accuracy_score(y_test,pred_test,normalize=True)\n",
    "\n",
    "\n",
    "pred_train = logmodel.predict(normalized_x_train)\n",
    "accuracy_train=accuracy_score(y_train,pred_train,normalize=True)\n"
   ]
  },
  {
   "cell_type": "code",
   "execution_count": 89,
   "metadata": {
    "collapsed": false,
    "deletable": true,
    "editable": true
   },
   "outputs": [
    {
     "name": "stdout",
     "output_type": "stream",
     "text": [
      "The misclassification rate on the test set is 0.23841059602649006.\n",
      "The misclassification rate on the train set is 0.0.\n"
     ]
    }
   ],
   "source": [
    "print('The misclassification rate on the test set is {}.'.format(1-accuracy_test))\n",
    "print('The misclassification rate on the train set is {}.'.format(1-accuracy_train))"
   ]
  },
  {
   "cell_type": "markdown",
   "metadata": {
    "deletable": true,
    "editable": true
   },
   "source": [
    "**1.3 Use regularization to improve the predictions from the multiple logistic regression model. Specifically, use LASSO-like regularization and cross-validation to train the model on the training set (you did this in HW4).  eport the misclassification rate on both the train and test sets.**"
   ]
  },
  {
   "cell_type": "code",
   "execution_count": 90,
   "metadata": {
    "collapsed": false,
    "deletable": true,
    "editable": true
   },
   "outputs": [
    {
     "data": {
      "text/plain": [
       "LogisticRegressionCV(Cs=10, class_weight=None, cv=None, dual=False,\n",
       "           fit_intercept=True, intercept_scaling=1.0, max_iter=100,\n",
       "           multi_class='ovr', n_jobs=1, penalty='l1', random_state=None,\n",
       "           refit=True, scoring=None, solver='liblinear', tol=0.0001,\n",
       "           verbose=0)"
      ]
     },
     "execution_count": 90,
     "metadata": {},
     "output_type": "execute_result"
    }
   ],
   "source": [
    "fitted_lasso = LogisticRegressionCV(solver='liblinear',penalty='l1').fit(normalized_x_train,y_train.values.ravel())\n",
    "fitted_lasso"
   ]
  },
  {
   "cell_type": "code",
   "execution_count": 91,
   "metadata": {
    "collapsed": false,
    "deletable": true,
    "editable": true,
    "scrolled": true
   },
   "outputs": [
    {
     "name": "stdout",
     "output_type": "stream",
     "text": [
      "The misclassification rate of this model on training set is 0.09151414309484196\n",
      "The misclassification rate of this model on test set is 0.17880794701986757\n"
     ]
    }
   ],
   "source": [
    "pred_train_lasso = fitted_lasso.predict(normalized_x_train)\n",
    "pred_test_lasso = fitted_lasso.predict(normalized_x_test)\n",
    "\n",
    "accuracy_train_lasso=accuracy_score(y_train,pred_train_lasso,normalize=True)\n",
    "accuracy_test_lasso=accuracy_score(y_test,pred_test_lasso,normalize=True)\n",
    "\n",
    "\n",
    "print('The misclassification rate of this model on training set is {}'.format(1-accuracy_train_lasso))\n",
    "print('The misclassification rate of this model on test set is {}'.format(1-accuracy_test_lasso))"
   ]
  },
  {
   "cell_type": "markdown",
   "metadata": {
    "deletable": true,
    "editable": true
   },
   "source": [
    "**1.4 Use 5-fold cross-validation to select $k$ for a $k$-NN classification model based on the full predictor set.  Choose between `ks = [1,2,3,4,5,7,9,10,15,25]`.  Report your chosen $k$, and report the misclassification rate on both the train and test sets for the model using your chosen $k$.**"
   ]
  },
  {
   "cell_type": "code",
   "execution_count": 92,
   "metadata": {
    "collapsed": false,
    "deletable": true,
    "editable": true
   },
   "outputs": [
    {
     "data": {
      "text/plain": [
       "[array([0.85950413, 0.78512397, 0.79338843, 0.81512605, 0.82352941,\n",
       "        0.8153344 ]),\n",
       " array([0.84297521, 0.80165289, 0.7768595 , 0.77310924, 0.81512605,\n",
       "        0.80194458]),\n",
       " array([0.88429752, 0.85123967, 0.83471074, 0.86554622, 0.8907563 ,\n",
       "        0.86531009]),\n",
       " array([0.85950413, 0.80991736, 0.80165289, 0.80672269, 0.89915966,\n",
       "        0.83539135]),\n",
       " array([0.87603306, 0.85123967, 0.84297521, 0.81512605, 0.89915966,\n",
       "        0.85690673]),\n",
       " array([0.90909091, 0.85123967, 0.87603306, 0.84033613, 0.89915966,\n",
       "        0.87517189]),\n",
       " array([0.90082645, 0.85123967, 0.89256198, 0.83193277, 0.88235294,\n",
       "        0.87178276]),\n",
       " array([0.85950413, 0.79338843, 0.88429752, 0.83193277, 0.87394958,\n",
       "        0.84861449]),\n",
       " array([0.88429752, 0.76033058, 0.87603306, 0.79831933, 0.84033613,\n",
       "        0.83186332]),\n",
       " array([0.76859504, 0.66942149, 0.78512397, 0.71428571, 0.78991597,\n",
       "        0.74546844])]"
      ]
     },
     "execution_count": 92,
     "metadata": {},
     "output_type": "execute_result"
    }
   ],
   "source": [
    "ks = [1,2,3,4,5,7,9,10,15,25]\n",
    "knnmodels = []\n",
    "cv_scores = []\n",
    "for k in ks:\n",
    "    KNN = KNeighborsClassifier(n_neighbors = k)\n",
    "    # train model with cv of 5\n",
    "    cv_score = cross_val_score(KNN, normalized_x_train,y_train.values.ravel(),cv=5)\n",
    "    mean = np.mean(cv_score)\n",
    "    cv_score = np.append(cv_score,mean)\n",
    "    cv_scores.append(cv_score)\n",
    "    \n",
    "cv_scores"
   ]
  },
  {
   "cell_type": "code",
   "execution_count": 93,
   "metadata": {
    "collapsed": false,
    "deletable": true,
    "editable": true
   },
   "outputs": [
    {
     "data": {
      "text/html": [
       "<div>\n",
       "<style scoped>\n",
       "    .dataframe tbody tr th:only-of-type {\n",
       "        vertical-align: middle;\n",
       "    }\n",
       "\n",
       "    .dataframe tbody tr th {\n",
       "        vertical-align: top;\n",
       "    }\n",
       "\n",
       "    .dataframe thead th {\n",
       "        text-align: right;\n",
       "    }\n",
       "</style>\n",
       "<table border=\"1\" class=\"dataframe\">\n",
       "  <thead>\n",
       "    <tr style=\"text-align: right;\">\n",
       "      <th></th>\n",
       "      <th>1</th>\n",
       "      <th>2</th>\n",
       "      <th>3</th>\n",
       "      <th>4</th>\n",
       "      <th>5</th>\n",
       "      <th>mean</th>\n",
       "    </tr>\n",
       "  </thead>\n",
       "  <tbody>\n",
       "    <tr>\n",
       "      <th>k=1</th>\n",
       "      <td>0.859504</td>\n",
       "      <td>0.785124</td>\n",
       "      <td>0.793388</td>\n",
       "      <td>0.815126</td>\n",
       "      <td>0.823529</td>\n",
       "      <td>0.815334</td>\n",
       "    </tr>\n",
       "    <tr>\n",
       "      <th>2</th>\n",
       "      <td>0.842975</td>\n",
       "      <td>0.801653</td>\n",
       "      <td>0.776860</td>\n",
       "      <td>0.773109</td>\n",
       "      <td>0.815126</td>\n",
       "      <td>0.801945</td>\n",
       "    </tr>\n",
       "    <tr>\n",
       "      <th>3</th>\n",
       "      <td>0.884298</td>\n",
       "      <td>0.851240</td>\n",
       "      <td>0.834711</td>\n",
       "      <td>0.865546</td>\n",
       "      <td>0.890756</td>\n",
       "      <td>0.865310</td>\n",
       "    </tr>\n",
       "    <tr>\n",
       "      <th>4</th>\n",
       "      <td>0.859504</td>\n",
       "      <td>0.809917</td>\n",
       "      <td>0.801653</td>\n",
       "      <td>0.806723</td>\n",
       "      <td>0.899160</td>\n",
       "      <td>0.835391</td>\n",
       "    </tr>\n",
       "    <tr>\n",
       "      <th>5</th>\n",
       "      <td>0.876033</td>\n",
       "      <td>0.851240</td>\n",
       "      <td>0.842975</td>\n",
       "      <td>0.815126</td>\n",
       "      <td>0.899160</td>\n",
       "      <td>0.856907</td>\n",
       "    </tr>\n",
       "    <tr>\n",
       "      <th>7</th>\n",
       "      <td>0.909091</td>\n",
       "      <td>0.851240</td>\n",
       "      <td>0.876033</td>\n",
       "      <td>0.840336</td>\n",
       "      <td>0.899160</td>\n",
       "      <td>0.875172</td>\n",
       "    </tr>\n",
       "    <tr>\n",
       "      <th>9</th>\n",
       "      <td>0.900826</td>\n",
       "      <td>0.851240</td>\n",
       "      <td>0.892562</td>\n",
       "      <td>0.831933</td>\n",
       "      <td>0.882353</td>\n",
       "      <td>0.871783</td>\n",
       "    </tr>\n",
       "    <tr>\n",
       "      <th>10</th>\n",
       "      <td>0.859504</td>\n",
       "      <td>0.793388</td>\n",
       "      <td>0.884298</td>\n",
       "      <td>0.831933</td>\n",
       "      <td>0.873950</td>\n",
       "      <td>0.848614</td>\n",
       "    </tr>\n",
       "    <tr>\n",
       "      <th>15</th>\n",
       "      <td>0.884298</td>\n",
       "      <td>0.760331</td>\n",
       "      <td>0.876033</td>\n",
       "      <td>0.798319</td>\n",
       "      <td>0.840336</td>\n",
       "      <td>0.831863</td>\n",
       "    </tr>\n",
       "    <tr>\n",
       "      <th>25</th>\n",
       "      <td>0.768595</td>\n",
       "      <td>0.669421</td>\n",
       "      <td>0.785124</td>\n",
       "      <td>0.714286</td>\n",
       "      <td>0.789916</td>\n",
       "      <td>0.745468</td>\n",
       "    </tr>\n",
       "  </tbody>\n",
       "</table>\n",
       "</div>"
      ],
      "text/plain": [
       "            1         2         3         4         5      mean\n",
       "k=1  0.859504  0.785124  0.793388  0.815126  0.823529  0.815334\n",
       "2    0.842975  0.801653  0.776860  0.773109  0.815126  0.801945\n",
       "3    0.884298  0.851240  0.834711  0.865546  0.890756  0.865310\n",
       "4    0.859504  0.809917  0.801653  0.806723  0.899160  0.835391\n",
       "5    0.876033  0.851240  0.842975  0.815126  0.899160  0.856907\n",
       "7    0.909091  0.851240  0.876033  0.840336  0.899160  0.875172\n",
       "9    0.900826  0.851240  0.892562  0.831933  0.882353  0.871783\n",
       "10   0.859504  0.793388  0.884298  0.831933  0.873950  0.848614\n",
       "15   0.884298  0.760331  0.876033  0.798319  0.840336  0.831863\n",
       "25   0.768595  0.669421  0.785124  0.714286  0.789916  0.745468"
      ]
     },
     "metadata": {},
     "output_type": "display_data"
    },
    {
     "name": "stdout",
     "output_type": "stream",
     "text": [
      "The KNN model with k=7 has the highest mean score, and the variance of each validation set is low. Therefore, I pick k=7 for my KNN model. \n"
     ]
    }
   ],
   "source": [
    "cv_scores_df = pd.DataFrame(np.array(cv_scores).reshape(-1,6))\n",
    "cv_scores_df.columns=['1','2','3','4','5','mean']\n",
    "k = ks.copy()\n",
    "k[0] = 'k=1'\n",
    "cv_scores_df.index=k\n",
    "display(cv_scores_df)\n",
    "print('The KNN model with k=7 has the highest mean score, and the variance of each validation set is low. Therefore, I pick k=7 for my KNN model. ')"
   ]
  },
  {
   "cell_type": "code",
   "execution_count": 94,
   "metadata": {
    "collapsed": false,
    "deletable": true,
    "editable": true
   },
   "outputs": [
    {
     "name": "stdout",
     "output_type": "stream",
     "text": [
      "The misclassification rate on train set of KNN model with k 7 is 0.09816971713810319\n",
      "The misclassification rate on test set of KNN model with 7 is 0.13907284768211925\n"
     ]
    }
   ],
   "source": [
    "KNN = KNeighborsClassifier (n_neighbors = 7)\n",
    "KNN.fit(normalized_x_train,y_train.values.ravel())\n",
    "knn_train_pred = KNN.predict(normalized_x_train)\n",
    "knn_test_pred = KNN.predict(normalized_x_test)\n",
    "accuracy_train = accuracy_score(y_train,knn_train_pred,normalize=True)\n",
    "accuracy_test = accuracy_score(y_test,knn_test_pred,normalize=True)\n",
    "mis_train = 1-accuracy_train\n",
    "mis_test = 1-accuracy_test\n",
    "print('The misclassification rate on train set of KNN model with k 7 is {}'.format(mis_train))\n",
    "print('The misclassification rate on test set of KNN model with 7 is {}'.format(mis_test))"
   ]
  },
  {
   "cell_type": "markdown",
   "metadata": {
    "deletable": true,
    "editable": true
   },
   "source": [
    "Report your chosen  k, and report the misclassification rate on both the train and test sets for the model using your chosen  k."
   ]
  },
  {
   "cell_type": "markdown",
   "metadata": {
    "deletable": true,
    "editable": true
   },
   "source": [
    "**1.5 Provide the confusion matrix for all 3 models above and report the false positive and false negative rates (all in the test set).  Briefly interpret what you notice.**"
   ]
  },
  {
   "cell_type": "code",
   "execution_count": 95,
   "metadata": {
    "collapsed": false,
    "deletable": true,
    "editable": true
   },
   "outputs": [
    {
     "data": {
      "text/plain": [
       "array([[65, 12],\n",
       "       [24, 50]])"
      ]
     },
     "metadata": {},
     "output_type": "display_data"
    },
    {
     "data": {
      "text/plain": [
       "array([[67, 10],\n",
       "       [17, 57]])"
      ]
     },
     "metadata": {},
     "output_type": "display_data"
    },
    {
     "data": {
      "text/plain": [
       "array([[67, 10],\n",
       "       [11, 63]])"
      ]
     },
     "metadata": {},
     "output_type": "display_data"
    }
   ],
   "source": [
    "# your code here\n",
    "from sklearn.metrics import confusion_matrix\n",
    "#unregularized logistic  \n",
    "cm1 = confusion_matrix(y_test, pred_test)\n",
    "\n",
    "#lasso logistic \n",
    "cm2 = confusion_matrix(y_test, pred_test_lasso)\n",
    "\n",
    "#knn\n",
    "cm3 = confusion_matrix(y_test, knn_test_pred)\n",
    "\n",
    "display (cm1, cm2, cm3)"
   ]
  },
  {
   "cell_type": "code",
   "execution_count": 110,
   "metadata": {
    "collapsed": false,
    "deletable": true,
    "editable": true
   },
   "outputs": [
    {
     "name": "stdout",
     "output_type": "stream",
     "text": [
      "For the unregulated regression model, false positive rate is 0.15584415584415584, false negative rate is 0.32432432432432434\n",
      "For the lasso model, false positive rate is 0.12987012987012986, false negative rate is 0.22972972972972974\n",
      "For the knn model, false positive rate is 0.12987012987012986, false negative rate is 0.14864864864864866\n"
     ]
    }
   ],
   "source": [
    "FP_unreg = cm1[0][1]\n",
    "TP_unreg = cm1[1][1]\n",
    "FN_unreg = cm1[1][0]\n",
    "TN_unreg = cm1[0][0]\n",
    "FPR_unreg = FP_unreg/(FP_unreg+TN_unreg) \n",
    "FNR_unreg = FN_unreg/(TP_unreg+FN_unreg)\n",
    "\n",
    "FP_lasso = cm2[0][1]\n",
    "TP_lasso = cm2[1][1]\n",
    "FN_lasso = cm2[1][0]\n",
    "TN_lasso = cm2[0][0]\n",
    "FPR_lasso = FP_lasso/(FP_lasso+TN_lasso) \n",
    "FNR_lasso = FN_lasso/(TP_lasso+FN_lasso)\n",
    "\n",
    "FP_knn = cm3[0][1]\n",
    "TP_knn = cm3[1][1]\n",
    "FN_knn = cm3[1][0]\n",
    "TN_knn = cm3[0][0]\n",
    "FPR_knn = FP_knn/(FP_knn+TN_knn) \n",
    "FNR_knn = FN_knn/(TP_knn+FN_knn)\n",
    "\n",
    "print('For the unregulated regression model, false positive rate is {},'.format(FPR_unreg) + ' false negative rate is {}'.format(FNR_unreg))\n",
    "print('For the lasso model, false positive rate is {},'.format(FPR_lasso) + ' false negative rate is {}'.format(FNR_lasso))\n",
    "print('For the knn model, false positive rate is {},'.format(FPR_knn) + ' false negative rate is {}'.format(FNR_knn))\n",
    "\n"
   ]
  },
  {
   "cell_type": "markdown",
   "metadata": {
    "deletable": true,
    "editable": true
   },
   "source": [
    "*your answer here*\n",
    "\n",
    "The knn model shows the best power with both lowest false positive rate. and lowest false negative rate. "
   ]
  },
  {
   "cell_type": "markdown",
   "metadata": {
    "deletable": true,
    "editable": true
   },
   "source": [
    "<div class='exercise'><b> Question 2 [20 pts]: Performing Principal Components Analysis </b></div>"
   ]
  },
  {
   "cell_type": "markdown",
   "metadata": {
    "deletable": true,
    "editable": true
   },
   "source": [
    "**2.1** Create the full PCA decomposition of `X_train` and apply the transformation to both `X_train` and `X_test`.  Report the shape of both of these.  What is the limiting factor for the maximum number of PCA components for this data set? \n",
    "\n",
    "**2.2** PCA is often solely used to help in visualizing high-dimensional problems.  Plot the scatterplot of the second PCA vector of train on the $Y$-axis and the first PCA vector of train on the $X$-axis (be sure to denote the classes via different color/markings).  In 2-3 sentences, explain why using the scatterplot of the top 2 PCA vectors is a useful approach to visualize a high dimensional classification problem.\n",
    "\n",
    "**2.3** Determine and report the variance explained in `X_train` based on the top 2 PCA vectors.  Determine and report how many PCA vectors are needed so that 90\\% of the variability in the predictors is explained, and create a plot to illustrate this result (Hint: look at cumulative explained variability vs. number of PCA components used).\n",
    "\n",
    "**2.4** Plot explained variability in the predictors on the $Y$-axis and the PCA component number on the $X$-axis. Select a reasonable value for the number of components that balances representativeness (of the predictors) with parsimony and justify your choice with 1-3 sentences."
   ]
  },
  {
   "cell_type": "markdown",
   "metadata": {
    "deletable": true,
    "editable": true
   },
   "source": [
    "<hr>\n",
    "\n",
    "### Solutions"
   ]
  },
  {
   "cell_type": "markdown",
   "metadata": {
    "deletable": true,
    "editable": true
   },
   "source": [
    "**2.1 Create the full PCA decomposition of X_train and apply the transformation to both X_train and X_test. Report the shape of both of these. What is the limiting factor for the maximum number of PCA components for this data set?**"
   ]
  },
  {
   "cell_type": "code",
   "execution_count": 165,
   "metadata": {
    "collapsed": true,
    "deletable": true,
    "editable": true
   },
   "outputs": [],
   "source": [
    "#Standardize x_test and x_train\n",
    "from sklearn.preprocessing import StandardScaler\n",
    "\n",
    "X_train_scaled = StandardScaler().fit_transform(X_train)\n",
    "X_train_scaled = pd.DataFrame(X_train_scaled, columns=X_train.columns)\n",
    "\n",
    "X_test_scaled = StandardScaler().fit_transform(X_test)\n",
    "X_test_scaled = pd.DataFrame(X_test_scaled, columns=X_test.columns)"
   ]
  },
  {
   "cell_type": "code",
   "execution_count": 204,
   "metadata": {
    "collapsed": true,
    "deletable": true,
    "editable": true
   },
   "outputs": [],
   "source": [
    "# your code here\n",
    "pca = PCA()\n",
    "pca_train = pca.fit(X_train_scaled) \n",
    "pca_train_X = pca_train.transform(X_train_scaled)\n",
    "pca_test_X = pca_train.transform(X_test_scaled)"
   ]
  },
  {
   "cell_type": "code",
   "execution_count": 205,
   "metadata": {
    "collapsed": false,
    "deletable": true,
    "editable": true
   },
   "outputs": [
    {
     "name": "stdout",
     "output_type": "stream",
     "text": [
      "The shape of PCA decomposition of X_train is (601, 601)\n",
      "The shape of PCA decomposition of X_test is (151, 601)\n"
     ]
    }
   ],
   "source": [
    "print('The shape of PCA decomposition of X_train is {}'.format(pca_train_X.shape))\n",
    "print('The shape of PCA decomposition of X_test is {}'.format(pca_test_X.shape))"
   ]
  },
  {
   "cell_type": "markdown",
   "metadata": {
    "deletable": true,
    "editable": true
   },
   "source": [
    "*Your answer here*\n",
    "\n",
    "The maximum number of PCA components is bound by the smaller number of number of observations and number of columns. "
   ]
  },
  {
   "cell_type": "markdown",
   "metadata": {
    "deletable": true,
    "editable": true
   },
   "source": [
    "**2.2 PCA is often solely used to help in visualizing high-dimensional problems. Plot the scatterplot of the second PCA vector on the  𝑌 -axis and the first PCA vector on the  𝑋 -axis (be sure to denote the classes via different color/markings). In 2-3 sentences, explain why using the scatterplot of the top 2 PCA vectors is a useful approach to visualize a high dimensional classification problem.**"
   ]
  },
  {
   "cell_type": "code",
   "execution_count": 206,
   "metadata": {
    "collapsed": false,
    "deletable": true,
    "editable": true
   },
   "outputs": [
    {
     "data": {
      "text/plain": [
       "(601, 601)"
      ]
     },
     "execution_count": 206,
     "metadata": {},
     "output_type": "execute_result"
    }
   ],
   "source": [
    "pca_train_X.shape"
   ]
  },
  {
   "cell_type": "code",
   "execution_count": 244,
   "metadata": {
    "collapsed": false,
    "deletable": true,
    "editable": true
   },
   "outputs": [
    {
     "data": {
      "text/plain": [
       "Text(0.5,1,'Test set')"
      ]
     },
     "execution_count": 244,
     "metadata": {},
     "output_type": "execute_result"
    },
    {
     "data": {
      "image/png": "[encoded data removed]",
      "text/plain": [
       "<Figure size 1080x360 with 2 Axes>"
      ]
     },
     "metadata": {},
     "output_type": "display_data"
    }
   ],
   "source": [
    "# your code here\n",
    "# pca_train_X[:,0]\n",
    "# pca_train.components_[:,1]\n",
    "y_train.shape\n",
    "color = []\n",
    "for i in y_train:\n",
    "    if i == 0:\n",
    "        color.append('r')\n",
    "    else:\n",
    "        color.append('b')\n",
    "        \n",
    "color1 = []\n",
    "for i in y_test:\n",
    "    if i == 0:\n",
    "        color1.append('r')\n",
    "    else:\n",
    "        color1.append('b')\n",
    "\n",
    "plt.figure(figsize=(15,5))        \n",
    "plt.subplot(1, 2, 1)\n",
    "plt.scatter(pca_train_X[:,0],pca_train_X[:,1],color=color,s = 15)\n",
    "plt.xlabel('First PCA Component Vector')\n",
    "plt.ylabel('Second PCA Component Vector')\n",
    "plt.title('Train set')\n",
    "\n",
    "\n",
    "plt.subplot(1, 2, 2)\n",
    "plt.scatter(pca_test_X[:,0],pca_test_X[:,1],color=color1,s=15)\n",
    "plt.xlabel('First PCA Component Vector')\n",
    "plt.ylabel('Second PCA Component Vector')\n",
    "plt.title('Test set')\n",
    "\n"
   ]
  },
  {
   "cell_type": "markdown",
   "metadata": {
    "deletable": true,
    "editable": true
   },
   "source": [
    "*your answer here*\n",
    "\n",
    "\n",
    "In the list of p principle components Z1,..., Zp, the Zi 's are ordered in decreasing order in the amount of captured observed variance. Therefore the top 2 components can best classify the outcome."
   ]
  },
  {
   "cell_type": "markdown",
   "metadata": {
    "deletable": true,
    "editable": true
   },
   "source": [
    "**2.3 Determine and report the variance explained in `X_train` based on the top 2 PCA vectors.  Determine and report how many PCA vectors are needed so that 90\\% of the variability in the predictors is explained, and create a plot to illustrate this result (Hint: look at cumulative explained variability vs. number of PCA components used).**"
   ]
  },
  {
   "cell_type": "code",
   "execution_count": 262,
   "metadata": {
    "collapsed": false,
    "deletable": true,
    "editable": true
   },
   "outputs": [
    {
     "name": "stdout",
     "output_type": "stream",
     "text": [
      "The variance explained in X_train based on the top 2 PCA vectors is 0.11219678772764469.\n",
      "231 PCA vectors are needed so that 90% of the variability is explained.\n"
     ]
    },
    {
     "data": {
      "text/plain": [
       "Text(0,0.5,'Cumulative variance explained')"
      ]
     },
     "execution_count": 262,
     "metadata": {},
     "output_type": "execute_result"
    },
    {
     "data": {
      "image/png": "[encoded data removed]",
      "text/plain": [
       "<Figure size 432x288 with 1 Axes>"
      ]
     },
     "metadata": {},
     "output_type": "display_data"
    }
   ],
   "source": [
    "# your code here\n",
    "var_2vec = np.sum(pca_train.explained_variance_ratio_[0:2])\n",
    "print('The variance explained in X_train based on the top 2 PCA vectors is {}.'.format(var_2vec))\n",
    "cumsum = np.cumsum(pca_train.explained_variance_ratio_)\n",
    "vec_needed=np.where(cumsum >= 0.9)\n",
    "print('{} PCA vectors are needed so that 90% of the variability is explained.'.format(vec_needed[0][0]))\n",
    "\n",
    "ind = [i for i in range(len(cumsum))]\n",
    "plt.plot(ind, cumsum)\n",
    "plt.xlabel('PCA vectors')\n",
    "plt.ylabel('Cumulative variance explained')\n"
   ]
  },
  {
   "cell_type": "markdown",
   "metadata": {
    "deletable": true,
    "editable": true
   },
   "source": [
    "**2.4 Plot explained variability in the predictors on the  𝑌 -axis and the PCA component number on the 𝑋 -axis. Select a reasonable value for the number of components that balances representativeness (of the predictors) with parsimony and ustify your choice in 1-3 sentences.**"
   ]
  },
  {
   "cell_type": "code",
   "execution_count": 265,
   "metadata": {
    "collapsed": false,
    "deletable": true,
    "editable": true,
    "scrolled": true
   },
   "outputs": [
    {
     "name": "stdout",
     "output_type": "stream",
     "text": [
      "The reasonable value for the number of components is 100 because starting from 100th PCA vector, the explained variance is very close to 0 and thus not very representative. Even though some components after the 100th also capture some variance, but to minimize overfitting, I decide to exclude these vectors from the model.\n"
     ]
    },
    {
     "data": {
      "image/png": "[encoded data removed]",
      "text/plain": [
       "<Figure size 432x288 with 1 Axes>"
      ]
     },
     "metadata": {},
     "output_type": "display_data"
    }
   ],
   "source": [
    "#your code here\n",
    "plt.plot(ind, pca_train.explained_variance_ratio_)\n",
    "plt.xlabel('PCA vectors')\n",
    "plt.ylabel('Variance explained')\n",
    "plt.title('Explained variance vs PCA component number')\n",
    "\n",
    "print('The reasonable value for the number of components is 100 because starting from 100th PCA vector, the explained variance is very close to 0 and thus not very representative. Even though some components after the 100th also capture some variance, but to minimize overfitting, I decide to exclude these vectors from the model.')"
   ]
  },
  {
   "cell_type": "markdown",
   "metadata": {
    "deletable": true,
    "editable": true
   },
   "source": [
    "<div class='exercise'><b> Question 3 [30 pts]: Principal Components Regression (PCR) </b></div>\n",
    "\n",
    "**3.1** Fit three separate Logistic Regression models using principal components as the predictors: (1) with just the first 2 PCA vectors, (2) with the number of component vectors your chose from 2.4 above, and (3) with the number of components that explain at least 90% of the variability in the predictor set. How do the classification accuracy values on both the training and test sets compare with the models fit in Question 1?\n",
    "\n",
    "**3.2** Use cross-validation to determine the best number of principal components. Try out the 3 values from the previous sub-part and optionally include other values as well. For the best performing model according to cross-validation, interpret what the model says about the relationship between `M31523_at` and `Cancer_type`.\n",
    "\n",
    "**3.3** Another way to evaluate models in a classification setting is through an Area-under-the-ROC-Curve (AUC). Briefly explain what the AUC and the ROC are trying to do and how this approach differs (and may be prefered) from evaluating models based on misclassification rate (as you have done thus far in this problem set).\n",
    "\n",
    "**3.4** Evaluate all 6 predictive models (7 if you optionally found a better number of principal components in 3.2) seen in problems 1 and 3 via Area-under-the-ROC-Curve (AUC) on the test set. For the model with the best AUC, plot the ROC. Decide an appropriate strategy for breaking ties, if there are any. Briefly interpret your plot.\n",
    "\n",
    "**3.5** Based on AUC, is there one clear stand-out winner or are a lot of models similar in prediction?  If you were to predict real cancer patients, how would use these models to predict cancer type?"
   ]
  },
  {
   "cell_type": "markdown",
   "metadata": {
    "deletable": true,
    "editable": true
   },
   "source": [
    "<hr>\n",
    "\n",
    "### Solutions"
   ]
  },
  {
   "cell_type": "markdown",
   "metadata": {
    "deletable": true,
    "editable": true
   },
   "source": [
    "**3.1 Fit three separate Logistic Regression models using principal components as the predictors: (1) with just the first 2 PCA vectors, (2) with the number of component vectors your chose from 2.4 above, and (3) with the number of components that explain at least 90% of the variability in the predictor set.  How do the classification accuracy values on both the training and test sets compare with the models fit in Question 1?**"
   ]
  },
  {
   "cell_type": "code",
   "execution_count": 270,
   "metadata": {
    "collapsed": false,
    "deletable": true,
    "editable": true,
    "scrolled": true
   },
   "outputs": [
    {
     "name": "stdout",
     "output_type": "stream",
     "text": [
      "The misclassification rate of the first logreg model on training set is 0.24126455906821964\n",
      "The misclassification rate of the first logreg model on test set is 0.19867549668874174\n",
      "The misclassification rate of the second model on training set is 0.08485856905158073\n",
      "The misclassification rate of the second model on test set is 0.20529801324503316\n",
      "The misclassification rate of the third model on training set is 0.0\n",
      "The misclassification rate of the third model on test set is 0.2516556291390728\n"
     ]
    }
   ],
   "source": [
    "# your code here\n",
    "logreg=LogisticRegression(C=100000,fit_intercept=True, solver='liblinear')\n",
    "\n",
    "# 1. with just the first 2 PCA vectors\n",
    "logreg.fit(pca_train_X[:,0:2],y_train.values.ravel())\n",
    "\n",
    "#model on test model\n",
    "pred_test_1 = logreg.predict(pca_test_X[:,0:2])\n",
    "pred_train_1 = logreg.predict(pca_train_X[:,0:2])\n",
    "accuracy_test=accuracy_score(y_test,pred_test_1,normalize=True)\n",
    "accuracy_train=accuracy_score(y_train,pred_train_1,normalize=True)\n",
    "\n",
    "print('The misclassification rate of the first logreg model on training set is {}'.format(1-accuracy_train))\n",
    "print('The misclassification rate of the first logreg model on test set is {}'.format(1-accuracy_test))\n",
    "\n",
    "# 2. with the number of component vectors your chose from 2.4 above\n",
    "n_components = 100\n",
    "logreg.fit(pca_train_X[:,0:n_components],y_train.values.ravel())\n",
    "\n",
    "pred_test_2 = logreg.predict(pca_test_X[:,0:n_components])\n",
    "pred_train_2 = logreg.predict(pca_train_X[:,0:n_components])\n",
    "accuracy_test=accuracy_score(y_test,pred_test_2,normalize=True)\n",
    "accuracy_train=accuracy_score(y_train,pred_train_2,normalize=True)\n",
    "\n",
    "print('The misclassification rate of the second model on training set is {}'.format(1-accuracy_train))\n",
    "print('The misclassification rate of the second model on test set is {}'.format(1-accuracy_test))\n",
    "\n",
    "# your code here \n",
    "\n",
    "# 3. with the number of components that explain at least 90% of the variability\n",
    "\n",
    "logreg.fit(pca_train_X[:,0:231],y_train.values.ravel())\n",
    "\n",
    "#model on test model\n",
    "pred_test_3 = logreg.predict(pca_test_X[:,0:231])\n",
    "pred_train_3 = logreg.predict(pca_train_X[:,0:231])\n",
    "\n",
    "accuracy_test=accuracy_score(y_test,pred_test_3,normalize=True)\n",
    "accuracy_train=accuracy_score(y_train,pred_train_3,normalize=True)\n",
    "print('The misclassification rate of the third model on training set is {}'.format(1-accuracy_train))\n",
    "print('The misclassification rate of the third model on test set is {}'.format(1-accuracy_test))"
   ]
  },
  {
   "cell_type": "markdown",
   "metadata": {
    "deletable": true,
    "editable": true
   },
   "source": [
    "*your answer here*\n",
    "\n",
    "\n",
    "For test set, KNN model has the best classification accuracy with lowest misclassication rate of 0.139. The PCA models have the misclassification on test set around 0.2. \n",
    "\n",
    "\n",
    "For train set, The misclassification rate for PCA models are very dependent on the number of components chosen. When we chose a large number of components, the accuracy rate is high but the test set accuracy is very low. When we chose components number to be 2, the train set variance is not well captured, and thus the accuracy rate for train set is also very low (missclassification = 0.24).\n",
    "\n"
   ]
  },
  {
   "cell_type": "markdown",
   "metadata": {
    "deletable": true,
    "editable": true
   },
   "source": [
    "**3.2 Use cross-validation to determine the best number of principal components. Try out the 3 values from the previous sub-part and optionally include other values as well. For the best performing model according to cross-validation, interpret what the model says about the relationship between `M31523_at` and `Cancer_type`**."
   ]
  },
  {
   "cell_type": "code",
   "execution_count": null,
   "metadata": {
    "collapsed": true,
    "deletable": true,
    "editable": true
   },
   "outputs": [],
   "source": [
    "# your code here\n"
   ]
  },
  {
   "cell_type": "markdown",
   "metadata": {
    "deletable": true,
    "editable": true
   },
   "source": [
    "**3.3 Another way to evaluate models in a classification setting is through an Area-under-the-ROC-Curve (AUC). Briefly explain what the AUC and the ROC are trying to do and how this approach differs (and may be prefered) from evaluating models based on misclassification rate (as you have done thus far in this problem set).**"
   ]
  },
  {
   "cell_type": "markdown",
   "metadata": {
    "deletable": true,
    "editable": true
   },
   "source": [
    "*your answer here*\n",
    "\n",
    "*The ROC curve is a graph illustrating the disrimination capability of a binary classifer at all classification thresholds, created by plotting true positive rate against the false positive rate at different thresholds. AUC is the two-dimentional area under the roc curve, which represents the degree of separability or the capability of a binary classifier in discriminating two classes.*\n",
    "\n",
    "*The misclassification rate measure of a model depends on the threshold chosen, whereas AUC gives an broader aggregate measure of performance across all possible discrimination thresholds*"
   ]
  },
  {
   "cell_type": "markdown",
   "metadata": {
    "deletable": true,
    "editable": true
   },
   "source": [
    "**3.4 Evaluate all 6 predictive models (7 if you optionally found a better number of principal components in 3.2) seen in problems 1 and 3 via Area-under-the-ROC-Curve (AUC) on the test set. For the best model with the best AUC, plot the ROC. Decide an appropriate strategy for breaking ties, if there are any. Briefly interpret your plot.**"
   ]
  },
  {
   "cell_type": "code",
   "execution_count": 268,
   "metadata": {
    "collapsed": false,
    "deletable": true,
    "editable": true
   },
   "outputs": [
    {
     "data": {
      "image/png": "[encoded data removed]",
      "text/plain": [
       "<Figure size 432x288 with 1 Axes>"
      ]
     },
     "metadata": {},
     "output_type": "display_data"
    },
    {
     "name": "stdout",
     "output_type": "stream",
     "text": [
      "0.8025623025623025 0.7929097929097928 0.7479817479817481\n"
     ]
    }
   ],
   "source": [
    "# your code here\n",
    "\n",
    "#from 3.3\n",
    "score_1 = metrics.roc_auc_score(y_test, pred_test_1)\n",
    "score_2 = metrics.roc_auc_score(y_test, pred_test_2)\n",
    "score_3 = metrics.roc_auc_score(y_test, pred_test_3)\n",
    "\n",
    "\n",
    "# Warning suppose the best model is score_1\n",
    "fpr, tpr, threshold = metrics.roc_curve(y_test, pred_test_1)\n",
    "plt.title('Receiver Operating Characteristic')\n",
    "plt.plot(fpr, tpr, 'b')\n",
    "plt.xlim([0, 1])\n",
    "plt.ylim([0, 1])\n",
    "plt.ylabel('True Positive Rate')\n",
    "plt.xlabel('False Positive Rate')\n",
    "plt.show()\n",
    "\n",
    "print(score_1, score_2, score_3)"
   ]
  },
  {
   "cell_type": "markdown",
   "metadata": {
    "deletable": true,
    "editable": true
   },
   "source": [
    "*The ROC curves is close to the left-hand border and the top borader of the ROC space, which indicates that the model is relatively more accurate in classification*"
   ]
  },
  {
   "cell_type": "markdown",
   "metadata": {
    "deletable": true,
    "editable": true
   },
   "source": [
    "**3.5 Based on AUC, is there one clear stand-out winner or are a lot of models similar in prediction? If you were to predict real cancer patients, how would use these models to predict cancer type?**"
   ]
  },
  {
   "cell_type": "markdown",
   "metadata": {
    "deletable": true,
    "editable": true
   },
   "source": [
    "*your answer here*\n"
   ]
  },
  {
   "cell_type": "markdown",
   "metadata": {
    "deletable": true,
    "editable": true
   },
   "source": [
    "<div class='exercise'><b> Question 4: COMPAS [30 points] </b></div>\n",
    "\n",
    "This problem is unrelated to the first 3 problems, and steps through analyzing the COMPAS data set `compas.csv`.  The variables are roughly explained in the `compas_datadict.csv` file, and ProPublica's analysis is publically available here: https://github.com/propublica/compas-analysis.\n",
    "\n",
    "**4.1** Split the data into 80% training and 20% test stratified by race. Before splitting you may want to process the categorical predictors first so you don't have to do it separately in tain and test later.\n",
    "\n",
    "**4.2** Do a little EDA: explore what variables are related to race. Report 3 variables that appear to have significant differences between Caucasians and African Americans, and provide visuals and numerical summaries to support these chosen variables.\n",
    "\n",
    "**4.3** With respect to these 3 chosen variables, how could bias in the data or data collection be impacting or causing these differences?  Explain in 3-5 sentences.\n",
    "\n",
    "**4.4**. Build 2 seperate models to predict recidivism (`two_year_recid`) from these data (2 different 'classes' of models: $k$-NN, linear, logistic, etc.) and be sure to include race as a predictor. \n",
    "\n",
    "**4.5**. Refit the models in 4.4 without race as a predictor.  Report the overall misclassifcation rates, and compare the differences in false positive and false negative rates between Caucasians and African Americans in these models on the test set.  How do these compare to the models when race is included as a predictor?\n",
    "\n",
    "**4.6**. Given your exploration and modeling of the data, should a predictive tool be trusted to be unbiased even if it doesn’t explicitly use a variable such as race to predict future crime?  Why or why not?  Why is the bias still occurring or not occurring?  Explain in 3-6 sentences total."
   ]
  },
  {
   "cell_type": "markdown",
   "metadata": {
    "deletable": true,
    "editable": true
   },
   "source": [
    "<hr>\n",
    "\n",
    "### Solutions"
   ]
  },
  {
   "cell_type": "markdown",
   "metadata": {
    "deletable": true,
    "editable": true
   },
   "source": [
    "**4.1 Split the data into 80% training and 20% test stratified by race.  Before splitting you may want to process the categorical predictors first so you don't have to do it separately in tain and test later.**"
   ]
  },
  {
   "cell_type": "code",
   "execution_count": null,
   "metadata": {
    "collapsed": true,
    "deletable": true,
    "editable": true
   },
   "outputs": [],
   "source": [
    "compas_df = pd.read_csv('data/compas.csv')\n",
    "\n",
    "# your code here\n",
    "\n"
   ]
  },
  {
   "cell_type": "markdown",
   "metadata": {
    "deletable": true,
    "editable": true
   },
   "source": [
    "**4.2 Do a little EDA: explore what variables are related to race. Report 3 variables that appear to have significant differences between Caucasians and African Americans, and provide visuals and numerical summaries to support these chosen variables.**"
   ]
  },
  {
   "cell_type": "code",
   "execution_count": null,
   "metadata": {
    "collapsed": true,
    "deletable": true,
    "editable": true
   },
   "outputs": [],
   "source": [
    "# your code here\n"
   ]
  },
  {
   "cell_type": "markdown",
   "metadata": {
    "deletable": true,
    "editable": true
   },
   "source": [
    "**4.3 With respect to these 3 chosen variables, how could bias in the data or data collection be impacting or causing these differences? Explain in 3-5 sentences.**"
   ]
  },
  {
   "cell_type": "markdown",
   "metadata": {
    "deletable": true,
    "editable": true
   },
   "source": [
    "*your answer here*"
   ]
  },
  {
   "cell_type": "markdown",
   "metadata": {
    "deletable": true,
    "editable": true
   },
   "source": [
    "**4.4. Build 2 seperate models to predict recidivism (`two_year_recid`) from these data (2 different 'classes' of models:  $k$-NN, linear, logistic, etc.) and be sure to include race as a predictor.**"
   ]
  },
  {
   "cell_type": "code",
   "execution_count": null,
   "metadata": {
    "collapsed": true,
    "deletable": true,
    "editable": true
   },
   "outputs": [],
   "source": [
    "# your code here\n"
   ]
  },
  {
   "cell_type": "markdown",
   "metadata": {
    "deletable": true,
    "editable": true
   },
   "source": [
    "**4.5. Refit the models in 4.4 without race as a predictor. Report the overall misclassifcation rates, and compare the differences in false positive and false negative rates between Caucasians and African Americans in these models on the test set. How do these compare to the models when race is included as a predictor?**"
   ]
  },
  {
   "cell_type": "code",
   "execution_count": null,
   "metadata": {
    "collapsed": true,
    "deletable": true,
    "editable": true
   },
   "outputs": [],
   "source": [
    "# your code here\n"
   ]
  },
  {
   "cell_type": "markdown",
   "metadata": {
    "deletable": true,
    "editable": true
   },
   "source": [
    "**4.6. Given your exploration and modeling of the data, should a predictive tool be trusted to be unbiased even if it doesn’t explicitly use a variable such as race to predict future crime?  Why or why not?  Why is the bias still occurring or not occurring?  Explain in 3-6 sentences total.**"
   ]
  },
  {
   "cell_type": "markdown",
   "metadata": {
    "deletable": true,
    "editable": true
   },
   "source": [
    "*your answer here*\n"
   ]
  },
  {
   "cell_type": "markdown",
   "metadata": {
    "deletable": true,
    "editable": true
   },
   "source": [
    "---"
   ]
  }
 ],
 "metadata": {
  "kernelspec": {
   "display_name": "Python 3",
   "language": "python",
   "name": "python3"
  },
  "language_info": {
   "codemirror_mode": {
    "name": "ipython",
    "version": 3
   },
   "file_extension": ".py",
   "mimetype": "text/x-python",
   "name": "python",
   "nbconvert_exporter": "python",
   "pygments_lexer": "ipython3",
   "version": "3.5.2"
  }
 },
 "nbformat": 4,
 "nbformat_minor": 2
}
