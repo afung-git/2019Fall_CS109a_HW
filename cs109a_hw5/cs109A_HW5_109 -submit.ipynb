{
 "cells": [
  {
   "cell_type": "markdown",
   "metadata": {},
   "source": [
    "\n",
    "# <img style=\"float: left; padding-right: 10px; width: 45px\" src=\"https://raw.githubusercontent.com/Harvard-IACS/2018-CS109A/master/content/styles/iacs.png\"> CS109A Introduction to Data Science\n",
    "\n",
    "## Homework 5: $k$-NN Classification, ROC, and PCA\n",
    "\n",
    "**Harvard University**<br/>\n",
    "**Fall 2019**<br/>\n",
    "**Instructors**: Pavlos Protopapas, Kevin Rader, and Chris Tanner\n",
    "\n",
    "<hr style=\"height:2pt\">\n",
    "\n"
   ]
  },
  {
   "cell_type": "code",
   "execution_count": 1,
   "metadata": {},
   "outputs": [
    {
     "data": {
      "text/html": [
       "<style>\n",
       "blockquote { background: #AEDE94; }\n",
       "h1 { \n",
       "    padding-top: 25px;\n",
       "    padding-bottom: 25px;\n",
       "    text-align: left; \n",
       "    padding-left: 10px;\n",
       "    background-color: #DDDDDD; \n",
       "    color: black;\n",
       "}\n",
       "h2 { \n",
       "    padding-top: 10px;\n",
       "    padding-bottom: 10px;\n",
       "    text-align: left; \n",
       "    padding-left: 5px;\n",
       "    background-color: #EEEEEE; \n",
       "    color: black;\n",
       "}\n",
       "\n",
       "div.exercise {\n",
       "\tbackground-color: #ffcccc;\n",
       "\tborder-color: #E9967A; \t\n",
       "\tborder-left: 5px solid #800080; \n",
       "\tpadding: 0.5em;\n",
       "}\n",
       "\n",
       "span.sub-q {\n",
       "\tfont-weight: bold;\n",
       "}\n",
       "div.theme {\n",
       "\tbackground-color: #DDDDDD;\n",
       "\tborder-color: #E9967A; \t\n",
       "\tborder-left: 5px solid #800080; \n",
       "\tpadding: 0.5em;\n",
       "\tfont-size: 18pt;\n",
       "}\n",
       "div.gc { \n",
       "\tbackground-color: #AEDE94;\n",
       "\tborder-color: #E9967A; \t \n",
       "\tborder-left: 5px solid #800080; \n",
       "\tpadding: 0.5em;\n",
       "\tfont-size: 12pt;\n",
       "}\n",
       "p.q1 { \n",
       "    padding-top: 5px;\n",
       "    padding-bottom: 5px;\n",
       "    text-align: left; \n",
       "    padding-left: 5px;\n",
       "    background-color: #EEEEEE; \n",
       "    color: black;\n",
       "}\n",
       "header {\n",
       "   padding-top: 35px;\n",
       "    padding-bottom: 35px;\n",
       "    text-align: left; \n",
       "    padding-left: 10px;\n",
       "    background-color: #DDDDDD; \n",
       "    color: black;\n",
       "}\n",
       "</style>\n",
       "\n"
      ],
      "text/plain": [
       "<IPython.core.display.HTML object>"
      ]
     },
     "execution_count": 1,
     "metadata": {},
     "output_type": "execute_result"
    }
   ],
   "source": [
    "#RUN THIS CELL \n",
    "import requests\n",
    "from IPython.core.display import HTML\n",
    "styles = requests.get(\"https://raw.githubusercontent.com/Harvard-IACS/2018-CS109A/master/content/styles/cs109.css\").text\n",
    "HTML(styles)"
   ]
  },
  {
   "cell_type": "markdown",
   "metadata": {},
   "source": [
    "### INSTRUCTIONS\n",
    "\n",
    "- To submit your assignment follow the instructions given in Canvas.\n",
    "- Restart the kernel and run the whole notebook again before you submit. \n",
    "- As much as possible, try and stick to the hints and functions we import at the top of the homework, as those are the ideas and tools the class supports and is aiming to teach. And if a problem specifies a particular library you're required to use that library, and possibly others from the import list.\n",
    "- Please use .head() when viewing data. Do not submit a notebook that is excessively long because output was not suppressed or otherwise limited."
   ]
  },
  {
   "cell_type": "code",
   "execution_count": 2,
   "metadata": {},
   "outputs": [
    {
     "name": "stderr",
     "output_type": "stream",
     "text": [
      "C:\\Users\\sugar\\AppData\\Local\\Enthought\\Canopy\\edm\\envs\\User\\lib\\site-packages\\statsmodels\\compat\\pandas.py:56: FutureWarning: The pandas.core.datetools module is deprecated and will be removed in a future version. Please use the pandas.tseries module instead.\n",
      "  from pandas.core import datetools\n"
     ]
    }
   ],
   "source": [
    "import numpy as np\n",
    "import pandas as pd\n",
    "from scipy.stats import ttest_ind\n",
    "pd.set_option('display.max_columns', 25)\n",
    "\n",
    "from sklearn.linear_model import LinearRegression\n",
    "from sklearn.linear_model import LogisticRegression\n",
    "from sklearn.linear_model import LogisticRegressionCV\n",
    "from sklearn.linear_model import LassoCV\n",
    "\n",
    "from sklearn.neighbors import KNeighborsClassifier\n",
    "from sklearn.model_selection import cross_val_score\n",
    "from sklearn.metrics import accuracy_score\n",
    "from sklearn.model_selection import KFold\n",
    "from sklearn.preprocessing import MinMaxScaler\n",
    "from sklearn.model_selection import train_test_split\n",
    "from sklearn.decomposition import PCA\n",
    "from sklearn import metrics\n",
    "\n",
    "import matplotlib\n",
    "import matplotlib.pyplot as plt\n",
    "%matplotlib inline\n",
    "\n",
    "import statsmodels.api as sm\n",
    "from statsmodels.api import OLS\n",
    "\n",
    "import seaborn as sns\n",
    "sns.set()"
   ]
  },
  {
   "cell_type": "markdown",
   "metadata": {},
   "source": [
    "\n",
    "## Continuing Cancer Classification from Gene Expressions\n",
    "\n",
    "In this problem, we will continue to work with the 2-class (ALL vs. AML) cancer classification problem from homework 4. The dataset is provided in the file `data/hw4_enhance.csv` and is the same as the previous HW.  Recall: **0 indicates the ALL** class and **1 indicates the AML** class within `Cancer_type`, and columns 2-7130 contain expression levels of 7129 genes recorded from each tissue sample. \n",
    "\n",
    "In the following questions, we will handle the high dimensionality of this problem directly by applying Principal Component Analysis (PCA), and then use the resulting PCA-transformed in logistic regression and $k$-NN modeling."
   ]
  },
  {
   "cell_type": "markdown",
   "metadata": {},
   "source": [
    "<div class='exercise'><b> Question 1 [20 pts]: Baseline Modeling </b></div>\n",
    "\n",
    "First step is to split the observations into an approximate 80-20 train-test split.  Below is the same code from HW4 to do this for you (we again want to make sure everyone has the same splits). Use the training data set to answer the following questions:\n"
   ]
  },
  {
   "cell_type": "markdown",
   "metadata": {},
   "source": [
    "**First step is to split the observations into an approximate 80-20 train-test split. Below is some code to do this for you (we want to make sure everyone has the same splits). `Cancer_type` is again our target column.**"
   ]
  },
  {
   "cell_type": "code",
   "execution_count": 3,
   "metadata": {
    "collapsed": true
   },
   "outputs": [],
   "source": [
    "np.random.seed(10)\n",
    "df = pd.read_csv('data/hw4_enhance.csv', index_col=0)\n",
    "\n",
    "X_train, X_test, y_train, y_test =train_test_split(df.loc[:, df.columns != 'Cancer_type'], \n",
    "                                                         df.Cancer_type, test_size=0.2, \n",
    "                                                         random_state = 109, \n",
    "                                                         stratify = df.Cancer_type)"
   ]
  },
  {
   "cell_type": "markdown",
   "metadata": {},
   "source": [
    "**1.1** Begin by normalizing all predictors just like you did in HW4.  Use these versions of the predictors throughout this assignment.\n",
    "\n",
    "**1.2** Fit an 'unregularized' multiple logistic regression model (set C=100000) with all the gene predictors from the data set (you did this in HW4).  Report the misclassification rate on both the train and test sets.\n",
    "\n",
    "**1.3** Use regularization to improve the predictions from the multiple logistic regression model. Specifically, use LASSO-like regularization and cross-validation to train the model on the training set (you did this in HW4).  Report the classification accuracy on both the train and test sets.\n",
    "\n",
    "**1.4** Use 5-fold cross-validation to select $k$ for a $k$-NN classification model based on the full predictor set.  Choose between `k = 1,2,5,10,20,50,100,200,500`. \n",
    "\n",
    "**1.5** Provide the confusion matrix for all 3 models above and report the false positive and false negative rates (all in the test set).  Briefly interpret what you notice.\n"
   ]
  },
  {
   "cell_type": "markdown",
   "metadata": {},
   "source": [
    "<hr>\n",
    "\n",
    "### Solutions"
   ]
  },
  {
   "cell_type": "markdown",
   "metadata": {},
   "source": [
    "**1.1 Begin by normalizing all predictors just like you did in HW4.  Use these versions of the predictors throughout this assignment.**"
   ]
  },
  {
   "cell_type": "code",
   "execution_count": 4,
   "metadata": {},
   "outputs": [],
   "source": [
    "# your code here\n",
    "scaler = MinMaxScaler()\n",
    "X_train_scaled = X_train.copy()\n",
    "X_train_scaled[X_train_scaled.columns] = scaler.fit_transform(X_train_scaled[X_train_scaled.columns])\n",
    "X_train_scaled.describe()\n",
    "\n",
    "X_test_scaled = X_test.copy()\n",
    "X_test_scaled[X_test_scaled.columns] = scaler.transform(X_test_scaled[X_test_scaled.columns])"
   ]
  },
  {
   "cell_type": "markdown",
   "metadata": {},
   "source": [
    "**1.2 Fit an 'unregularized' multiple logistic regression model (set C=100000) with all the gene predictors from the data set (you did this in HW4).  Report the misclassification rate on both the train and test sets.**"
   ]
  },
  {
   "cell_type": "code",
   "execution_count": 5,
   "metadata": {},
   "outputs": [
    {
     "name": "stdout",
     "output_type": "stream",
     "text": [
      "The misclassification rate on the training set is 0.0%.\n",
      "The misclassification rate on the test set is 22.516556291390728%.\n"
     ]
    }
   ],
   "source": [
    "# your code here\n",
    "logit_allgenes=LogisticRegression(C=100000).fit(X_train_scaled.values, y_train)\n",
    "y_train_pred_logit_allgenes=logit_allgenes.predict(X_train_scaled.values)\n",
    "y_test_pred_logit_allgenes=logit_allgenes.predict(X_test_scaled.values)\n",
    "\n",
    "print('The misclassification rate on the training set is {}%.'.format(100-accuracy_score(y_train,y_train_pred_logit_allgenes)*100))\n",
    "print('The misclassification rate on the test set is {}%.'.format(100-accuracy_score(y_test,y_test_pred_logit_allgenes)*100))"
   ]
  },
  {
   "cell_type": "markdown",
   "metadata": {},
   "source": [
    "**1.3 Use regularization to improve the predictions from the multiple logistic regression model. Specifically, use LASSO-like regularization and cross-validation to train the model on the training set (you did this in HW4).  eport the misclassification rate on both the train and test sets.**"
   ]
  },
  {
   "cell_type": "code",
   "execution_count": 6,
   "metadata": {},
   "outputs": [
    {
     "name": "stdout",
     "output_type": "stream",
     "text": [
      "The misclassification rate on the training set is 8.985024958402661%.\n",
      "The misclassification rate on the test set is 13.907284768211923%.\n"
     ]
    }
   ],
   "source": [
    "# your code here\n",
    "logistic_cv=LogisticRegressionCV(penalty='l1',solver='liblinear').fit(X_train_scaled.values, y_train)\n",
    "y_train_pred_logit_cv=logistic_cv.predict(X_train_scaled.values)\n",
    "y_test_pred_logit_cv=logistic_cv.predict(X_test_scaled.values)\n",
    "print('The misclassification rate on the training set is {}%.'.format(100-accuracy_score(y_train,y_train_pred_logit_cv)*100))\n",
    "print('The misclassification rate on the test set is {}%.'.format(100-accuracy_score(y_test,y_test_pred_logit_cv)*100))\n"
   ]
  },
  {
   "cell_type": "markdown",
   "metadata": {},
   "source": [
    "**1.4 Use 5-fold cross-validation to select $k$ for a $k$-NN classification model based on the full predictor set.  Choose between `ks = [1,2,3,4,5,7,9,10,15,25]`.  Report your chosen $k$, and report the misclassification rate on both the train and test sets for the model using your chosen $k$.**"
   ]
  },
  {
   "cell_type": "code",
   "execution_count": 7,
   "metadata": {},
   "outputs": [],
   "source": [
    "# your code here\n",
    "ks = [1,2,3,4,5,7,9,10,15,25]\n",
    "knnmodels = []\n",
    "cv_scores = []\n",
    "for k in ks:\n",
    "    KNN = KNeighborsClassifier(n_neighbors = k)\n",
    "    # train model with cv of 5\n",
    "    cv_score = cross_val_score(KNN, X_train_scaled,y_train,cv=5)\n",
    "    mean = np.mean(cv_score)\n",
    "    cv_score = np.append(cv_score,mean)\n",
    "    cv_scores.append(cv_score)\n",
    "    knnmodels.append(KNN.fit(X_train_scaled,y_train))"
   ]
  },
  {
   "cell_type": "code",
   "execution_count": 8,
   "metadata": {},
   "outputs": [
    {
     "data": {
      "image/png": "[encoded data removed]",
      "text/plain": [
       "<matplotlib.figure.Figure at 0x2b067306438>"
      ]
     },
     "metadata": {},
     "output_type": "display_data"
    }
   ],
   "source": [
    "fig,ax=plt.subplots(1,1)\n",
    "ax.boxplot(cv_scores)\n",
    "ax.set_xticklabels(ks)\n",
    "ax.set_ylabel('mean accuracy')\n",
    "ax.set_xlabel('k')\n",
    "plt.show()"
   ]
  },
  {
   "cell_type": "markdown",
   "metadata": {},
   "source": [
    "When k=7 or 9, the the scores have high mean and relatively low variance. For pasymony, pick k=7."
   ]
  },
  {
   "cell_type": "code",
   "execution_count": 9,
   "metadata": {},
   "outputs": [
    {
     "name": "stdout",
     "output_type": "stream",
     "text": [
      "The misclassification rate on train set of KNN model with k=7 is 9.816971713810318%\n",
      "The misclassification rate on test set of KNN model with k=7 is 13.907284768211925%\n"
     ]
    }
   ],
   "source": [
    "KNN = KNeighborsClassifier(n_neighbors = 7)\n",
    "KNN.fit(X_train_scaled,y_train)\n",
    "knn_train_pred = KNN.predict(X_train_scaled)\n",
    "knn_test_pred = KNN.predict(X_test_scaled)\n",
    "accuracy_train = accuracy_score(y_train,knn_train_pred)\n",
    "accuracy_test = accuracy_score(y_test,knn_test_pred)\n",
    "mis_train = 1-accuracy_train\n",
    "mis_test = 1-accuracy_test\n",
    "print('The misclassification rate on train set of KNN model with k=7 is {}%'.format(100*mis_train))\n",
    "print('The misclassification rate on test set of KNN model with k=7 is {}%'.format(100*mis_test))"
   ]
  },
  {
   "cell_type": "markdown",
   "metadata": {},
   "source": [
    "**1.5 Provide the confusion matrix for all 3 models above and report the false positive and false negative rates (all in the test set).  Briefly interpret what you notice.**"
   ]
  },
  {
   "cell_type": "code",
   "execution_count": 10,
   "metadata": {
    "scrolled": true
   },
   "outputs": [
    {
     "name": "stdout",
     "output_type": "stream",
     "text": [
      "In unregularized model:\n",
      "[[65 12]\n",
      " [22 52]]\n",
      "False positive rate: 15.584415584415584%\n",
      "False negative rate: 29.72972972972973%\n",
      "In LASSO logistic:\n",
      "[[67 10]\n",
      " [11 63]]\n",
      "False positive rate: 12.987012987012987%\n",
      "False negative rate: 14.864864864864865%\n",
      "In KNN:\n",
      "[[67 10]\n",
      " [11 63]]\n",
      "False positive rate: 12.987012987012987%\n",
      "False negative rate: 14.864864864864865%\n"
     ]
    }
   ],
   "source": [
    "# your code here\n",
    "from sklearn.metrics import confusion_matrix\n",
    "#unregularized logistic  \n",
    "cm1 = confusion_matrix(y_test, y_test_pred_logit_allgenes)\n",
    "print('In unregularized model:')\n",
    "print(cm1)\n",
    "print('False positive rate: {}%'.format(100*cm1.ravel()[1]/(cm1.ravel()[1]+cm1.ravel()[0])))\n",
    "print('False negative rate: {}%'.format(100*cm1.ravel()[2]/(cm1.ravel()[2]+cm1.ravel()[3])))\n",
    "#lasso logistic \n",
    "cm2 = confusion_matrix(y_test, y_test_pred_logit_cv)\n",
    "print('In LASSO logistic:')\n",
    "print(cm2)\n",
    "print('False positive rate: {}%'.format(100*cm2.ravel()[1]/(cm2.ravel()[1]+cm2.ravel()[0])))\n",
    "print('False negative rate: {}%'.format(100*cm2.ravel()[2]/(cm2.ravel()[2]+cm2.ravel()[3])))\n",
    "#knn\n",
    "cm3 = confusion_matrix(y_test, knn_test_pred)\n",
    "print('In KNN:')\n",
    "print(cm3)\n",
    "print('False positive rate: {}%'.format(100*cm3.ravel()[1]/(cm3.ravel()[1]+cm3.ravel()[0])))\n",
    "print('False negative rate: {}%'.format(100*cm3.ravel()[2]/(cm3.ravel()[2]+cm3.ravel()[3])))"
   ]
  },
  {
   "cell_type": "markdown",
   "metadata": {},
   "source": [
    "*your answer here*  \n",
    "With the default probability threshold (0.5), LASSO-logistic and KNN models gives better prediction than the unregularized model. One possible reason is that the unregularized model uses too many predictors, and may contain unnecessary information."
   ]
  },
  {
   "cell_type": "markdown",
   "metadata": {},
   "source": [
    "<div class='exercise'><b> Question 2 [20 pts]: Performing Principal Components Analysis </b></div>"
   ]
  },
  {
   "cell_type": "markdown",
   "metadata": {},
   "source": [
    "**2.1** Create the full PCA decomposition of `X_train` and apply the transformation to both `X_train` and `X_test`.  Report the shape of both of these.  What is the limiting factor for the maximum number of PCA components for this data set? \n",
    "\n",
    "**2.2** PCA is often solely used to help in visualizing high-dimensional problems.  Plot the scatterplot of the second PCA vector of train on the $Y$-axis and the first PCA vector of train on the $X$-axis (be sure to denote the classes via different color/markings).  In 2-3 sentences, explain why using the scatterplot of the top 2 PCA vectors is a useful approach to visualize a high dimensional classification problem.\n",
    "\n",
    "**2.3** Determine and report the variance explained in `X_train` based on the top 2 PCA vectors.  Determine and report how many PCA vectors are needed so that 90\\% of the variability in the predictors is explained, and create a plot to illustrate this result (Hint: look at cumulative explained variability vs. number of PCA components used).\n",
    "\n",
    "**2.4** Plot explained variability in the predictors on the $Y$-axis and the PCA component number on the $X$-axis. Select a reasonable value for the number of components that balances representativeness (of the predictors) with parsimony and justify your choice with 1-3 sentences."
   ]
  },
  {
   "cell_type": "markdown",
   "metadata": {},
   "source": [
    "<hr>\n",
    "\n",
    "### Solutions"
   ]
  },
  {
   "cell_type": "markdown",
   "metadata": {},
   "source": [
    "**2.1 Create the full PCA decomposition of X_train and apply the transformation to both X_train and X_test. Report the shape of both of these. What is the limiting factor for the maximum number of PCA components for this data set?**"
   ]
  },
  {
   "cell_type": "code",
   "execution_count": 11,
   "metadata": {
    "collapsed": true
   },
   "outputs": [],
   "source": [
    "# your code here\n",
    "from sklearn.preprocessing import StandardScaler\n",
    "\n",
    "scaler_pca = StandardScaler()\n",
    "X_train_scaled_pca = X_train.copy()\n",
    "X_train_scaled_pca[X_train_scaled_pca.columns] = scaler_pca.fit_transform(X_train_scaled_pca[X_train_scaled_pca.columns])\n",
    "\n",
    "X_test_scaled_pca = X_test.copy()\n",
    "X_test_scaled_pca[X_test_scaled_pca.columns] = scaler_pca.transform(X_test_scaled_pca[X_test_scaled_pca.columns])\n"
   ]
  },
  {
   "cell_type": "code",
   "execution_count": 12,
   "metadata": {},
   "outputs": [
    {
     "name": "stdout",
     "output_type": "stream",
     "text": [
      "The shape of PCA decomposition of X_train is (601, 601)\n",
      "The shape of PCA decomposition of X_test is (151, 601)\n"
     ]
    }
   ],
   "source": [
    "pca = PCA()\n",
    "pca_train = pca.fit(X_train_scaled_pca) \n",
    "pca_train_X = pca_train.transform(X_train_scaled_pca)\n",
    "pca_test_X = pca_train.transform(X_test_scaled_pca)\n",
    "print('The shape of PCA decomposition of X_train is {}'.format(pca_train_X.shape))\n",
    "print('The shape of PCA decomposition of X_test is {}'.format(pca_test_X.shape))"
   ]
  },
  {
   "cell_type": "markdown",
   "metadata": {},
   "source": [
    "*Your answer here*  \n",
    "The maximum number of PCA components is bound by the smaller number of number of observations and number of columns. "
   ]
  },
  {
   "cell_type": "markdown",
   "metadata": {},
   "source": [
    "**2.2 PCA is often solely used to help in visualizing high-dimensional problems. Plot the scatterplot of the second PCA vector on the  𝑌 -axis and the first PCA vector on the  𝑋 -axis (be sure to denote the classes via different color/markings). In 2-3 sentences, explain why using the scatterplot of the top 2 PCA vectors is a useful approach to visualize a high dimensional classification problem.**"
   ]
  },
  {
   "cell_type": "code",
   "execution_count": 13,
   "metadata": {},
   "outputs": [
    {
     "data": {
      "image/png": "[encoded data removed]",
      "text/plain": [
       "<matplotlib.figure.Figure at 0x2b06df58eb8>"
      ]
     },
     "metadata": {},
     "output_type": "display_data"
    }
   ],
   "source": [
    "# your code here\n",
    "colors = ['r','b']\n",
    "label_text = [\"ALL\", \"AML\"]\n",
    "\n",
    "fig, axes=plt.subplots(1,2,figsize=(15,6))\n",
    "for outcome in [0,1]:\n",
    "    outcome_df = pca_train_X[y_train==outcome]\n",
    "    axes[0].scatter(outcome_df[:,0], outcome_df[:,1], c = colors[outcome], label=label_text[outcome],s=15)\n",
    "    axes[0].legend()\n",
    "    axes[0].set_title('Training')\n",
    "    axes[0].set_xlabel('Principal Component 1')\n",
    "    axes[0].set_ylabel('Principal Component 2')\n",
    "    \n",
    "for outcome in [0,1]:\n",
    "    outcome_df = pca_test_X[y_test==outcome]\n",
    "    axes[1].scatter(outcome_df[:,0], outcome_df[:,1], c = colors[outcome], label=label_text[outcome],s=15)\n",
    "    axes[1].legend()\n",
    "    axes[1].set_title('Test')\n",
    "    axes[1].set_xlabel('Principal Component 1')\n",
    "    axes[1].set_ylabel('Principal Component 2')\n"
   ]
  },
  {
   "cell_type": "markdown",
   "metadata": {},
   "source": [
    "*your answer here*  \n",
    "In the list of p principle components Z1,..., Zp, the Zi 's are ordered in decreasing order in the amount of captured observed variance. Therefore the top 2 components can retain majority of information and best classify the outcome.\n"
   ]
  },
  {
   "cell_type": "markdown",
   "metadata": {},
   "source": [
    "**2.3 Determine and report the variance explained in `X_train` based on the top 2 PCA vectors.  Determine and report how many PCA vectors are needed so that 90\\% of the variability in the predictors is explained, and create a plot to illustrate this result (Hint: look at cumulative explained variability vs. number of PCA components used).**"
   ]
  },
  {
   "cell_type": "code",
   "execution_count": 14,
   "metadata": {},
   "outputs": [
    {
     "name": "stdout",
     "output_type": "stream",
     "text": [
      "The variance explained in X_train based on the principle component 1 is 6.28154588325458%.\n",
      "The variance explained in X_train based on the principle component 2 is 4.938132889509878%.\n",
      "The variance explained in X_train based on the top 2 PCA vectors is 11.219678772764457%.\n",
      "232 PCA vectors are needed so that 90% of the variability is explained.\n"
     ]
    },
    {
     "data": {
      "text/plain": [
       "<matplotlib.text.Text at 0x2b06da8c908>"
      ]
     },
     "execution_count": 14,
     "metadata": {},
     "output_type": "execute_result"
    },
    {
     "data": {
      "image/png": "[encoded data removed]",
      "text/plain": [
       "<matplotlib.figure.Figure at 0x2b06e0f9630>"
      ]
     },
     "metadata": {},
     "output_type": "display_data"
    }
   ],
   "source": [
    "# your code here\n",
    "print('The variance explained in X_train based on the principle component 1 is {}%.'.format(100*pca_train.explained_variance_ratio_[0]))\n",
    "print('The variance explained in X_train based on the principle component 2 is {}%.'.format(100*pca_train.explained_variance_ratio_[1]))\n",
    "var_2vec = np.sum(pca_train.explained_variance_ratio_[0:2])\n",
    "print('The variance explained in X_train based on the top 2 PCA vectors is {}%.'.format(100*var_2vec))\n",
    "cumsum = np.cumsum(pca_train.explained_variance_ratio_)\n",
    "vec_needed=np.where(cumsum >= 0.9)\n",
    "print('{} PCA vectors are needed so that 90% of the variability is explained.'.format(vec_needed[0][0]+1))\n",
    "\n",
    "ind = [i for i in range(len(cumsum))]\n",
    "plt.plot(ind, cumsum)\n",
    "plt.xlabel('PCA vectors')\n",
    "plt.ylabel('Cumulative variance explained')"
   ]
  },
  {
   "cell_type": "markdown",
   "metadata": {},
   "source": [
    "**2.4 Plot explained variability in the predictors on the  𝑌 -axis and the PCA component number on the 𝑋 -axis. Select a reasonable value for the number of components that balances representativeness (of the predictors) with parsimony and ustify your choice in 1-3 sentences.**"
   ]
  },
  {
   "cell_type": "code",
   "execution_count": 15,
   "metadata": {},
   "outputs": [
    {
     "data": {
      "text/plain": [
       "<matplotlib.text.Text at 0x2b06df73c88>"
      ]
     },
     "execution_count": 15,
     "metadata": {},
     "output_type": "execute_result"
    },
    {
     "data": {
      "image/png": "[encoded data removed]",
      "text/plain": [
       "<matplotlib.figure.Figure at 0x2b06e0eaa20>"
      ]
     },
     "metadata": {},
     "output_type": "display_data"
    }
   ],
   "source": [
    "#your code here\n",
    "plt.plot(ind, pca_train.explained_variance_ratio_)\n",
    "plt.xlabel('PCA vectors')\n",
    "plt.ylabel('Variance explained')\n",
    "plt.title('Explained variance vs PCA component number')"
   ]
  },
  {
   "cell_type": "markdown",
   "metadata": {},
   "source": [
    "The reasonable value for the number of components is 100 because starting from 100th PCA vector, the explained variance is very close to 0 and thus not very representative. Even though some components after the 100th also capture some variance, but to minimize overfitting, I decide to exclude these vectors from the model."
   ]
  },
  {
   "cell_type": "markdown",
   "metadata": {},
   "source": [
    "<div class='exercise'><b> Question 3 [30 pts]: Principal Components Regression (PCR) </b></div>\n",
    "\n",
    "**3.1** Fit three separate Logistic Regression models using principal components as the predictors: (1) with just the first 2 PCA vectors, (2) with the number of component vectors your chose from 2.4 above, and (3) with the number of components that explain at least 90% of the variability in the predictor set. How do the classification accuracy values on both the training and test sets compare with the models fit in Question 1?\n",
    "\n",
    "**3.2** Use cross-validation to determine the best number of principal components. Try out the 3 values from the previous sub-part and optionally include other values as well. For the best performing model according to cross-validation, interpret what the model says about the relationship between `M31523_at` and `Cancer_type`.\n",
    "\n",
    "**3.3** Another way to evaluate models in a classification setting is through an Area-under-the-ROC-Curve (AUC). Briefly explain what the AUC and the ROC are trying to do and how this approach differs (and may be prefered) from evaluating models based on misclassification rate (as you have done thus far in this problem set).\n",
    "\n",
    "**3.4** Evaluate all 6 predictive models (7 if you optionally found a better number of principal components in 3.2) seen in problems 1 and 3 via Area-under-the-ROC-Curve (AUC) on the test set. For the model with the best AUC, plot the ROC. Decide an appropriate strategy for breaking ties, if there are any. Briefly interpret your plot.\n",
    "\n",
    "**3.5** Based on AUC, is there one clear stand-out winner or are a lot of models similar in prediction?  If you were to predict real cancer patients, how would use these models to predict cancer type?"
   ]
  },
  {
   "cell_type": "markdown",
   "metadata": {},
   "source": [
    "<hr>\n",
    "\n",
    "### Solutions"
   ]
  },
  {
   "cell_type": "markdown",
   "metadata": {},
   "source": [
    "**3.1 Fit three separate Logistic Regression models using principal components as the predictors: (1) with just the first 2 PCA vectors, (2) with the number of component vectors your chose from 2.4 above, and (3) with the number of components that explain at least 90% of the variability in the predictor set.  How do the classification accuracy values on both the training and test sets compare with the models fit in Question 1?**"
   ]
  },
  {
   "cell_type": "code",
   "execution_count": 16,
   "metadata": {},
   "outputs": [
    {
     "name": "stdout",
     "output_type": "stream",
     "text": [
      "The misclassification rate of the first logreg model on training set is 24.126455906821963%\n",
      "The misclassification rate of the first logreg model on test set is 23.178807947019862%\n",
      "The misclassification rate of the second model on training set is 8.485856905158073%\n",
      "The misclassification rate of the second model on test set is 16.55629139072847%\n",
      "The misclassification rate of the third model on training set is 0.0%\n",
      "The misclassification rate of the third model on test set is 25.82781456953642%\n"
     ]
    }
   ],
   "source": [
    "# your code here\n",
    "logreg=LogisticRegression(C=100000,fit_intercept=True, solver='liblinear')\n",
    "\n",
    "# 1. with just the first 2 PCA vectors\n",
    "logreg.fit(pca_train_X[:,0:2],y_train.values.ravel())\n",
    "\n",
    "#model on test model\n",
    "pred_test_1 = logreg.predict(pca_test_X[:,0:2])\n",
    "pred_train_1 = logreg.predict(pca_train_X[:,0:2])\n",
    "accuracy_test=accuracy_score(y_test,pred_test_1,normalize=True)\n",
    "accuracy_train=accuracy_score(y_train,pred_train_1,normalize=True)\n",
    "\n",
    "print('The misclassification rate of the first logreg model on training set is {}%'.format((1-accuracy_train)*100))\n",
    "print('The misclassification rate of the first logreg model on test set is {}%'.format((1-accuracy_test)*100))\n",
    "\n",
    "# 2. with the number of component vectors your chose from 2.4 above\n",
    "n_components = 100\n",
    "logreg.fit(pca_train_X[:,0:n_components],y_train.values.ravel())\n",
    "\n",
    "pred_test_2 = logreg.predict(pca_test_X[:,0:n_components])\n",
    "pred_train_2 = logreg.predict(pca_train_X[:,0:n_components])\n",
    "accuracy_test=accuracy_score(y_test,pred_test_2,normalize=True)\n",
    "accuracy_train=accuracy_score(y_train,pred_train_2,normalize=True)\n",
    "\n",
    "print('The misclassification rate of the second model on training set is {}%'.format((1-accuracy_train)*100))\n",
    "print('The misclassification rate of the second model on test set is {}%'.format((1-accuracy_test)*100))\n",
    "\n",
    "# your code here \n",
    "\n",
    "# 3. with the number of components that explain at least 90% of the variability\n",
    "\n",
    "logreg.fit(pca_train_X[:,0:232],y_train.values.ravel())\n",
    "\n",
    "#model on test model\n",
    "pred_test_3 = logreg.predict(pca_test_X[:,0:232])\n",
    "pred_train_3 = logreg.predict(pca_train_X[:,0:232])\n",
    "\n",
    "accuracy_test=accuracy_score(y_test,pred_test_3,normalize=True)\n",
    "accuracy_train=accuracy_score(y_train,pred_train_3,normalize=True)\n",
    "print('The misclassification rate of the third model on training set is {}%'.format((1-accuracy_train)*100))\n",
    "print('The misclassification rate of the third model on test set is {}%'.format((1-accuracy_test)*100))"
   ]
  },
  {
   "cell_type": "markdown",
   "metadata": {},
   "source": [
    "*your answer here*  \n",
    "For test set, LASSO-logistic and KNN model have the best classification accuracy with lowest misclassication rate of 0.139. The PCA models have the misclassification on test set around 0.2. \n",
    "\n",
    "For train set, The misclassification rate for PCA models are very dependent on the number of components chosen. When we chose a large number of components, the accuracy rate is high but the test set accuracy is very low. When we chose components number to be 2, the train set variance is not well captured, and thus the accuracy rate for train set is also very low (missclassification = 0.24)."
   ]
  },
  {
   "cell_type": "markdown",
   "metadata": {},
   "source": [
    "**3.2 Use cross-validation to determine the best number of principal components. Try out the 3 values from the previous sub-part and optionally include other values as well. For the best performing model according to cross-validation, interpret what the model says about the relationship between `M31523_at` and `Cancer_type`**."
   ]
  },
  {
   "cell_type": "code",
   "execution_count": 17,
   "metadata": {},
   "outputs": [],
   "source": [
    "components = [2,10,25,50,60,70,80,90,100,150,200,232,250,300,350,400,450,500,550,601]\n",
    "pcamodels = []\n",
    "cv_scores_pca = []\n",
    "for k in components:\n",
    "    logit_pca = LogisticRegression(C=100000,fit_intercept=True, solver='liblinear')\n",
    "    # train model with cv of 5\n",
    "    cv_score = cross_val_score(logit_pca, pca_train_X[:,0:k],y_train,cv=5)\n",
    "    mean = np.mean(cv_score)\n",
    "    cv_score = np.append(cv_score,mean)\n",
    "    cv_scores_pca.append(cv_score)\n",
    "    pcamodels.append(logit_pca.fit(pca_train_X[:,0:k],y_train))"
   ]
  },
  {
   "cell_type": "code",
   "execution_count": 18,
   "metadata": {},
   "outputs": [
    {
     "data": {
      "image/png": "[encoded data removed]",
      "text/plain": [
       "<matplotlib.figure.Figure at 0x2b06e00fa90>"
      ]
     },
     "metadata": {},
     "output_type": "display_data"
    }
   ],
   "source": [
    "fig,ax=plt.subplots(1,1)\n",
    "ax.boxplot(cv_scores_pca)\n",
    "ax.set_xticklabels(components)\n",
    "ax.set_ylabel('mean accuracy')\n",
    "ax.set_xlabel('Number of components')\n",
    "plt.show()"
   ]
  },
  {
   "cell_type": "markdown",
   "metadata": {},
   "source": [
    "The model with 25 components seems good (high mean accuracy and low variance). "
   ]
  },
  {
   "cell_type": "code",
   "execution_count": 19,
   "metadata": {},
   "outputs": [
    {
     "data": {
      "text/plain": [
       "6854"
      ]
     },
     "execution_count": 19,
     "metadata": {},
     "output_type": "execute_result"
    }
   ],
   "source": [
    "X_train.columns.get_loc('M31523_at')"
   ]
  },
  {
   "cell_type": "code",
   "execution_count": 20,
   "metadata": {},
   "outputs": [
    {
     "data": {
      "text/plain": [
       "-0.014916248704635411"
      ]
     },
     "execution_count": 20,
     "metadata": {},
     "output_type": "execute_result"
    }
   ],
   "source": [
    "pca_25=pcamodels[2]\n",
    "sum_effect=0\n",
    "for i in range(25):\n",
    "    sum_effect+= pca.components_[0:25][i][6854]*pca_25.coef_[0][i]\n",
    "sum_effect"
   ]
  },
  {
   "cell_type": "code",
   "execution_count": 21,
   "metadata": {},
   "outputs": [
    {
     "data": {
      "text/plain": [
       "0.98519444745910523"
      ]
     },
     "execution_count": 21,
     "metadata": {},
     "output_type": "execute_result"
    }
   ],
   "source": [
    "np.exp(sum_effect)"
   ]
  },
  {
   "cell_type": "markdown",
   "metadata": {},
   "source": [
    "The slope (coefficient) of M31523_at in this model is -0.0149. Holding all other constant, the odds of having AML against ALL is 0.985 times of the odds of having AML against ALL among those with one unit less M31523_at expression."
   ]
  },
  {
   "cell_type": "markdown",
   "metadata": {},
   "source": [
    "**3.3 Another way to evaluate models in a classification setting is through an Area-under-the-ROC-Curve (AUC). Briefly explain what the AUC and the ROC are trying to do and how this approach differs (and may be prefered) from evaluating models based on misclassification rate (as you have done thus far in this problem set).**"
   ]
  },
  {
   "cell_type": "markdown",
   "metadata": {},
   "source": [
    "*your answer here*  \n",
    "The ROC curve is a graph illustrating the disrimination capability of a binary classifer at all classification thresholds, created by plotting true positive rate against the false positive rate at different thresholds. AUC is the two-dimentional area under the roc curve, which represents the degree of separability or the capability of a binary classifier in discriminating two classes.\n",
    "\n",
    "The misclassification rate measure of a model depends on the threshold chosen, whereas AUC gives an broader aggregate measure of performance across all possible discrimination thresholds. If we change our threshold in previous questions, our calculated misclassification rate will change accordingly. But AUC is not dependent on threshold so it is prefered for evaluating models."
   ]
  },
  {
   "cell_type": "markdown",
   "metadata": {},
   "source": [
    "**3.4 Evaluate all 6 predictive models (7 if you optionally found a better number of principal components in 3.2) seen in problems 1 and 3 via Area-under-the-ROC-Curve (AUC) on the test set. For the best model with the best AUC, plot the ROC. Decide an appropriate strategy for breaking ties, if there are any. Briefly interpret your plot.**"
   ]
  },
  {
   "cell_type": "code",
   "execution_count": 22,
   "metadata": {},
   "outputs": [],
   "source": [
    "# your code here\n",
    "#colors=['r','b','g','c','m','y','k']\n",
    "def plot_roc(model,x,y,i,color,name):\n",
    "    preds=model.predict_proba(x)[:,1]\n",
    "    fpr, tpr, threshold = metrics.roc_curve(y, preds)\n",
    "    roc_auc = metrics.auc(fpr, tpr)\n",
    "\n",
    "    plt.plot(fpr, tpr, color, label = str(name)+' AUC = %0.4f' % roc_auc)\n",
    "    plt.legend(loc = 'lower right',fontsize=12)\n",
    "    plt.plot([0, 1], [0, 1],'r--')\n",
    "    plt.xlim([0, 1])\n",
    "    plt.ylim([0, 1])\n",
    "    plt.ylabel('True Positive Rate')\n",
    "    plt.xlabel('False Positive Rate')"
   ]
  },
  {
   "cell_type": "code",
   "execution_count": 23,
   "metadata": {},
   "outputs": [
    {
     "name": "stderr",
     "output_type": "stream",
     "text": [
      "C:\\Users\\sugar\\AppData\\Local\\Enthought\\Canopy\\edm\\envs\\User\\lib\\site-packages\\sklearn\\linear_model\\base.py:340: RuntimeWarning: overflow encountered in exp\n",
      "  np.exp(prob, prob)\n"
     ]
    },
    {
     "data": {
      "image/png": "[encoded data removed]",
      "text/plain": [
       "<matplotlib.figure.Figure at 0x2b06dd7d278>"
      ]
     },
     "metadata": {},
     "output_type": "display_data"
    }
   ],
   "source": [
    "plt.figure(figsize=(15,15))\n",
    "plot_roc(logit_allgenes,X_test_scaled,y_test,0,'r',name='Logistic with all predictors')\n",
    "plot_roc(logistic_cv,X_test_scaled,y_test,1,'b',name='LASSO-logistic ')\n",
    "plot_roc(KNN.fit(X_train_scaled,y_train),X_test_scaled,y_test,1,'g',name='KNN (k=7) ')\n",
    "plot_roc(logreg.fit(pca_train_X[:,0:100],y_train.values.ravel()),pca_test_X[:,0:100],y_test,1,'c',name='PCA 100 components')\n",
    "plot_roc(logreg.fit(pca_train_X[:,0:232],y_train.values.ravel()),pca_test_X[:,0:232],y_test,1,'m',name='PCA 232 components')\n",
    "plot_roc(logreg.fit(pca_train_X[:,0:2],y_train.values.ravel()),pca_test_X[:,0:2],y_test,1,'y',name='PCA 2 components')\n",
    "plot_roc(logreg.fit(pca_train_X[:,0:25],y_train.values.ravel()),pca_test_X[:,0:25],y_test,1,'k',name='PCA 25 components')"
   ]
  },
  {
   "cell_type": "markdown",
   "metadata": {},
   "source": [
    "*your answer here*  \n",
    "If there are models with close AUC, we can choose appropriate model based on other consideration, such as calculation efficiency, AIC (Akaike information criteria), interpretability. We tend to use model that takes shorter time to fit and calculate. We tend to use model with less AIC. We tend to use parametric model rather than non-parametric model since parametric model is more logical to explain and interpret. "
   ]
  },
  {
   "cell_type": "markdown",
   "metadata": {},
   "source": [
    "**3.5 Based on AUC, is there one clear stand-out winner or are a lot of models similar in prediction? If you were to predict real cancer patients, how would use these models to predict cancer type?**"
   ]
  },
  {
   "cell_type": "markdown",
   "metadata": {},
   "source": [
    "*your answer here*  \n",
    "The models of LASSO logistic, KNN, normal logistic, PCA 100 components and PCA 25 components have similar AUC. In practice use, I prefer to use LASSO logistic first due to its interpretability and good AUC, and see if I can find supporting conclusions from KNN and PCA 100 models. \n"
   ]
  },
  {
   "cell_type": "markdown",
   "metadata": {},
   "source": [
    "<div class='exercise'><b> Question 4: COMPAS [30 points] </b></div>\n",
    "\n",
    "This problem is unrelated to the first 3 problems, and steps through analyzing the COMPAS data set `compas.csv`.  The variables are roughly explained in the `compas_datadict.csv` file, and ProPublica's analysis is publically available here: https://github.com/propublica/compas-analysis.\n",
    "\n",
    "**4.1** Split the data into 80% training and 20% test stratified by race. Before splitting you may want to process the categorical predictors first so you don't have to do it separately in tain and test later.\n",
    "\n",
    "**4.2** Do a little EDA: explore what variables are related to race. Report 3 variables that appear to have significant differences between Caucasians and African Americans, and provide visuals and numerical summaries to support these chosen variables.\n",
    "\n",
    "**4.3** With respect to these 3 chosen variables, how could bias in the data or data collection be impacting or causing these differences?  Explain in 3-5 sentences.\n",
    "\n",
    "**4.4**. Build 2 seperate models to predict recidivism (`two_year_recid`) from these data (2 different 'classes' of models: $k$-NN, linear, logistic, etc.) and be sure to include race as a predictor. \n",
    "\n",
    "**4.5**. Refit the models in 4.4 without race as a predictor.  Report the overall misclassifcation rates, and compare the differences in false positive and false negative rates between Caucasians and African Americans in these models on the test set.  How do these compare to the models when race is included as a predictor?\n",
    "\n",
    "**4.6**. Given your exploration and modeling of the data, should a predictive tool be trusted to be unbiased even if it doesn’t explicitly use a variable such as race to predict future crime?  Why or why not?  Why is the bias still occurring or not occurring?  Explain in 3-6 sentences total."
   ]
  },
  {
   "cell_type": "markdown",
   "metadata": {},
   "source": [
    "<hr>\n",
    "\n",
    "### Solutions"
   ]
  },
  {
   "cell_type": "markdown",
   "metadata": {},
   "source": [
    "**4.1 Split the data into 80% training and 20% test stratified by race.  Before splitting you may want to process the categorical predictors first so you don't have to do it separately in tain and test later.**"
   ]
  },
  {
   "cell_type": "code",
   "execution_count": 24,
   "metadata": {},
   "outputs": [
    {
     "data": {
      "text/html": [
       "<div>\n",
       "<style scoped>\n",
       "    .dataframe tbody tr th:only-of-type {\n",
       "        vertical-align: middle;\n",
       "    }\n",
       "\n",
       "    .dataframe tbody tr th {\n",
       "        vertical-align: top;\n",
       "    }\n",
       "\n",
       "    .dataframe thead th {\n",
       "        text-align: right;\n",
       "    }\n",
       "</style>\n",
       "<table border=\"1\" class=\"dataframe\">\n",
       "  <thead>\n",
       "    <tr style=\"text-align: right;\">\n",
       "      <th></th>\n",
       "      <th>age</th>\n",
       "      <th>c_charge_degree</th>\n",
       "      <th>score_text</th>\n",
       "      <th>priors_count</th>\n",
       "      <th>juv_fel_count</th>\n",
       "      <th>juv_misd_count</th>\n",
       "      <th>juv_other_count</th>\n",
       "      <th>decile_score</th>\n",
       "      <th>two_year_recid</th>\n",
       "      <th>length_of_stay</th>\n",
       "      <th>priors_1</th>\n",
       "      <th>priors_234</th>\n",
       "      <th>...</th>\n",
       "      <th>charge_any_drug</th>\n",
       "      <th>charge_any_violence_aggression</th>\n",
       "      <th>charge_any_theft</th>\n",
       "      <th>length_of_stay_thresh</th>\n",
       "      <th>race_African-American</th>\n",
       "      <th>race_Asian</th>\n",
       "      <th>race_Caucasian</th>\n",
       "      <th>race_Hispanic</th>\n",
       "      <th>race_Native American</th>\n",
       "      <th>race_Other</th>\n",
       "      <th>sex_Female</th>\n",
       "      <th>sex_Male</th>\n",
       "    </tr>\n",
       "  </thead>\n",
       "  <tbody>\n",
       "    <tr>\n",
       "      <th>0</th>\n",
       "      <td>69</td>\n",
       "      <td>1</td>\n",
       "      <td>0</td>\n",
       "      <td>0</td>\n",
       "      <td>0</td>\n",
       "      <td>0</td>\n",
       "      <td>0</td>\n",
       "      <td>1</td>\n",
       "      <td>0</td>\n",
       "      <td>1</td>\n",
       "      <td>0</td>\n",
       "      <td>0</td>\n",
       "      <td>...</td>\n",
       "      <td>0</td>\n",
       "      <td>1</td>\n",
       "      <td>0</td>\n",
       "      <td>1</td>\n",
       "      <td>0</td>\n",
       "      <td>0</td>\n",
       "      <td>0</td>\n",
       "      <td>0</td>\n",
       "      <td>0</td>\n",
       "      <td>1</td>\n",
       "      <td>0</td>\n",
       "      <td>1</td>\n",
       "    </tr>\n",
       "    <tr>\n",
       "      <th>1</th>\n",
       "      <td>34</td>\n",
       "      <td>1</td>\n",
       "      <td>0</td>\n",
       "      <td>0</td>\n",
       "      <td>0</td>\n",
       "      <td>0</td>\n",
       "      <td>0</td>\n",
       "      <td>3</td>\n",
       "      <td>1</td>\n",
       "      <td>10</td>\n",
       "      <td>0</td>\n",
       "      <td>0</td>\n",
       "      <td>...</td>\n",
       "      <td>0</td>\n",
       "      <td>1</td>\n",
       "      <td>0</td>\n",
       "      <td>10</td>\n",
       "      <td>1</td>\n",
       "      <td>0</td>\n",
       "      <td>0</td>\n",
       "      <td>0</td>\n",
       "      <td>0</td>\n",
       "      <td>0</td>\n",
       "      <td>0</td>\n",
       "      <td>1</td>\n",
       "    </tr>\n",
       "    <tr>\n",
       "      <th>2</th>\n",
       "      <td>24</td>\n",
       "      <td>1</td>\n",
       "      <td>0</td>\n",
       "      <td>4</td>\n",
       "      <td>0</td>\n",
       "      <td>0</td>\n",
       "      <td>1</td>\n",
       "      <td>4</td>\n",
       "      <td>1</td>\n",
       "      <td>1</td>\n",
       "      <td>0</td>\n",
       "      <td>1</td>\n",
       "      <td>...</td>\n",
       "      <td>1</td>\n",
       "      <td>0</td>\n",
       "      <td>0</td>\n",
       "      <td>1</td>\n",
       "      <td>1</td>\n",
       "      <td>0</td>\n",
       "      <td>0</td>\n",
       "      <td>0</td>\n",
       "      <td>0</td>\n",
       "      <td>0</td>\n",
       "      <td>0</td>\n",
       "      <td>1</td>\n",
       "    </tr>\n",
       "    <tr>\n",
       "      <th>3</th>\n",
       "      <td>44</td>\n",
       "      <td>0</td>\n",
       "      <td>0</td>\n",
       "      <td>0</td>\n",
       "      <td>0</td>\n",
       "      <td>0</td>\n",
       "      <td>0</td>\n",
       "      <td>1</td>\n",
       "      <td>0</td>\n",
       "      <td>1</td>\n",
       "      <td>0</td>\n",
       "      <td>0</td>\n",
       "      <td>...</td>\n",
       "      <td>0</td>\n",
       "      <td>1</td>\n",
       "      <td>0</td>\n",
       "      <td>1</td>\n",
       "      <td>0</td>\n",
       "      <td>0</td>\n",
       "      <td>0</td>\n",
       "      <td>0</td>\n",
       "      <td>0</td>\n",
       "      <td>1</td>\n",
       "      <td>0</td>\n",
       "      <td>1</td>\n",
       "    </tr>\n",
       "    <tr>\n",
       "      <th>4</th>\n",
       "      <td>41</td>\n",
       "      <td>1</td>\n",
       "      <td>1</td>\n",
       "      <td>14</td>\n",
       "      <td>0</td>\n",
       "      <td>0</td>\n",
       "      <td>0</td>\n",
       "      <td>6</td>\n",
       "      <td>1</td>\n",
       "      <td>6</td>\n",
       "      <td>0</td>\n",
       "      <td>0</td>\n",
       "      <td>...</td>\n",
       "      <td>0</td>\n",
       "      <td>0</td>\n",
       "      <td>1</td>\n",
       "      <td>6</td>\n",
       "      <td>0</td>\n",
       "      <td>0</td>\n",
       "      <td>1</td>\n",
       "      <td>0</td>\n",
       "      <td>0</td>\n",
       "      <td>0</td>\n",
       "      <td>0</td>\n",
       "      <td>1</td>\n",
       "    </tr>\n",
       "  </tbody>\n",
       "</table>\n",
       "<p>5 rows × 28 columns</p>\n",
       "</div>"
      ],
      "text/plain": [
       "   age  c_charge_degree  score_text  priors_count  juv_fel_count  \\\n",
       "0   69                1           0             0              0   \n",
       "1   34                1           0             0              0   \n",
       "2   24                1           0             4              0   \n",
       "3   44                0           0             0              0   \n",
       "4   41                1           1            14              0   \n",
       "\n",
       "   juv_misd_count  juv_other_count  decile_score  two_year_recid  \\\n",
       "0               0                0             1               0   \n",
       "1               0                0             3               1   \n",
       "2               0                1             4               1   \n",
       "3               0                0             1               0   \n",
       "4               0                0             6               1   \n",
       "\n",
       "   length_of_stay  priors_1  priors_234    ...     charge_any_drug  \\\n",
       "0               1         0           0    ...                   0   \n",
       "1              10         0           0    ...                   0   \n",
       "2               1         0           1    ...                   1   \n",
       "3               1         0           0    ...                   0   \n",
       "4               6         0           0    ...                   0   \n",
       "\n",
       "   charge_any_violence_aggression  charge_any_theft  length_of_stay_thresh  \\\n",
       "0                               1                 0                      1   \n",
       "1                               1                 0                     10   \n",
       "2                               0                 0                      1   \n",
       "3                               1                 0                      1   \n",
       "4                               0                 1                      6   \n",
       "\n",
       "   race_African-American  race_Asian  race_Caucasian  race_Hispanic  \\\n",
       "0                      0           0               0              0   \n",
       "1                      1           0               0              0   \n",
       "2                      1           0               0              0   \n",
       "3                      0           0               0              0   \n",
       "4                      0           0               1              0   \n",
       "\n",
       "   race_Native American  race_Other  sex_Female  sex_Male  \n",
       "0                     0           1           0         1  \n",
       "1                     0           0           0         1  \n",
       "2                     0           0           0         1  \n",
       "3                     0           1           0         1  \n",
       "4                     0           0           0         1  \n",
       "\n",
       "[5 rows x 28 columns]"
      ]
     },
     "execution_count": 24,
     "metadata": {},
     "output_type": "execute_result"
    }
   ],
   "source": [
    "compas_df = pd.read_csv('data/compas.csv')\n",
    "# your code here\n",
    "\n",
    "compas_df_new=compas_df.copy()\n",
    "compas_df_new['c_charge_degree'] = (compas_df_new['c_charge_degree'] == 'F') * 1\n",
    "compas_df_new.loc[compas_df_new['score_text'] == 'Low','score_text'] = 0\n",
    "compas_df_new.loc[compas_df_new['score_text'] == 'Medium','score_text'] = 1\n",
    "compas_df_new.loc[compas_df_new['score_text'] == 'High','score_text'] = 2\n",
    "compas_df_new = pd.get_dummies(compas_df_new, columns=['race', 'sex'])#, drop_first=True)\n",
    "compas_df_new=compas_df_new.drop(['c_charge_desc'],axis=1)\n",
    "compas_df_new.head()"
   ]
  },
  {
   "cell_type": "code",
   "execution_count": 25,
   "metadata": {},
   "outputs": [],
   "source": [
    "X_train_compas, X_test_compas, y_train_compas, y_test_compas =train_test_split(compas_df_new.loc[:, compas_df_new.columns != 'two_year_recid'], \n",
    "                                                         compas_df_new.two_year_recid, test_size=0.2, \n",
    "                                                         random_state = 109, \n",
    "                                                         stratify = compas_df.race)"
   ]
  },
  {
   "cell_type": "code",
   "execution_count": 26,
   "metadata": {},
   "outputs": [
    {
     "data": {
      "text/plain": [
       "(4937, 27)"
      ]
     },
     "execution_count": 26,
     "metadata": {},
     "output_type": "execute_result"
    }
   ],
   "source": [
    "X_train_compas.shape"
   ]
  },
  {
   "cell_type": "code",
   "execution_count": 27,
   "metadata": {},
   "outputs": [
    {
     "data": {
      "text/plain": [
       "(1235, 27)"
      ]
     },
     "execution_count": 27,
     "metadata": {},
     "output_type": "execute_result"
    }
   ],
   "source": [
    "X_test_compas.shape"
   ]
  },
  {
   "cell_type": "markdown",
   "metadata": {},
   "source": [
    "**4.2 Do a little EDA: explore what variables are related to race. Report 3 variables that appear to have significant differences between Caucasians and African Americans, and provide visuals and numerical summaries to support these chosen variables.**"
   ]
  },
  {
   "cell_type": "code",
   "execution_count": 28,
   "metadata": {},
   "outputs": [
    {
     "data": {
      "text/plain": [
       "Index(['decile_score', 'score_text', 'priors_count'], dtype='object')"
      ]
     },
     "execution_count": 28,
     "metadata": {},
     "output_type": "execute_result"
    }
   ],
   "source": [
    "from scipy.stats import ttest_ind\n",
    "droplist=['race_African-American','race_Asian','race_Caucasian','race_Hispanic','race_Native American','race_Other','sex_Female']\n",
    "compas_caucasians=compas_df_new[compas_df_new.race_Caucasian==1]\n",
    "compas_african=compas_df_new[compas_df_new['race_African-American']==1]\n",
    "compas_caucasians=compas_caucasians.drop(droplist,axis=1)\n",
    "compas_african=compas_african.drop(droplist,axis=1)\n",
    "significant_index=ttest_ind(compas_caucasians, compas_african,equal_var = False)[1].argsort()[:3]\n",
    "significant_variables = compas_caucasians.columns[significant_index]\n",
    "significant_variables"
   ]
  },
  {
   "cell_type": "code",
   "execution_count": 29,
   "metadata": {},
   "outputs": [
    {
     "data": {
      "image/png": "[encoded data removed]",
      "text/plain": [
       "<matplotlib.figure.Figure at 0x2b06dd37e10>"
      ]
     },
     "metadata": {},
     "output_type": "display_data"
    }
   ],
   "source": [
    "fig, axes = plt.subplots(1,3,figsize=(30,10))\n",
    "axes[0].hist(compas_caucasians['decile_score'],label='Caucasians',alpha=0.3,bins=20,color='r')\n",
    "axes[0].hist(compas_african['decile_score'],label='African Americans',alpha=0.3,bins=20,color='b')\n",
    "axes[0].legend(fontsize=20)\n",
    "axes[0].set_xlabel('Decile score',fontsize=20)\n",
    "axes[0].set_ylabel('Count',fontsize=20)\n",
    "axes[0].tick_params(labelsize=20)\n",
    "\n",
    "axes[1].hist(compas_caucasians['score_text'],label='Caucasians',alpha=0.3,bins=20,color='r')\n",
    "axes[1].hist(compas_african['score_text'],label='African Americans',alpha=0.3,bins=20,color='b')\n",
    "axes[1].legend(fontsize=20)\n",
    "axes[1].set_xlabel('Score text',fontsize=20)\n",
    "axes[1].set_xticklabels(['Low', 'Medium','High'], fontsize=10)\n",
    "axes[1].set_xticks(np.arange(0,3,1))\n",
    "axes[1].set_ylabel('Count',fontsize=20)\n",
    "axes[1].tick_params(labelsize=20)\n",
    "\n",
    "axes[2].hist(compas_caucasians['priors_count'],label='Caucasians',alpha=0.3,bins=20,color='r')\n",
    "axes[2].hist(compas_african['priors_count'],label='African Americans',alpha=0.3,bins=20,color='b')\n",
    "axes[2].legend(fontsize=20)\n",
    "axes[2].set_xlabel('Prior charges',fontsize=20)\n",
    "axes[2].set_ylabel('Count',fontsize=20)\n",
    "axes[2].tick_params(labelsize=20)"
   ]
  },
  {
   "cell_type": "markdown",
   "metadata": {},
   "source": [
    "**4.3 With respect to these 3 chosen variables, how could bias in the data or data collection be impacting or causing these differences? Explain in 3-5 sentences.**"
   ]
  },
  {
   "cell_type": "markdown",
   "metadata": {},
   "source": [
    "*your answer here*  \n",
    "Data may be collected in different social-econimical environment/community, where race is associated with factors related to crime. \n",
    "Decile score (and score text) may be calculated from confounders of race, such as education, social background, level of poverty, etc. \n",
    "They may sample African-American more from poorer and unsafer community, and Caucasians from richer community, which results in the difference of prior crime charge number.\n"
   ]
  },
  {
   "cell_type": "markdown",
   "metadata": {},
   "source": [
    "**4.4. Build 2 seperate models to predict recidivism (`two_year_recid`) from these data (2 different 'classes' of models:  $k$-NN, linear, logistic, etc.) and be sure to include race as a predictor.**"
   ]
  },
  {
   "cell_type": "code",
   "execution_count": 30,
   "metadata": {},
   "outputs": [],
   "source": [
    "# your code here\n",
    "scaler = MinMaxScaler()\n",
    "X_train_compas_scaled = X_train_compas.copy()\n",
    "X_train_compas_scaled[X_train_compas_scaled.columns] = scaler.fit_transform(X_train_compas_scaled[X_train_compas_scaled.columns])\n",
    "\n",
    "X_test_compas_scaled = X_test_compas.copy()\n",
    "X_test_compas_scaled[X_test_compas_scaled.columns] = scaler.transform(X_test_compas_scaled[X_test_compas_scaled.columns])"
   ]
  },
  {
   "cell_type": "code",
   "execution_count": 31,
   "metadata": {},
   "outputs": [
    {
     "data": {
      "image/png": "[encoded data removed]",
      "text/plain": [
       "<matplotlib.figure.Figure at 0x2b06b92bf98>"
      ]
     },
     "metadata": {},
     "output_type": "display_data"
    }
   ],
   "source": [
    "ks_compas = [1,2,3,4,5,7,9,10,15,25,50,80,100,150,200,300]\n",
    "knnmodels_compas = []\n",
    "cv_scores_compas = []\n",
    "for k in ks_compas:\n",
    "    KNN = KNeighborsClassifier(n_neighbors = k)\n",
    "    # train model with cv of 5\n",
    "    cv_score = cross_val_score(KNN, X_train_compas_scaled,y_train_compas,cv=5)\n",
    "    mean = np.mean(cv_score)\n",
    "    cv_score = np.append(cv_score,mean)\n",
    "    cv_scores_compas.append(cv_score)\n",
    "    knnmodels_compas.append(KNN.fit(X_train_compas_scaled,y_train_compas))\n",
    "fig,ax=plt.subplots(1,1)\n",
    "ax.boxplot(cv_scores_compas)\n",
    "ax.set_xticklabels(ks_compas)\n",
    "ax.set_ylabel('mean accuracy')\n",
    "ax.set_xlabel('k')\n",
    "plt.show()"
   ]
  },
  {
   "cell_type": "markdown",
   "metadata": {},
   "source": [
    "Select k=50."
   ]
  },
  {
   "cell_type": "code",
   "execution_count": 32,
   "metadata": {},
   "outputs": [
    {
     "name": "stdout",
     "output_type": "stream",
     "text": [
      "The misclassification rate on train set of KNN model with k=7 is 31.456350010127608%\n",
      "The misclassification rate on test set of KNN model with k=7 is 33.036437246963565%\n"
     ]
    }
   ],
   "source": [
    "KNN_compas = KNeighborsClassifier(n_neighbors = 50)\n",
    "KNN_compas.fit(X_train_compas_scaled,y_train_compas)\n",
    "knn_train_pred_compas = KNN_compas.predict(X_train_compas_scaled)\n",
    "knn_test_pred_compas = KNN_compas.predict(X_test_compas_scaled)\n",
    "accuracy_train_compas = accuracy_score(y_train_compas,knn_train_pred_compas)\n",
    "accuracy_test_compas = accuracy_score(y_test_compas,knn_test_pred_compas)\n",
    "mis_train_compas = 1-accuracy_train_compas\n",
    "mis_test_compas = 1-accuracy_test_compas\n",
    "print('The misclassification rate on train set of KNN model with k=7 is {}%'.format(100*mis_train_compas))\n",
    "print('The misclassification rate on test set of KNN model with k=7 is {}%'.format(100*mis_test_compas))"
   ]
  },
  {
   "cell_type": "code",
   "execution_count": 33,
   "metadata": {},
   "outputs": [
    {
     "name": "stdout",
     "output_type": "stream",
     "text": [
      "The misclassification rate on the training set is 30.362568361353055%.\n",
      "The misclassification rate on the test set is 31.821862348178144%.\n"
     ]
    }
   ],
   "source": [
    "logit_compas=LogisticRegression(C=100000).fit(X_train_compas_scaled.values, y_train_compas)\n",
    "y_train_pred_logit_compas=logit_compas.predict(X_train_compas_scaled.values)\n",
    "y_test_pred_logit_compas=logit_compas.predict(X_test_compas_scaled.values)\n",
    "\n",
    "print('The misclassification rate on the training set is {}%.'.format(100-accuracy_score(y_train_compas,y_train_pred_logit_compas)*100))\n",
    "print('The misclassification rate on the test set is {}%.'.format(100-accuracy_score(y_test_compas,y_test_pred_logit_compas)*100))"
   ]
  },
  {
   "cell_type": "markdown",
   "metadata": {},
   "source": [
    "**4.5. Refit the models in 4.4 without race as a predictor. Report the overall misclassifcation rates, and compare the differences in false positive and false negative rates between Caucasians and African Americans in these models on the test set. How do these compare to the models when race is included as a predictor?**"
   ]
  },
  {
   "cell_type": "code",
   "execution_count": 34,
   "metadata": {},
   "outputs": [
    {
     "name": "stdout",
     "output_type": "stream",
     "text": [
      "The misclassification rate on train set of KNN model with k=7 is 30.50435487137938%\n",
      "The misclassification rate on test set of KNN model with k=7 is 33.52226720647773%\n"
     ]
    }
   ],
   "source": [
    "# your code here\n",
    "X_train_compas_scaled_norace=X_train_compas_scaled.drop(droplist[0:6],axis=1)\n",
    "X_test_compas_scaled_norace=X_test_compas_scaled.drop(droplist[0:6],axis=1)\n",
    "\n",
    "KNN_compas_norace = KNeighborsClassifier(n_neighbors = 50)\n",
    "KNN_compas_norace.fit(X_train_compas_scaled_norace,y_train_compas)\n",
    "knn_train_pred_compas_norace = KNN_compas_norace.predict(X_train_compas_scaled_norace)\n",
    "knn_test_pred_compas_norace = KNN_compas_norace.predict(X_test_compas_scaled_norace)\n",
    "accuracy_train_compas_norace = accuracy_score(y_train_compas,knn_train_pred_compas_norace)\n",
    "accuracy_test_compas_norace = accuracy_score(y_test_compas,knn_test_pred_compas_norace)\n",
    "mis_train_compas_norace = 1-accuracy_train_compas_norace\n",
    "mis_test_compas_norace = 1-accuracy_test_compas_norace\n",
    "print('The misclassification rate on train set of KNN model with k=7 is {}%'.format(100*mis_train_compas_norace))\n",
    "print('The misclassification rate on test set of KNN model with k=7 is {}%'.format(100*mis_test_compas_norace))"
   ]
  },
  {
   "cell_type": "code",
   "execution_count": 35,
   "metadata": {},
   "outputs": [
    {
     "name": "stdout",
     "output_type": "stream",
     "text": [
      "The misclassification rate on the training set is 30.423334008507183%.\n",
      "The misclassification rate on the test set is 31.7408906882591%.\n"
     ]
    }
   ],
   "source": [
    "logit_compas_norace=LogisticRegression(C=100000).fit(X_train_compas_scaled_norace.values, y_train_compas)\n",
    "y_train_pred_logit_compas_norace=logit_compas_norace.predict(X_train_compas_scaled_norace.values)\n",
    "y_test_pred_logit_compas_norace=logit_compas_norace.predict(X_test_compas_scaled_norace.values)\n",
    "\n",
    "print('The misclassification rate on the training set is {}%.'.format(100-accuracy_score(y_train_compas,y_train_pred_logit_compas_norace)*100))\n",
    "print('The misclassification rate on the test set is {}%.'.format(100-accuracy_score(y_test_compas,y_test_pred_logit_compas_norace)*100))"
   ]
  },
  {
   "cell_type": "code",
   "execution_count": 36,
   "metadata": {},
   "outputs": [
    {
     "name": "stdout",
     "output_type": "stream",
     "text": [
      "In Caucasian, KNN:\n",
      "[[221  43]\n",
      " [ 83  74]]\n",
      "False positive rate: 16.28787878787879%\n",
      "False negative rate: 52.86624203821656%\n",
      "In African American, KNN:\n",
      "[[219  91]\n",
      " [128 197]]\n",
      "False positive rate: 29.35483870967742%\n",
      "False negative rate: 39.38461538461539%\n",
      "In Caucasian, logistic:\n",
      "[[223  41]\n",
      " [ 80  77]]\n",
      "False positive rate: 15.530303030303031%\n",
      "False negative rate: 50.955414012738856%\n",
      "In African American, logistic:\n",
      "[[208 102]\n",
      " [106 219]]\n",
      "False positive rate: 32.903225806451616%\n",
      "False negative rate: 32.61538461538461%\n"
     ]
    }
   ],
   "source": [
    "cm4 = confusion_matrix(y_test_compas[X_test_compas['race_Caucasian']==1], knn_test_pred_compas_norace[X_test_compas['race_Caucasian']==1])\n",
    "print('In Caucasian, KNN:')\n",
    "print(cm4)\n",
    "print('False positive rate: {}%'.format(100*cm4.ravel()[1]/(cm4.ravel()[1]+cm4.ravel()[0])))\n",
    "print('False negative rate: {}%'.format(100*cm4.ravel()[2]/(cm4.ravel()[2]+cm4.ravel()[3])))\n",
    "cm5 = confusion_matrix(y_test_compas[X_test_compas['race_African-American']==1], knn_test_pred_compas_norace[X_test_compas['race_African-American']==1])\n",
    "print('In African American, KNN:')\n",
    "print(cm5)\n",
    "print('False positive rate: {}%'.format(100*cm5.ravel()[1]/(cm5.ravel()[1]+cm5.ravel()[0])))\n",
    "print('False negative rate: {}%'.format(100*cm5.ravel()[2]/(cm5.ravel()[2]+cm5.ravel()[3])))\n",
    "\n",
    "cm6 = confusion_matrix(y_test_compas[X_test_compas['race_Caucasian']==1], y_test_pred_logit_compas_norace[X_test_compas['race_Caucasian']==1])\n",
    "print('In Caucasian, logistic:')\n",
    "print(cm6)\n",
    "print('False positive rate: {}%'.format(100*cm6.ravel()[1]/(cm6.ravel()[1]+cm6.ravel()[0])))\n",
    "print('False negative rate: {}%'.format(100*cm6.ravel()[2]/(cm6.ravel()[2]+cm6.ravel()[3])))\n",
    "#lasso logistic \n",
    "cm7 = confusion_matrix(y_test_compas[X_test_compas['race_African-American']==1], y_test_pred_logit_compas_norace[X_test_compas['race_African-American']==1])\n",
    "print('In African American, logistic:')\n",
    "print(cm7)\n",
    "print('False positive rate: {}%'.format(100*cm7.ravel()[1]/(cm7.ravel()[1]+cm7.ravel()[0])))\n",
    "print('False negative rate: {}%'.format(100*cm7.ravel()[2]/(cm7.ravel()[2]+cm7.ravel()[3])))\n"
   ]
  },
  {
   "cell_type": "markdown",
   "metadata": {},
   "source": [
    "The missclarification rate is not quite different comparing the models with race. False negative rate for Caucasians is much higher than African American, while false positive rate is much lower, which may indicate that Caucasians are more likely to get away from being convicted."
   ]
  },
  {
   "cell_type": "markdown",
   "metadata": {},
   "source": [
    "**4.6. Given your exploration and modeling of the data, should a predictive tool be trusted to be unbiased even if it doesn’t explicitly use a variable such as race to predict future crime?  Why or why not?  Why is the bias still occurring or not occurring?  Explain in 3-6 sentences total.**"
   ]
  },
  {
   "cell_type": "markdown",
   "metadata": {},
   "source": [
    "*your answer here*  \n",
    "The models above, with or without race as predictor, give similar missclasification rates. Possible reason is that other predictors are highly correlated with race (\"colinearity\"), such as number of prior charges and COMPAS score mentioned in Q4.2, and maybe also length of stay, charge times in junvenile, etc. So removing race doesn't have a great influence. Also, there are some unmeasured factors that can introduce bias. Judges in court may be biased and convict African American more due to the history of race discrimination, and we cannot collect high quality data about this. Thus, although we exclude race from the models, there may still be bias."
   ]
  },
  {
   "cell_type": "markdown",
   "metadata": {},
   "source": [
    "---"
   ]
  }
 ],
 "metadata": {
  "kernelspec": {
   "display_name": "Python 3",
   "language": "python",
   "name": "python3"
  },
  "language_info": {
   "codemirror_mode": {
    "name": "ipython",
    "version": 3
   },
   "file_extension": ".py",
   "mimetype": "text/x-python",
   "name": "python",
   "nbconvert_exporter": "python",
   "pygments_lexer": "ipython3",
   "version": "3.7.3"
  }
 },
 "nbformat": 4,
 "nbformat_minor": 2
}
