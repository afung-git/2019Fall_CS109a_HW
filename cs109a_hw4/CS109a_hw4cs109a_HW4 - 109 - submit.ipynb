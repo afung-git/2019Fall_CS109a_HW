{
 "cells": [
  {
   "cell_type": "markdown",
   "metadata": {
    "deletable": true,
    "editable": true
   },
   "source": [
    "\n",
    "# <img style=\"float: left; padding-right: 10px; width: 45px\" src=\"https://raw.githubusercontent.com/Harvard-IACS/2018-CS109A/master/content/styles/iacs.png\"> CS109A Introduction to Data Science\n",
    "\n",
    "## Homework 4: Logistic Regression\n",
    "\n",
    "**Harvard University**<br/>\n",
    "**Fall 2019**<br/>\n",
    "**Instructors**: Pavlos Protopapas, Kevin Rader, and Chris Tanner\n",
    "\n",
    "<hr style=\"height:2pt\">\n",
    "\n"
   ]
  },
  {
   "cell_type": "code",
   "execution_count": 1,
   "metadata": {
    "collapsed": false,
    "deletable": true,
    "editable": true
   },
   "outputs": [
    {
     "data": {
      "text/html": [
       "<style>\n",
       "blockquote { background: #AEDE94; }\n",
       "h1 { \n",
       "    padding-top: 25px;\n",
       "    padding-bottom: 25px;\n",
       "    text-align: left; \n",
       "    padding-left: 10px;\n",
       "    background-color: #DDDDDD; \n",
       "    color: black;\n",
       "}\n",
       "h2 { \n",
       "    padding-top: 10px;\n",
       "    padding-bottom: 10px;\n",
       "    text-align: left; \n",
       "    padding-left: 5px;\n",
       "    background-color: #EEEEEE; \n",
       "    color: black;\n",
       "}\n",
       "\n",
       "div.exercise {\n",
       "\tbackground-color: #ffcccc;\n",
       "\tborder-color: #E9967A; \t\n",
       "\tborder-left: 5px solid #800080; \n",
       "\tpadding: 0.5em;\n",
       "}\n",
       "\n",
       "span.sub-q {\n",
       "\tfont-weight: bold;\n",
       "}\n",
       "div.theme {\n",
       "\tbackground-color: #DDDDDD;\n",
       "\tborder-color: #E9967A; \t\n",
       "\tborder-left: 5px solid #800080; \n",
       "\tpadding: 0.5em;\n",
       "\tfont-size: 18pt;\n",
       "}\n",
       "div.gc { \n",
       "\tbackground-color: #AEDE94;\n",
       "\tborder-color: #E9967A; \t \n",
       "\tborder-left: 5px solid #800080; \n",
       "\tpadding: 0.5em;\n",
       "\tfont-size: 12pt;\n",
       "}\n",
       "p.q1 { \n",
       "    padding-top: 5px;\n",
       "    padding-bottom: 5px;\n",
       "    text-align: left; \n",
       "    padding-left: 5px;\n",
       "    background-color: #EEEEEE; \n",
       "    color: black;\n",
       "}\n",
       "header {\n",
       "   padding-top: 35px;\n",
       "    padding-bottom: 35px;\n",
       "    text-align: left; \n",
       "    padding-left: 10px;\n",
       "    background-color: #DDDDDD; \n",
       "    color: black;\n",
       "}\n",
       "</style>\n",
       "\n"
      ],
      "text/plain": [
       "<IPython.core.display.HTML object>"
      ]
     },
     "execution_count": 1,
     "metadata": {},
     "output_type": "execute_result"
    }
   ],
   "source": [
    "#RUN THIS CELL \n",
    "import requests\n",
    "from IPython.core.display import HTML\n",
    "styles = requests.get(\"https://raw.githubusercontent.com/Harvard-IACS/2018-CS109A/master/content/styles/cs109.css\").text\n",
    "HTML(styles)"
   ]
  },
  {
   "cell_type": "markdown",
   "metadata": {
    "deletable": true,
    "editable": true
   },
   "source": [
    "### INSTRUCTIONS\n",
    "\n",
    "- **This is an individual homework. No group collaboration.**\n",
    "- To submit your assignment follow the instructions given in Canvas.\n",
    "- Restart the kernel and run the whole notebook again before you submit. \n",
    "- As much as possible, try and stick to the hints and functions we import at the top of the homework, as those are the ideas and tools the class supports and is aiming to teach. And if a problem specifies a particular library you're required to use that library, and possibly others from the import list.\n",
    "- Please use .head() when viewing data. Do not submit a notebook that is excessively long because output was not suppressed or otherwise limited. "
   ]
  },
  {
   "cell_type": "code",
   "execution_count": 2,
   "metadata": {
    "collapsed": true,
    "deletable": true,
    "editable": true
   },
   "outputs": [],
   "source": [
    "import numpy as np\n",
    "import pandas as pd\n",
    "\n",
    "from sklearn.linear_model import LinearRegression\n",
    "from sklearn.linear_model import LogisticRegression\n",
    "from sklearn.linear_model import LogisticRegressionCV\n",
    "from sklearn.linear_model import LassoCV\n",
    "\n",
    "from sklearn.neighbors import KNeighborsClassifier\n",
    "from sklearn.model_selection import cross_val_score\n",
    "from sklearn.metrics import accuracy_score\n",
    "from sklearn.model_selection import KFold\n",
    "from sklearn.preprocessing import MinMaxScaler\n",
    "from sklearn.model_selection import train_test_split\n",
    "\n",
    "import matplotlib\n",
    "import matplotlib.pyplot as plt\n",
    "%matplotlib inline\n",
    "\n",
    "import zipfile\n",
    "\n",
    "\n",
    "import seaborn as sns\n",
    "sns.set()\n"
   ]
  },
  {
   "cell_type": "markdown",
   "metadata": {
    "deletable": true,
    "editable": true
   },
   "source": [
    "<div class='theme'> Cancer Classification from Gene Expressions </div>\n",
    "\n",
    "In this problem, we will build a classification model to distinguish between two related classes of cancer, acute lymphoblastic leukemia (ALL) and acute myeloid leukemia (AML), using gene expression measurements. The data set is provided in the file `data/dataset_hw4.csv`. Each row in this file corresponds to a tumor tissue sample from a patient with one of the two forms of Leukemia. The first column contains the cancer type, with **0 indicating the ALL** class and **1 indicating the AML** class. Columns 2-7130 contain expression levels of 7129 genes recorded from each tissue sample. \n",
    "\n",
    "In the following questions, we will use linear and logistic regression to build classification models for this data set. \n"
   ]
  },
  {
   "cell_type": "markdown",
   "metadata": {
    "deletable": true,
    "editable": true
   },
   "source": [
    "<div class='exercise'><b> Question 1 [20 pts]: Data Exploration </b></div>\n",
    "\n",
    "First step is to  split  the observations into an approximate 80-20 train-test split.  Below is some code to do this for you (we want to make sure everyone has the same splits). Print dataset shape before splitting and after splitting. `Cancer_type` is our target column.\n",
    "\n",
    "\n",
    "**1.1** Take a peek at your training set (show a glimpse of what you did): you should notice the severe differences in the measurements from one gene to the next (some are negative, some hover around zero, and some are well into the thousands).  To account for these differences in scale and variability, normalize each predictor to vary between 0 and 1.\n",
    "\n",
    "\n",
    "**1.2** The training set contains more predictors than observations. What problem(s) can this lead to in fitting a classification model to such a data set? Explain in 3 or fewer sentences.\n",
    "\n",
    "\n",
    "**1.3** Identify and report which 10 genes individually discriminate between the two cancer classes the best (consider every gene in the data set).  Note: it wil lbe useful to save this list for future parts.\n",
    "\n",
    "Plot two histograms ofyour best predictor - one using training and another for the testing dataset. Each histogram should clearly distinguish two different `Cancer_type` classes.\n",
    "\n",
    "Hint: You may use t-testing to make this determination: #https://en.wikipedia.org/wiki/Welch%27s_t-test.\n",
    "\n",
    "\n",
    "**1.4** Using your top gene from the previous part (call it  `best_predictor`), create a classification model by manually eye-balling a value for this gene that would discriminate the two classes the best. Justify your choice in 1-2 sentences. Report the accuracy of this hand-chosen model on the test set.\n",
    "\n",
    "<hr> <hr>"
   ]
  },
  {
   "cell_type": "markdown",
   "metadata": {
    "deletable": true,
    "editable": true
   },
   "source": [
    "<hr>\n",
    "### Solutions"
   ]
  },
  {
   "cell_type": "markdown",
   "metadata": {
    "deletable": true,
    "editable": true
   },
   "source": [
    "**First step is to split the observations into an approximate 80-20 train-test split. Below is some code to do this for you (we want to make sure everyone has the same splits). Print dataset shape before splitting and after splitting. `Cancer_type` is our target column.**"
   ]
  },
  {
   "cell_type": "code",
   "execution_count": 3,
   "metadata": {
    "collapsed": false,
    "deletable": true,
    "editable": true
   },
   "outputs": [],
   "source": [
    "np.random.seed(10)\n",
    "df = pd.read_csv('hw4_enhance.csv', index_col=0)\n",
    "X_train, X_test, y_train, y_test =train_test_split(df.loc[:, df.columns != 'Cancer_type'], \n",
    "                                                         df.Cancer_type, test_size=0.2, \n",
    "                                                         random_state = 109, \n",
    "                                                         stratify = df.Cancer_type)"
   ]
  },
  {
   "cell_type": "code",
   "execution_count": 4,
   "metadata": {
    "collapsed": false,
    "deletable": true,
    "editable": true
   },
   "outputs": [
    {
     "name": "stdout",
     "output_type": "stream",
     "text": [
      "(752, 7130)\n",
      "(601, 7129) (151, 7129) (601,) (151,)\n",
      "0.0    0.511968\n",
      "1.0    0.488032\n",
      "Name: Cancer_type, dtype: float64\n"
     ]
    }
   ],
   "source": [
    "print(df.shape)\n",
    "print(X_train.shape, X_test.shape, y_train.shape, y_test.shape)\n",
    "print(df.Cancer_type.value_counts(normalize=True))"
   ]
  },
  {
   "cell_type": "code",
   "execution_count": 5,
   "metadata": {
    "collapsed": false,
    "deletable": true,
    "editable": true
   },
   "outputs": [
    {
     "data": {
      "text/plain": [
       "486    1.0\n",
       "604    1.0\n",
       "341    1.0\n",
       "117    1.0\n",
       "516    1.0\n",
       "Name: Cancer_type, dtype: float64"
      ]
     },
     "execution_count": 5,
     "metadata": {},
     "output_type": "execute_result"
    }
   ],
   "source": [
    "y_train.head()"
   ]
  },
  {
   "cell_type": "markdown",
   "metadata": {
    "deletable": true,
    "editable": true
   },
   "source": [
    "**1.1 Take a peek at your training set (show a glimpse of what you did): you should notice the severe differences in the measurements from one gene to the next (some are negative, some hover around zero, and some are well into the thousands).  To account for these differences in scale and variability, normalize each predictor to vary between 0 and 1.**\n"
   ]
  },
  {
   "cell_type": "code",
   "execution_count": 6,
   "metadata": {
    "collapsed": false,
    "deletable": true,
    "editable": true
   },
   "outputs": [
    {
     "data": {
      "text/html": [
       "<div>\n",
       "<style scoped>\n",
       "    .dataframe tbody tr th:only-of-type {\n",
       "        vertical-align: middle;\n",
       "    }\n",
       "\n",
       "    .dataframe tbody tr th {\n",
       "        vertical-align: top;\n",
       "    }\n",
       "\n",
       "    .dataframe thead th {\n",
       "        text-align: right;\n",
       "    }\n",
       "</style>\n",
       "<table border=\"1\" class=\"dataframe\">\n",
       "  <thead>\n",
       "    <tr style=\"text-align: right;\">\n",
       "      <th></th>\n",
       "      <th>AFFX-BioB-5_at</th>\n",
       "      <th>AFFX-BioB-M_at</th>\n",
       "      <th>AFFX-BioB-3_at</th>\n",
       "      <th>AFFX-BioC-5_at</th>\n",
       "      <th>AFFX-BioC-3_at</th>\n",
       "      <th>AFFX-BioDn-5_at</th>\n",
       "      <th>AFFX-BioDn-3_at</th>\n",
       "      <th>AFFX-CreX-5_at</th>\n",
       "      <th>AFFX-CreX-3_at</th>\n",
       "      <th>AFFX-BioB-5_st</th>\n",
       "      <th>...</th>\n",
       "      <th>U48730_at</th>\n",
       "      <th>U58516_at</th>\n",
       "      <th>U73738_at</th>\n",
       "      <th>X06956_at</th>\n",
       "      <th>X16699_at</th>\n",
       "      <th>X83863_at</th>\n",
       "      <th>Z17240_at</th>\n",
       "      <th>L49218_f_at</th>\n",
       "      <th>M71243_f_at</th>\n",
       "      <th>Z78285_f_at</th>\n",
       "    </tr>\n",
       "  </thead>\n",
       "  <tbody>\n",
       "    <tr>\n",
       "      <th>count</th>\n",
       "      <td>601.000000</td>\n",
       "      <td>601.000000</td>\n",
       "      <td>601.000000</td>\n",
       "      <td>601.000000</td>\n",
       "      <td>601.000000</td>\n",
       "      <td>601.000000</td>\n",
       "      <td>601.000000</td>\n",
       "      <td>601.000000</td>\n",
       "      <td>601.000000</td>\n",
       "      <td>601.000000</td>\n",
       "      <td>...</td>\n",
       "      <td>601.000000</td>\n",
       "      <td>601.000000</td>\n",
       "      <td>601.000000</td>\n",
       "      <td>601.000000</td>\n",
       "      <td>601.000000</td>\n",
       "      <td>601.000000</td>\n",
       "      <td>601.000000</td>\n",
       "      <td>601.000000</td>\n",
       "      <td>601.000000</td>\n",
       "      <td>601.000000</td>\n",
       "    </tr>\n",
       "    <tr>\n",
       "      <th>mean</th>\n",
       "      <td>-115.860969</td>\n",
       "      <td>-160.846155</td>\n",
       "      <td>26.545301</td>\n",
       "      <td>209.733439</td>\n",
       "      <td>-248.992903</td>\n",
       "      <td>-405.422569</td>\n",
       "      <td>-24.135140</td>\n",
       "      <td>-188.491329</td>\n",
       "      <td>74.777098</td>\n",
       "      <td>97.436777</td>\n",
       "      <td>...</td>\n",
       "      <td>161.766492</td>\n",
       "      <td>707.377318</td>\n",
       "      <td>4.198787</td>\n",
       "      <td>421.466477</td>\n",
       "      <td>-50.023954</td>\n",
       "      <td>819.053113</td>\n",
       "      <td>329.803212</td>\n",
       "      <td>8.803791</td>\n",
       "      <td>507.250039</td>\n",
       "      <td>-24.377549</td>\n",
       "    </tr>\n",
       "    <tr>\n",
       "      <th>std</th>\n",
       "      <td>170.571929</td>\n",
       "      <td>188.676919</td>\n",
       "      <td>207.781982</td>\n",
       "      <td>202.987246</td>\n",
       "      <td>207.328054</td>\n",
       "      <td>261.112412</td>\n",
       "      <td>535.143398</td>\n",
       "      <td>163.077167</td>\n",
       "      <td>174.693115</td>\n",
       "      <td>358.897719</td>\n",
       "      <td>...</td>\n",
       "      <td>165.152970</td>\n",
       "      <td>526.644408</td>\n",
       "      <td>152.401188</td>\n",
       "      <td>589.914084</td>\n",
       "      <td>106.864078</td>\n",
       "      <td>814.898058</td>\n",
       "      <td>367.788891</td>\n",
       "      <td>85.397644</td>\n",
       "      <td>939.394188</td>\n",
       "      <td>71.102874</td>\n",
       "    </tr>\n",
       "    <tr>\n",
       "      <th>min</th>\n",
       "      <td>-894.789505</td>\n",
       "      <td>-1095.737090</td>\n",
       "      <td>-645.439001</td>\n",
       "      <td>-425.750627</td>\n",
       "      <td>-1154.285694</td>\n",
       "      <td>-1091.492494</td>\n",
       "      <td>-2066.516448</td>\n",
       "      <td>-728.996262</td>\n",
       "      <td>-770.025847</td>\n",
       "      <td>-1176.663615</td>\n",
       "      <td>...</td>\n",
       "      <td>-501.285884</td>\n",
       "      <td>-1010.430536</td>\n",
       "      <td>-447.077819</td>\n",
       "      <td>-1870.955269</td>\n",
       "      <td>-432.967768</td>\n",
       "      <td>-2151.593119</td>\n",
       "      <td>-651.051441</td>\n",
       "      <td>-255.419724</td>\n",
       "      <td>-2754.665185</td>\n",
       "      <td>-237.864216</td>\n",
       "    </tr>\n",
       "    <tr>\n",
       "      <th>25%</th>\n",
       "      <td>-222.586579</td>\n",
       "      <td>-270.502055</td>\n",
       "      <td>-95.000000</td>\n",
       "      <td>85.327810</td>\n",
       "      <td>-379.048622</td>\n",
       "      <td>-567.547758</td>\n",
       "      <td>-338.435164</td>\n",
       "      <td>-302.872287</td>\n",
       "      <td>-20.739507</td>\n",
       "      <td>-117.000000</td>\n",
       "      <td>...</td>\n",
       "      <td>67.861184</td>\n",
       "      <td>361.596510</td>\n",
       "      <td>-88.660905</td>\n",
       "      <td>88.409441</td>\n",
       "      <td>-105.000000</td>\n",
       "      <td>270.198265</td>\n",
       "      <td>90.825501</td>\n",
       "      <td>-40.391630</td>\n",
       "      <td>-50.785999</td>\n",
       "      <td>-73.000000</td>\n",
       "    </tr>\n",
       "    <tr>\n",
       "      <th>50%</th>\n",
       "      <td>-105.139096</td>\n",
       "      <td>-145.829450</td>\n",
       "      <td>21.183690</td>\n",
       "      <td>207.291048</td>\n",
       "      <td>-231.007621</td>\n",
       "      <td>-433.214742</td>\n",
       "      <td>-39.581881</td>\n",
       "      <td>-175.586059</td>\n",
       "      <td>90.170754</td>\n",
       "      <td>101.975176</td>\n",
       "      <td>...</td>\n",
       "      <td>153.253301</td>\n",
       "      <td>679.935520</td>\n",
       "      <td>9.960900</td>\n",
       "      <td>381.000000</td>\n",
       "      <td>-35.000000</td>\n",
       "      <td>749.281111</td>\n",
       "      <td>296.978609</td>\n",
       "      <td>7.968505</td>\n",
       "      <td>407.942117</td>\n",
       "      <td>-25.403427</td>\n",
       "    </tr>\n",
       "    <tr>\n",
       "      <th>75%</th>\n",
       "      <td>-4.789696</td>\n",
       "      <td>-40.599329</td>\n",
       "      <td>127.821586</td>\n",
       "      <td>331.277808</td>\n",
       "      <td>-116.000000</td>\n",
       "      <td>-252.587379</td>\n",
       "      <td>325.000000</td>\n",
       "      <td>-74.379003</td>\n",
       "      <td>190.551199</td>\n",
       "      <td>288.503617</td>\n",
       "      <td>...</td>\n",
       "      <td>263.112797</td>\n",
       "      <td>1076.075567</td>\n",
       "      <td>96.051876</td>\n",
       "      <td>720.339588</td>\n",
       "      <td>19.775025</td>\n",
       "      <td>1286.343005</td>\n",
       "      <td>521.096719</td>\n",
       "      <td>62.794411</td>\n",
       "      <td>1092.430279</td>\n",
       "      <td>19.740635</td>\n",
       "    </tr>\n",
       "    <tr>\n",
       "      <th>max</th>\n",
       "      <td>516.618491</td>\n",
       "      <td>384.626762</td>\n",
       "      <td>748.233182</td>\n",
       "      <td>1022.560525</td>\n",
       "      <td>308.876677</td>\n",
       "      <td>607.737258</td>\n",
       "      <td>1385.881293</td>\n",
       "      <td>263.634029</td>\n",
       "      <td>589.778466</td>\n",
       "      <td>1355.537180</td>\n",
       "      <td>...</td>\n",
       "      <td>686.321597</td>\n",
       "      <td>2522.188808</td>\n",
       "      <td>481.820516</td>\n",
       "      <td>3982.980299</td>\n",
       "      <td>215.047697</td>\n",
       "      <td>3743.264860</td>\n",
       "      <td>1996.244626</td>\n",
       "      <td>274.575647</td>\n",
       "      <td>3315.374276</td>\n",
       "      <td>224.773440</td>\n",
       "    </tr>\n",
       "  </tbody>\n",
       "</table>\n",
       "<p>8 rows × 7129 columns</p>\n",
       "</div>"
      ],
      "text/plain": [
       "       AFFX-BioB-5_at  AFFX-BioB-M_at  AFFX-BioB-3_at  AFFX-BioC-5_at  \\\n",
       "count      601.000000      601.000000      601.000000      601.000000   \n",
       "mean      -115.860969     -160.846155       26.545301      209.733439   \n",
       "std        170.571929      188.676919      207.781982      202.987246   \n",
       "min       -894.789505    -1095.737090     -645.439001     -425.750627   \n",
       "25%       -222.586579     -270.502055      -95.000000       85.327810   \n",
       "50%       -105.139096     -145.829450       21.183690      207.291048   \n",
       "75%         -4.789696      -40.599329      127.821586      331.277808   \n",
       "max        516.618491      384.626762      748.233182     1022.560525   \n",
       "\n",
       "       AFFX-BioC-3_at  AFFX-BioDn-5_at  AFFX-BioDn-3_at  AFFX-CreX-5_at  \\\n",
       "count      601.000000       601.000000       601.000000      601.000000   \n",
       "mean      -248.992903      -405.422569       -24.135140     -188.491329   \n",
       "std        207.328054       261.112412       535.143398      163.077167   \n",
       "min      -1154.285694     -1091.492494     -2066.516448     -728.996262   \n",
       "25%       -379.048622      -567.547758      -338.435164     -302.872287   \n",
       "50%       -231.007621      -433.214742       -39.581881     -175.586059   \n",
       "75%       -116.000000      -252.587379       325.000000      -74.379003   \n",
       "max        308.876677       607.737258      1385.881293      263.634029   \n",
       "\n",
       "       AFFX-CreX-3_at  AFFX-BioB-5_st     ...        U48730_at    U58516_at  \\\n",
       "count      601.000000      601.000000     ...       601.000000   601.000000   \n",
       "mean        74.777098       97.436777     ...       161.766492   707.377318   \n",
       "std        174.693115      358.897719     ...       165.152970   526.644408   \n",
       "min       -770.025847    -1176.663615     ...      -501.285884 -1010.430536   \n",
       "25%        -20.739507     -117.000000     ...        67.861184   361.596510   \n",
       "50%         90.170754      101.975176     ...       153.253301   679.935520   \n",
       "75%        190.551199      288.503617     ...       263.112797  1076.075567   \n",
       "max        589.778466     1355.537180     ...       686.321597  2522.188808   \n",
       "\n",
       "        U73738_at    X06956_at   X16699_at    X83863_at    Z17240_at  \\\n",
       "count  601.000000   601.000000  601.000000   601.000000   601.000000   \n",
       "mean     4.198787   421.466477  -50.023954   819.053113   329.803212   \n",
       "std    152.401188   589.914084  106.864078   814.898058   367.788891   \n",
       "min   -447.077819 -1870.955269 -432.967768 -2151.593119  -651.051441   \n",
       "25%    -88.660905    88.409441 -105.000000   270.198265    90.825501   \n",
       "50%      9.960900   381.000000  -35.000000   749.281111   296.978609   \n",
       "75%     96.051876   720.339588   19.775025  1286.343005   521.096719   \n",
       "max    481.820516  3982.980299  215.047697  3743.264860  1996.244626   \n",
       "\n",
       "       L49218_f_at  M71243_f_at  Z78285_f_at  \n",
       "count   601.000000   601.000000   601.000000  \n",
       "mean      8.803791   507.250039   -24.377549  \n",
       "std      85.397644   939.394188    71.102874  \n",
       "min    -255.419724 -2754.665185  -237.864216  \n",
       "25%     -40.391630   -50.785999   -73.000000  \n",
       "50%       7.968505   407.942117   -25.403427  \n",
       "75%      62.794411  1092.430279    19.740635  \n",
       "max     274.575647  3315.374276   224.773440  \n",
       "\n",
       "[8 rows x 7129 columns]"
      ]
     },
     "execution_count": 6,
     "metadata": {},
     "output_type": "execute_result"
    }
   ],
   "source": [
    "#your code here\n",
    "X_train.describe()"
   ]
  },
  {
   "cell_type": "code",
   "execution_count": 7,
   "metadata": {
    "collapsed": false,
    "deletable": true,
    "editable": true
   },
   "outputs": [
    {
     "data": {
      "text/html": [
       "<div>\n",
       "<style scoped>\n",
       "    .dataframe tbody tr th:only-of-type {\n",
       "        vertical-align: middle;\n",
       "    }\n",
       "\n",
       "    .dataframe tbody tr th {\n",
       "        vertical-align: top;\n",
       "    }\n",
       "\n",
       "    .dataframe thead th {\n",
       "        text-align: right;\n",
       "    }\n",
       "</style>\n",
       "<table border=\"1\" class=\"dataframe\">\n",
       "  <thead>\n",
       "    <tr style=\"text-align: right;\">\n",
       "      <th></th>\n",
       "      <th>AFFX-BioB-5_at</th>\n",
       "      <th>AFFX-BioB-M_at</th>\n",
       "      <th>AFFX-BioB-3_at</th>\n",
       "      <th>AFFX-BioC-5_at</th>\n",
       "      <th>AFFX-BioC-3_at</th>\n",
       "      <th>AFFX-BioDn-5_at</th>\n",
       "      <th>AFFX-BioDn-3_at</th>\n",
       "      <th>AFFX-CreX-5_at</th>\n",
       "      <th>AFFX-CreX-3_at</th>\n",
       "      <th>AFFX-BioB-5_st</th>\n",
       "      <th>...</th>\n",
       "      <th>U48730_at</th>\n",
       "      <th>U58516_at</th>\n",
       "      <th>U73738_at</th>\n",
       "      <th>X06956_at</th>\n",
       "      <th>X16699_at</th>\n",
       "      <th>X83863_at</th>\n",
       "      <th>Z17240_at</th>\n",
       "      <th>L49218_f_at</th>\n",
       "      <th>M71243_f_at</th>\n",
       "      <th>Z78285_f_at</th>\n",
       "    </tr>\n",
       "  </thead>\n",
       "  <tbody>\n",
       "    <tr>\n",
       "      <th>count</th>\n",
       "      <td>601.000000</td>\n",
       "      <td>601.000000</td>\n",
       "      <td>601.000000</td>\n",
       "      <td>601.000000</td>\n",
       "      <td>601.000000</td>\n",
       "      <td>601.000000</td>\n",
       "      <td>601.000000</td>\n",
       "      <td>601.000000</td>\n",
       "      <td>601.000000</td>\n",
       "      <td>601.000000</td>\n",
       "      <td>...</td>\n",
       "      <td>601.000000</td>\n",
       "      <td>601.000000</td>\n",
       "      <td>601.000000</td>\n",
       "      <td>601.000000</td>\n",
       "      <td>601.000000</td>\n",
       "      <td>601.000000</td>\n",
       "      <td>601.000000</td>\n",
       "      <td>601.000000</td>\n",
       "      <td>601.000000</td>\n",
       "      <td>601.000000</td>\n",
       "    </tr>\n",
       "    <tr>\n",
       "      <th>mean</th>\n",
       "      <td>0.551880</td>\n",
       "      <td>0.631528</td>\n",
       "      <td>0.482168</td>\n",
       "      <td>0.438776</td>\n",
       "      <td>0.618723</td>\n",
       "      <td>0.403753</td>\n",
       "      <td>0.591583</td>\n",
       "      <td>0.544518</td>\n",
       "      <td>0.621268</td>\n",
       "      <td>0.503159</td>\n",
       "      <td>...</td>\n",
       "      <td>0.558309</td>\n",
       "      <td>0.486270</td>\n",
       "      <td>0.485819</td>\n",
       "      <td>0.391604</td>\n",
       "      <td>0.590949</td>\n",
       "      <td>0.503939</td>\n",
       "      <td>0.370512</td>\n",
       "      <td>0.498539</td>\n",
       "      <td>0.537380</td>\n",
       "      <td>0.461455</td>\n",
       "    </tr>\n",
       "    <tr>\n",
       "      <th>std</th>\n",
       "      <td>0.120852</td>\n",
       "      <td>0.127453</td>\n",
       "      <td>0.149090</td>\n",
       "      <td>0.140154</td>\n",
       "      <td>0.141699</td>\n",
       "      <td>0.153665</td>\n",
       "      <td>0.155006</td>\n",
       "      <td>0.164288</td>\n",
       "      <td>0.128469</td>\n",
       "      <td>0.141734</td>\n",
       "      <td>...</td>\n",
       "      <td>0.139064</td>\n",
       "      <td>0.149080</td>\n",
       "      <td>0.164067</td>\n",
       "      <td>0.100772</td>\n",
       "      <td>0.164910</td>\n",
       "      <td>0.138239</td>\n",
       "      <td>0.138930</td>\n",
       "      <td>0.161129</td>\n",
       "      <td>0.154759</td>\n",
       "      <td>0.153690</td>\n",
       "    </tr>\n",
       "    <tr>\n",
       "      <th>min</th>\n",
       "      <td>0.000000</td>\n",
       "      <td>0.000000</td>\n",
       "      <td>0.000000</td>\n",
       "      <td>0.000000</td>\n",
       "      <td>0.000000</td>\n",
       "      <td>0.000000</td>\n",
       "      <td>0.000000</td>\n",
       "      <td>0.000000</td>\n",
       "      <td>0.000000</td>\n",
       "      <td>0.000000</td>\n",
       "      <td>...</td>\n",
       "      <td>0.000000</td>\n",
       "      <td>0.000000</td>\n",
       "      <td>0.000000</td>\n",
       "      <td>0.000000</td>\n",
       "      <td>0.000000</td>\n",
       "      <td>0.000000</td>\n",
       "      <td>0.000000</td>\n",
       "      <td>0.000000</td>\n",
       "      <td>0.000000</td>\n",
       "      <td>0.000000</td>\n",
       "    </tr>\n",
       "    <tr>\n",
       "      <th>25%</th>\n",
       "      <td>0.476264</td>\n",
       "      <td>0.557454</td>\n",
       "      <td>0.394956</td>\n",
       "      <td>0.352879</td>\n",
       "      <td>0.529837</td>\n",
       "      <td>0.308342</td>\n",
       "      <td>0.500545</td>\n",
       "      <td>0.429288</td>\n",
       "      <td>0.551025</td>\n",
       "      <td>0.418475</td>\n",
       "      <td>...</td>\n",
       "      <td>0.479238</td>\n",
       "      <td>0.388388</td>\n",
       "      <td>0.385852</td>\n",
       "      <td>0.334709</td>\n",
       "      <td>0.506111</td>\n",
       "      <td>0.410831</td>\n",
       "      <td>0.280240</td>\n",
       "      <td>0.405717</td>\n",
       "      <td>0.445447</td>\n",
       "      <td>0.356357</td>\n",
       "    </tr>\n",
       "    <tr>\n",
       "      <th>50%</th>\n",
       "      <td>0.559477</td>\n",
       "      <td>0.641672</td>\n",
       "      <td>0.478321</td>\n",
       "      <td>0.437090</td>\n",
       "      <td>0.631015</td>\n",
       "      <td>0.387398</td>\n",
       "      <td>0.587109</td>\n",
       "      <td>0.557519</td>\n",
       "      <td>0.632589</td>\n",
       "      <td>0.504952</td>\n",
       "      <td>...</td>\n",
       "      <td>0.551141</td>\n",
       "      <td>0.478502</td>\n",
       "      <td>0.492022</td>\n",
       "      <td>0.384691</td>\n",
       "      <td>0.614133</td>\n",
       "      <td>0.492102</td>\n",
       "      <td>0.358113</td>\n",
       "      <td>0.496963</td>\n",
       "      <td>0.521019</td>\n",
       "      <td>0.459238</td>\n",
       "    </tr>\n",
       "    <tr>\n",
       "      <th>75%</th>\n",
       "      <td>0.630576</td>\n",
       "      <td>0.712756</td>\n",
       "      <td>0.554837</td>\n",
       "      <td>0.522697</td>\n",
       "      <td>0.709618</td>\n",
       "      <td>0.493697</td>\n",
       "      <td>0.692712</td>\n",
       "      <td>0.659477</td>\n",
       "      <td>0.706408</td>\n",
       "      <td>0.578614</td>\n",
       "      <td>...</td>\n",
       "      <td>0.643646</td>\n",
       "      <td>0.590640</td>\n",
       "      <td>0.584703</td>\n",
       "      <td>0.442659</td>\n",
       "      <td>0.698660</td>\n",
       "      <td>0.583209</td>\n",
       "      <td>0.442772</td>\n",
       "      <td>0.600409</td>\n",
       "      <td>0.633784</td>\n",
       "      <td>0.556818</td>\n",
       "    </tr>\n",
       "    <tr>\n",
       "      <th>max</th>\n",
       "      <td>1.000000</td>\n",
       "      <td>1.000000</td>\n",
       "      <td>1.000000</td>\n",
       "      <td>1.000000</td>\n",
       "      <td>1.000000</td>\n",
       "      <td>1.000000</td>\n",
       "      <td>1.000000</td>\n",
       "      <td>1.000000</td>\n",
       "      <td>1.000000</td>\n",
       "      <td>1.000000</td>\n",
       "      <td>...</td>\n",
       "      <td>1.000000</td>\n",
       "      <td>1.000000</td>\n",
       "      <td>1.000000</td>\n",
       "      <td>1.000000</td>\n",
       "      <td>1.000000</td>\n",
       "      <td>1.000000</td>\n",
       "      <td>1.000000</td>\n",
       "      <td>1.000000</td>\n",
       "      <td>1.000000</td>\n",
       "      <td>1.000000</td>\n",
       "    </tr>\n",
       "  </tbody>\n",
       "</table>\n",
       "<p>8 rows × 7129 columns</p>\n",
       "</div>"
      ],
      "text/plain": [
       "       AFFX-BioB-5_at  AFFX-BioB-M_at  AFFX-BioB-3_at  AFFX-BioC-5_at  \\\n",
       "count      601.000000      601.000000      601.000000      601.000000   \n",
       "mean         0.551880        0.631528        0.482168        0.438776   \n",
       "std          0.120852        0.127453        0.149090        0.140154   \n",
       "min          0.000000        0.000000        0.000000        0.000000   \n",
       "25%          0.476264        0.557454        0.394956        0.352879   \n",
       "50%          0.559477        0.641672        0.478321        0.437090   \n",
       "75%          0.630576        0.712756        0.554837        0.522697   \n",
       "max          1.000000        1.000000        1.000000        1.000000   \n",
       "\n",
       "       AFFX-BioC-3_at  AFFX-BioDn-5_at  AFFX-BioDn-3_at  AFFX-CreX-5_at  \\\n",
       "count      601.000000       601.000000       601.000000      601.000000   \n",
       "mean         0.618723         0.403753         0.591583        0.544518   \n",
       "std          0.141699         0.153665         0.155006        0.164288   \n",
       "min          0.000000         0.000000         0.000000        0.000000   \n",
       "25%          0.529837         0.308342         0.500545        0.429288   \n",
       "50%          0.631015         0.387398         0.587109        0.557519   \n",
       "75%          0.709618         0.493697         0.692712        0.659477   \n",
       "max          1.000000         1.000000         1.000000        1.000000   \n",
       "\n",
       "       AFFX-CreX-3_at  AFFX-BioB-5_st     ...        U48730_at   U58516_at  \\\n",
       "count      601.000000      601.000000     ...       601.000000  601.000000   \n",
       "mean         0.621268        0.503159     ...         0.558309    0.486270   \n",
       "std          0.128469        0.141734     ...         0.139064    0.149080   \n",
       "min          0.000000        0.000000     ...         0.000000    0.000000   \n",
       "25%          0.551025        0.418475     ...         0.479238    0.388388   \n",
       "50%          0.632589        0.504952     ...         0.551141    0.478502   \n",
       "75%          0.706408        0.578614     ...         0.643646    0.590640   \n",
       "max          1.000000        1.000000     ...         1.000000    1.000000   \n",
       "\n",
       "        U73738_at   X06956_at   X16699_at   X83863_at   Z17240_at  \\\n",
       "count  601.000000  601.000000  601.000000  601.000000  601.000000   \n",
       "mean     0.485819    0.391604    0.590949    0.503939    0.370512   \n",
       "std      0.164067    0.100772    0.164910    0.138239    0.138930   \n",
       "min      0.000000    0.000000    0.000000    0.000000    0.000000   \n",
       "25%      0.385852    0.334709    0.506111    0.410831    0.280240   \n",
       "50%      0.492022    0.384691    0.614133    0.492102    0.358113   \n",
       "75%      0.584703    0.442659    0.698660    0.583209    0.442772   \n",
       "max      1.000000    1.000000    1.000000    1.000000    1.000000   \n",
       "\n",
       "       L49218_f_at  M71243_f_at  Z78285_f_at  \n",
       "count   601.000000   601.000000   601.000000  \n",
       "mean      0.498539     0.537380     0.461455  \n",
       "std       0.161129     0.154759     0.153690  \n",
       "min       0.000000     0.000000     0.000000  \n",
       "25%       0.405717     0.445447     0.356357  \n",
       "50%       0.496963     0.521019     0.459238  \n",
       "75%       0.600409     0.633784     0.556818  \n",
       "max       1.000000     1.000000     1.000000  \n",
       "\n",
       "[8 rows x 7129 columns]"
      ]
     },
     "execution_count": 7,
     "metadata": {},
     "output_type": "execute_result"
    }
   ],
   "source": [
    "#your code here\n",
    "scaler = MinMaxScaler()\n",
    "X_train_scaled = X_train.copy()\n",
    "X_train_scaled[X_train_scaled.columns] = scaler.fit_transform(X_train_scaled[X_train_scaled.columns])\n",
    "X_train_scaled.describe()"
   ]
  },
  {
   "cell_type": "markdown",
   "metadata": {
    "deletable": true,
    "editable": true
   },
   "source": [
    "**1.2 The training set contains more predictors than observations. What problem(s) can this lead to in fitting a classification model to such a data set? Explain in 3 or fewer sentences.**"
   ]
  },
  {
   "cell_type": "markdown",
   "metadata": {
    "deletable": true,
    "editable": true
   },
   "source": [
    "*your answer here*  \n",
    "Having more predictors than observations means we are trying to solve p equations of n unknowns where p > n, which inevitably results in linear dependence among some of the p predictors. We cannot have unique solution. What's more, few observations will lead to overfitting. \n"
   ]
  },
  {
   "cell_type": "markdown",
   "metadata": {
    "deletable": true,
    "editable": true
   },
   "source": [
    "**1.3** **Identify and report which 10 genes individually discriminate between the two cancer classes the best (consider every gene in the data set).  Note: it will be useful to save this list for future parts.**\n",
    "\n",
    "**Plot two histograms of your best predictor - one using training and another for the testing dataset. Each histogram should clearly distinguish two different `Cancer_type` classes.**\n",
    "\n",
    "**Hint: You may use t-testing to make this determination: #https://en.wikipedia.org/wiki/Welch%27s_t-test.**"
   ]
  },
  {
   "cell_type": "code",
   "execution_count": 8,
   "metadata": {
    "collapsed": false,
    "deletable": true,
    "editable": true
   },
   "outputs": [
    {
     "data": {
      "text/plain": [
       "Index(['M31523_at', 'X95735_at', 'M84526_at', 'X61587_at', 'U50136_rna1_at',\n",
       "       'X17042_at', 'U29175_at', 'Y08612_at', 'Z11793_at', 'J04615_at'],\n",
       "      dtype='object')"
      ]
     },
     "execution_count": 8,
     "metadata": {},
     "output_type": "execute_result"
    }
   ],
   "source": [
    "#your code here\n",
    "from scipy.stats import ttest_ind\n",
    "train_ALL = X_train_scaled[y_train==0]\n",
    "train_AML = X_train_scaled[y_train==1]\n",
    "significant_index = ttest_ind(train_ALL, train_AML,equal_var = False)[1].argsort()[:10]\n",
    "significant_genes = train_ALL.columns[significant_index]\n",
    "significant_genes"
   ]
  },
  {
   "cell_type": "code",
   "execution_count": 9,
   "metadata": {
    "collapsed": false,
    "deletable": true,
    "editable": true
   },
   "outputs": [],
   "source": [
    "#your code here\n",
    "train_best_predictor = X_train_scaled[significant_genes[0]]\n",
    "X_test_scaled = X_test.copy()\n",
    "X_test_scaled[X_test_scaled.columns] = scaler.transform(X_test_scaled[X_test_scaled.columns])\n",
    "test_best_predictor = X_test_scaled[significant_genes[0]]"
   ]
  },
  {
   "cell_type": "code",
   "execution_count": 10,
   "metadata": {
    "collapsed": false,
    "deletable": true,
    "editable": true
   },
   "outputs": [
    {
     "data": {
      "text/plain": [
       "<matplotlib.legend.Legend at 0x21f8b0ec630>"
      ]
     },
     "execution_count": 10,
     "metadata": {},
     "output_type": "execute_result"
    },
    {
     "data": {
      "image/png": "[encoded data removed]",
      "text/plain": [
       "<matplotlib.figure.Figure at 0x21f8e73d6a0>"
      ]
     },
     "metadata": {},
     "output_type": "display_data"
    }
   ],
   "source": [
    "#your code here\n",
    "fig, axes = plt.subplots(1,2,figsize=(12,6))\n",
    "axes[0].hist(train_best_predictor[y_train==0],label='ALL',alpha=0.7,bins=20)\n",
    "axes[0].hist(train_best_predictor[y_train==1],label='AML',alpha=0.7,bins=20)\n",
    "axes[0].set_xlabel('Normalized value of gene expression')\n",
    "axes[0].set_ylabel('Count')\n",
    "axes[0].set_title('Expression of M31523_at in training data',fontsize=15)\n",
    "axes[0].legend()\n",
    "\n",
    "axes[1].hist(test_best_predictor[y_test==0],label='ALL',alpha=0.7,bins=20)\n",
    "axes[1].hist(test_best_predictor[y_test==1],label='AML',alpha=0.7,bins=20)\n",
    "axes[1].set_xlabel('Normalized value of gene expression')\n",
    "axes[1].set_ylabel('Count')\n",
    "axes[1].set_title('Expression of M31523_at in test data',fontsize=15)\n",
    "axes[1].legend()"
   ]
  },
  {
   "cell_type": "markdown",
   "metadata": {
    "deletable": true,
    "editable": true
   },
   "source": [
    "**1.4 Using your top gene from the previous part (call it  `best_predictor`), create a classification model by eye-balling a value for this gene that would discriminate the two classes the best. Justify your choice in 1-2 sentences. Report the accuracy of this hand-chosen model on the test set.**\n"
   ]
  },
  {
   "cell_type": "markdown",
   "metadata": {
    "deletable": true,
    "editable": true
   },
   "source": [
    "0.48 is a good choice of threshold, because for normalized gene expression < 0.48, the count (density scale) of AML is greater than ALL, and vise versa for > 0.48."
   ]
  },
  {
   "cell_type": "code",
   "execution_count": 11,
   "metadata": {
    "collapsed": false,
    "deletable": true,
    "editable": true
   },
   "outputs": [
    {
     "name": "stdout",
     "output_type": "stream",
     "text": [
      "Accuracy of the eye-balling model in test set:  66.2251655629 %\n"
     ]
    }
   ],
   "source": [
    "#your code here\n",
    "print('Accuracy of the eye-balling model in test set: ',accuracy_score(y_test, 1*(test_best_predictor<0.48))*100,'%')"
   ]
  },
  {
   "cell_type": "markdown",
   "metadata": {
    "deletable": true,
    "editable": true
   },
   "source": [
    "<div class='exercise'><b> Question 2 [25 pts]: Linear and Logistic Regression  </b></div>\n",
    "\n",
    "\n",
    "In class we discussed how to use both linear regression and logistic regression for classification. For this question, you will work with a single gene predictor that you identify as the best predictor above to explore these two methods.\n",
    "\n",
    "**2.1** Fit a simple linear regression model to the training set using the single gene predictor `best_predictor` to predict cancer type. The scores predicted by the regression model for a patient could be interpreted as an estimate of the probability that the patient has Cancer_type=1 (AML). Is there a problem with this interpretation?\n",
    "\n",
    "\n",
    "Create a figure with following items displayed on the same plot (use training data):\n",
    " - the predicted quantitative response from the linear regression model as a function of the best gene predictor\n",
    " - the true binary response. \n",
    "\n",
    "\n",
    "**2.2** Use your estimated linear regression model to classify observations into 0 and 1 using the standard Bayes' classifier.  Evaluate the classification accuracy of this classification model on both the training and test sets.\n",
    "\n",
    "\n",
    "**2.3** Next, fit a simple logistic regression model to the training set. How do the training and test classification accuracies of this model compare with the linear regression model? \n",
    "\n",
    "Remember, you need to set the regularization parameter for sklearn's logistic regression function to be a very large value in order to **not** regularize (use 'C=100000'). \n",
    "\n",
    "\n",
    "**2.4** \n",
    "Print and interpret the logistic regression coefficients: the 'slope' and intercept. \n",
    "\n",
    "\n",
    "Create 2 plots (one each for training and testing data) with 4 items displayed on each plot.\n",
    "- the predicted quantitative response from the linear regression model as a function of the best gene predictor.\n",
    "- the predicted probabilities of the logistic regression model as a function of the best gene predictor. \n",
    "- the true binary response. \n",
    "- a horizontal line at $y=0.5$. \n",
    "\n",
    "Based on these plots, does one of the models appear better suited for binary classification than the other?  Explain in 3 sentences or fewer. \n",
    "\n"
   ]
  },
  {
   "cell_type": "markdown",
   "metadata": {
    "deletable": true,
    "editable": true
   },
   "source": [
    "<hr>\n",
    "### Solutions"
   ]
  },
  {
   "cell_type": "markdown",
   "metadata": {
    "deletable": true,
    "editable": true
   },
   "source": [
    "**2.1** **Fit a simple linear regression model to the training set using the single gene predictor `best_predictor` to predict cancer type. The scores predicted by the regression model for a patient could be interpreted as an estimate of the probability that the patient has Cancer_type=1 (AML).  Is there a problem with this interpretation?**\n",
    "\n"
   ]
  },
  {
   "cell_type": "code",
   "execution_count": 12,
   "metadata": {
    "collapsed": false,
    "deletable": true,
    "editable": true
   },
   "outputs": [],
   "source": [
    "# your code here\n",
    "simple_linear_best_predictor = LinearRegression().fit(train_best_predictor.values.reshape(-1,1), y_train)"
   ]
  },
  {
   "cell_type": "code",
   "execution_count": 13,
   "metadata": {
    "collapsed": false,
    "deletable": true,
    "editable": true
   },
   "outputs": [
    {
     "data": {
      "text/plain": [
       "<matplotlib.legend.Legend at 0x21f8b667a90>"
      ]
     },
     "execution_count": 13,
     "metadata": {},
     "output_type": "execute_result"
    },
    {
     "data": {
      "image/png": "[encoded data removed]",
      "text/plain": [
       "<matplotlib.figure.Figure at 0x21f8390ae80>"
      ]
     },
     "metadata": {},
     "output_type": "display_data"
    }
   ],
   "source": [
    "# your code here\n",
    "y_train_pred=simple_linear_best_predictor.predict(train_best_predictor.values.reshape(-1,1))\n",
    "fig, ax=plt.subplots(1,1)\n",
    "ax.plot(train_best_predictor,y_train_pred,label='Linear model')\n",
    "ax.plot(train_best_predictor,y_train,'o',label='Binary outcome',alpha=0.7,markersize=5)\n",
    "ax.set_xlabel('Gene expression normalized')\n",
    "ax.set_ylabel('Predicted cancer type')\n",
    "ax.set_title('Predicted response of linear regression model VS binary outcome')\n",
    "ax.legend()"
   ]
  },
  {
   "cell_type": "markdown",
   "metadata": {
    "deletable": true,
    "editable": true
   },
   "source": [
    "*your answer here*   \n",
    "The predicted response can be out of the reasonable range (0 to 1), and the binary outcome doesn't seem linear against gene repression.\n"
   ]
  },
  {
   "cell_type": "markdown",
   "metadata": {
    "deletable": true,
    "editable": true
   },
   "source": [
    "**2.2** **Use your estimated linear regression model to classify observations into 0 and 1 using the standard Bayes' classifier.  Evaluate the classification accuracy of this classification model on both the training and test sets.**"
   ]
  },
  {
   "cell_type": "code",
   "execution_count": 14,
   "metadata": {
    "collapsed": false,
    "deletable": true,
    "editable": true
   },
   "outputs": [
    {
     "name": "stdout",
     "output_type": "stream",
     "text": [
      "Accuracy of standard Bayes classifier on training set:  70.8818635607 %\n",
      "Accuracy of standard Bayes classifier on test set:  68.8741721854 %\n"
     ]
    }
   ],
   "source": [
    "# your code here\n",
    "y_train_pred_binary=1*(y_train_pred>0.5)\n",
    "print('Accuracy of standard Bayes classifier on training set: ',accuracy_score(y_train, y_train_pred_binary)*100,'%')\n",
    "y_test_pred=simple_linear_best_predictor.predict(test_best_predictor.values.reshape(-1,1))\n",
    "y_test_pred_binary=1*(y_test_pred>0.5)\n",
    "print('Accuracy of standard Bayes classifier on test set: ',accuracy_score(y_test, y_test_pred_binary)*100,'%')"
   ]
  },
  {
   "cell_type": "markdown",
   "metadata": {
    "deletable": true,
    "editable": true
   },
   "source": [
    "\n",
    "**2.3** **Next, fit a simple logistic regression model to the training set. How do the training and test classification accuracies of this model compare with the linear regression model? Are the classifications substantially different?  Explain why this is the case.**\n",
    "\n",
    "**Remember, you need to set the regularization parameter for sklearn's logistic regression function to be a very large value in order to **not** regularize (use 'C=100000')."
   ]
  },
  {
   "cell_type": "code",
   "execution_count": 15,
   "metadata": {
    "collapsed": false,
    "deletable": true,
    "editable": true
   },
   "outputs": [
    {
     "name": "stdout",
     "output_type": "stream",
     "text": [
      "Accuracy of logistic regression model on training set:  70.7154742097 %\n",
      "Accuracy of logistic regression model on test set:  70.8609271523 %\n"
     ]
    }
   ],
   "source": [
    "# your code here\n",
    "logit_best_predictor=LogisticRegression(C=100000).fit(train_best_predictor.values.reshape(-1,1), y_train)\n",
    "y_train_pred_logit=logit_best_predictor.predict(train_best_predictor.values.reshape(-1,1))\n",
    "print('Accuracy of logistic regression model on training set: ',accuracy_score(y_train,y_train_pred_logit)*100,'%')\n",
    "y_test_pred_logit=logit_best_predictor.predict(test_best_predictor.values.reshape(-1,1))\n",
    "print('Accuracy of logistic regression model on test set: ',accuracy_score(y_test,y_test_pred_logit)*100,'%')"
   ]
  },
  {
   "cell_type": "markdown",
   "metadata": {
    "deletable": true,
    "editable": true
   },
   "source": [
    "*your answer here*   \n",
    "The accuracies of logistic regression model are bit higher than standard Bayes' classifier, but not significantly different. We are only using one predictor, so it may explain why our logistic model doesn't do a much better job than linear regression.\n"
   ]
  },
  {
   "cell_type": "markdown",
   "metadata": {
    "deletable": true,
    "editable": true
   },
   "source": [
    "**2.4 Print and interpret the logistic regression coefficients: the 'slope' and the intercept.**\n",
    "\n",
    "**Create 2 plots (with training and test data) with 4 items displayed on each plot.**\n",
    "- the predicted quantitative response from the linear regression model as a function of the best gene predictor.\n",
    "- the predicted probabilities of the logistic regression model as a function of the best gene predictor. \n",
    "- the true binary response. \n",
    "- a horizontal line at $y=0.5$.\n",
    "\n",
    "**Based on these plots, does one of the models appear better suited for binary classification than the other?  Explain in 3 sentences or fewer.** \n"
   ]
  },
  {
   "cell_type": "code",
   "execution_count": 16,
   "metadata": {
    "collapsed": false,
    "deletable": true,
    "editable": true
   },
   "outputs": [
    {
     "data": {
      "text/plain": [
       "array([-8.75710451])"
      ]
     },
     "execution_count": 16,
     "metadata": {},
     "output_type": "execute_result"
    }
   ],
   "source": [
    "# your code here\n",
    "logit_best_predictor.coef_[0]"
   ]
  },
  {
   "cell_type": "markdown",
   "metadata": {
    "deletable": true,
    "editable": true
   },
   "source": [
    "The odds of being AML for people with max M31523_at expression is $e^{-8.75710451} = 0.000157$ times of the odds of being AML for people with min M31523_at expression."
   ]
  },
  {
   "cell_type": "code",
   "execution_count": 17,
   "metadata": {
    "collapsed": false,
    "deletable": true,
    "editable": true
   },
   "outputs": [
    {
     "data": {
      "text/plain": [
       "array([ 4.07726908])"
      ]
     },
     "execution_count": 17,
     "metadata": {},
     "output_type": "execute_result"
    }
   ],
   "source": [
    "# your code here\n",
    "logit_best_predictor.intercept_"
   ]
  },
  {
   "cell_type": "markdown",
   "metadata": {
    "deletable": true,
    "editable": true
   },
   "source": [
    "The odds of being AML for people with min M31523_at expression is $e^{4.07726908} = 58.9842$"
   ]
  },
  {
   "cell_type": "code",
   "execution_count": 18,
   "metadata": {
    "collapsed": false,
    "deletable": true,
    "editable": true
   },
   "outputs": [
    {
     "data": {
      "text/plain": [
       "<matplotlib.legend.Legend at 0x21f8b3c7b38>"
      ]
     },
     "execution_count": 18,
     "metadata": {},
     "output_type": "execute_result"
    },
    {
     "data": {
      "image/png": "[encoded data removed]",
      "text/plain": [
       "<matplotlib.figure.Figure at 0x21f8b6785c0>"
      ]
     },
     "metadata": {},
     "output_type": "display_data"
    }
   ],
   "source": [
    "#chunk=np.exp(logit_best_predictor.intercept_+logit_best_predictor.coef_[0]*train_best_predictor)\n",
    "#y_train_pred_logit_proba=chunk/(1+chunk)\n",
    "y_train_pred_logit_proba=logit_best_predictor.predict_proba(train_best_predictor.sort_values().values.reshape(-1,1))\n",
    "#chunk2=np.exp(logit_best_predictor.intercept_+logit_best_predictor.coef_[0]*test_best_predictor)\n",
    "#y_test_pred_logit_proba==chunk2/(1+chunk2)\n",
    "y_test_pred_logit_proba=logit_best_predictor.predict_proba(test_best_predictor.sort_values().values.reshape(-1,1))\n",
    "fig, axes = plt.subplots(1,2,figsize=(12,6),sharey='row')\n",
    "axes[0].plot(train_best_predictor,y_train_pred,label='Linear model')\n",
    "axes[0].plot(train_best_predictor,y_train,'o',label='Binary outcome',alpha=0.7,markersize=5)\n",
    "axes[0].plot(train_best_predictor.sort_values(),\n",
    "             y_train_pred_logit_proba[:,1]#[train_best_predictor.sort_values().index]\n",
    "             ,'r',\n",
    "             label='Logistic regression')\n",
    "axes[0].set_xlabel('Gene expression normalized')\n",
    "axes[0].set_ylabel('Predicted cancer type')\n",
    "axes[0].set_title('Training data')\n",
    "axes[0].axhline(y=0.5,color='orange')\n",
    "axes[0].legend()\n",
    "\n",
    "axes[1].plot(test_best_predictor,y_test_pred,label='Linear model')\n",
    "axes[1].plot(test_best_predictor,y_test,'o',label='Binary outcome',alpha=0.7,markersize=5)\n",
    "axes[1].plot(test_best_predictor.sort_values(),\n",
    "             y_test_pred_logit_proba[:,1]#[test_best_predictor.sort_values().index]\n",
    "             ,'r',\n",
    "             label='Logistic regression')\n",
    "axes[1].set_xlabel('Gene expression normalized')\n",
    "axes[1].set_ylabel('Predicted cancer type')\n",
    "axes[1].set_title('Test data')\n",
    "axes[1].axhline(y=0.5,color='orange')\n",
    "axes[1].legend()"
   ]
  },
  {
   "cell_type": "markdown",
   "metadata": {},
   "source": [
    "The two models have similar fitness, and none of them is significantly better than the other. Because the intersaction of the fitted models and the horizonal line y=0.5 are almost the same, the classification outcome should also be almost same."
   ]
  },
  {
   "cell_type": "markdown",
   "metadata": {
    "deletable": true,
    "editable": true
   },
   "source": [
    "<div class='exercise'> <b> Question 3 [20pts]: Multiple Logistic Regression </b> </div>\n",
    "\n",
    "\n",
    "**3.1** Next, fit a multiple logistic regression model with all the gene predictors from the data set.  How does the classification accuracy of this model compare with the models fitted in question 2 with a single gene (on both the training and test sets)?  \n",
    "\n",
    "\n",
    "**3.2** How many of the coefficients estimated by this multiple logistic regression in the previous part are significantly different from zero at a *significance level of 5%*? Use the same value of C=100000 as before.\n",
    "\n",
    "**Hint:** To answer this question, use *bootstrapping* with 100 bootstrap samples/iterations.  \n",
    "\n",
    "\n",
    "**3.3** Comment on the classification accuracy of training and test set? Given the results above how would you assess the generalization capacity of your trained model? What other tests would you suggest to better guard against false sense of security on the accuracy of the model as a whole? \n",
    "\n",
    "**3.4** Now use regularization to improve predictions from the multiple logistic regression model.  Use LASSO-like regularization and cross-validation within the training set to tune the model.  Report the classification accuracy on both the training and test set.\n",
    "\n",
    "**3.5** Do the 10 best predictors from Q1 hold up as important features in this regularized model?  If not, explain why this is the case (feel free to use the data to support your explanation)."
   ]
  },
  {
   "cell_type": "markdown",
   "metadata": {
    "deletable": true,
    "editable": true
   },
   "source": [
    "<hr>\n",
    "### Solutions"
   ]
  },
  {
   "cell_type": "markdown",
   "metadata": {
    "deletable": true,
    "editable": true
   },
   "source": [
    "**3.1** **Next, fit a multiple logistic regression model with all the gene predictors from the data set.  How does the classification accuracy of this model compare with the models fitted in question 2 with a single gene (on both the training and test sets)?**  \n"
   ]
  },
  {
   "cell_type": "code",
   "execution_count": 19,
   "metadata": {
    "collapsed": false,
    "deletable": true,
    "editable": true
   },
   "outputs": [
    {
     "name": "stdout",
     "output_type": "stream",
     "text": [
      "Accuracy of logistic regression model on training set:  100.0 %\n",
      "Accuracy of logistic regression model on test set:  77.4834437086 %\n"
     ]
    }
   ],
   "source": [
    "# your code here\n",
    "logit_allgenes=LogisticRegression(C=100000).fit(X_train_scaled.values, y_train)\n",
    "y_train_pred_logit_allgenes=logit_allgenes.predict(X_train_scaled.values)\n",
    "y_test_pred_logit_allgenes=logit_allgenes.predict(X_test_scaled.values)\n",
    "print('Accuracy of logistic regression model on training set: ',accuracy_score(y_train,y_train_pred_logit_allgenes)*100,'%')\n",
    "print('Accuracy of logistic regression model on test set: ',accuracy_score(y_test,y_test_pred_logit_allgenes)*100,'%')"
   ]
  },
  {
   "cell_type": "markdown",
   "metadata": {
    "deletable": true,
    "editable": true
   },
   "source": [
    "*your answer here*   \n",
    "The accuracy in training data is 100%, and the accuracy in test data is also higher than the logistic regression model with single gene\n"
   ]
  },
  {
   "cell_type": "markdown",
   "metadata": {
    "deletable": true,
    "editable": true
   },
   "source": [
    "**3.2** **How many of the coefficients estimated by this multiple logistic regression in the previous part are significantly different from zero at a *significance level of 5%*? Use the same value of C=100000 as before.**\n",
    "\n",
    "**Hint:** **To answer this question, use *bootstrapping* with 100 bootstrap samples/iterations.**  \n"
   ]
  },
  {
   "cell_type": "code",
   "execution_count": 20,
   "metadata": {
    "collapsed": false,
    "deletable": true,
    "editable": true
   },
   "outputs": [],
   "source": [
    "coef_df=pd.DataFrame(columns=X_train.columns)\n",
    "logistic_allgenes_ls=[]\n",
    "train_index=X_train_scaled.index\n",
    "for i in range(1,101):\n",
    "    np.random.seed(i)\n",
    "    bootstrap_index=np.random.choice(train_index,100)\n",
    "    X_train_scaled_bootstrap=X_train_scaled.loc[bootstrap_index,]\n",
    "    y_train_bootstrap=y_train[bootstrap_index]\n",
    "    logistic_allgenes_i=LogisticRegression(C=100000).fit(X_train_scaled_bootstrap.values, y_train_bootstrap)\n",
    "    logistic_allgenes_ls.append(logistic_allgenes_i)\n",
    "    coef_df.loc[i]=logistic_allgenes_i.coef_[0]"
   ]
  },
  {
   "cell_type": "code",
   "execution_count": 21,
   "metadata": {
    "collapsed": false
   },
   "outputs": [
    {
     "data": {
      "text/plain": [
       "Ttest_1sampResult(statistic=array([  75.45705541,  100.48902017,   63.241968  , ...,   52.12881907,\n",
       "         65.61415208,   55.90132981]), pvalue=array([  3.09275130e-200,   6.21272122e-237,   4.08212075e-178, ...,\n",
       "         1.50805270e-154,   1.09262671e-182,   5.60098136e-163]))"
      ]
     },
     "execution_count": 21,
     "metadata": {},
     "output_type": "execute_result"
    }
   ],
   "source": [
    "from scipy.stats import ttest_1samp\n",
    "ttest_1samp(train_ALL,0)"
   ]
  },
  {
   "cell_type": "code",
   "execution_count": 22,
   "metadata": {
    "collapsed": false
   },
   "outputs": [
    {
     "name": "stdout",
     "output_type": "stream",
     "text": [
      "Total number of significant coefficients:  5427\n"
     ]
    }
   ],
   "source": [
    "print('Total number of significant coefficients: ',sum(ttest_1samp(coef_df,0)[1]<=0.05))"
   ]
  },
  {
   "cell_type": "markdown",
   "metadata": {
    "deletable": true,
    "editable": true
   },
   "source": [
    "**3.3 Open question: Comment on the classification accuracy of training and test set? Given the results above how would you assest the generalization capacity of your trained model? What other tests would you suggest to better guard against false sense of security on the accuracy of the model as a whole.**"
   ]
  },
  {
   "cell_type": "markdown",
   "metadata": {
    "deletable": true,
    "editable": true
   },
   "source": [
    "*your answer here*  \n",
    "The accuracy in training set reaches the max limit, but it is not so high comparatively in test data, which indicates that there is some kind of overfit. Such model is not capable for generalization. We can calculate the AUC of ROC to test the model better as a whole."
   ]
  },
  {
   "cell_type": "markdown",
   "metadata": {
    "deletable": true,
    "editable": true
   },
   "source": [
    "**3.4 Now use regularization to improve predictions from the multiple logistic regression model.  Use LASSO-like regularization and cross-validation within the training set to tune the model.  Report the classification accuracy on both the training and test set.**"
   ]
  },
  {
   "cell_type": "code",
   "execution_count": 23,
   "metadata": {
    "collapsed": false,
    "deletable": true,
    "editable": true
   },
   "outputs": [
    {
     "name": "stdout",
     "output_type": "stream",
     "text": [
      "Accuracy of LASSO-logistic regression model on training set:  90.8485856905 %\n",
      "Accuracy of LASSO-logistic regression model on test set:  86.0927152318 %\n"
     ]
    }
   ],
   "source": [
    "# your code here\n",
    "logistic_cv=LogisticRegressionCV(penalty='l1',solver='liblinear').fit(X_train_scaled.values, y_train)\n",
    "y_train_pred_logit_cv=logistic_cv.predict(X_train_scaled.values)\n",
    "y_test_pred_logit_cv=logistic_cv.predict(X_test_scaled.values)\n",
    "print('Accuracy of LASSO-logistic regression model on training set: ',accuracy_score(y_train,y_train_pred_logit_cv)*100,'%')\n",
    "print('Accuracy of LASSO-logistic regression model on test set: ',accuracy_score(y_test,y_test_pred_logit_cv)*100,'%')"
   ]
  },
  {
   "cell_type": "markdown",
   "metadata": {},
   "source": [
    "The accuracy of the logisticCV model is 91% in training data and 86% in test data."
   ]
  },
  {
   "cell_type": "markdown",
   "metadata": {
    "deletable": true,
    "editable": true
   },
   "source": [
    "**3.5: Do the 10 best predictors from Q1 hold up as important features in this regularized model?  If not, explain why this is the case (feel free to use the data to support your explanation).**"
   ]
  },
  {
   "cell_type": "code",
   "execution_count": 24,
   "metadata": {
    "collapsed": false,
    "deletable": true,
    "editable": true
   },
   "outputs": [
    {
     "data": {
      "text/plain": [
       "Index(['AFFX-DapX-3_at', 'D38462_at', 'D86975_at', 'J04444_at', 'L41559_at',\n",
       "       'M14016_at', 'M16038_at', 'M19507_at', 'M27891_at', 'M68895_rna1_at',\n",
       "       'M75126_at', 'M80254_at', 'M84526_at', 'U10868_at', 'U17280_at',\n",
       "       'U19878_at', 'U28687_at', 'U46499_at', 'U50136_rna1_at', 'U77604_at',\n",
       "       'X53331_at', 'X60484_at', 'X61587_at', 'X70297_at', 'X71973_at',\n",
       "       'X95735_at', 'Y07604_at', 'Z11793_at', 'Z21966_at', 'U41518_at',\n",
       "       'X52228_at', 'M83667_rna1_s_at', 'X85116_rna1_s_at', 'U69126_s_at'],\n",
       "      dtype='object')"
      ]
     },
     "execution_count": 24,
     "metadata": {},
     "output_type": "execute_result"
    }
   ],
   "source": [
    "# your code here\n",
    "features_cv=X_train.columns[logistic_cv.coef_[0]>0]\n",
    "features_cv"
   ]
  },
  {
   "cell_type": "code",
   "execution_count": 25,
   "metadata": {
    "collapsed": false,
    "deletable": true,
    "editable": true
   },
   "outputs": [
    {
     "data": {
      "text/plain": [
       "Index(['M84526_at', 'U50136_rna1_at', 'X61587_at', 'X95735_at', 'Z11793_at'], dtype='object')"
      ]
     },
     "execution_count": 25,
     "metadata": {},
     "output_type": "execute_result"
    }
   ],
   "source": [
    "# your code here\n",
    "features_cv&significant_genes"
   ]
  },
  {
   "cell_type": "markdown",
   "metadata": {
    "deletable": true,
    "editable": true
   },
   "source": [
    "*your answer here*   \n",
    "Not all the 10 genes stay in the regularized model, because the LASSO regularization tend to reduce betas as much as possible to 0 and do the job of predictor selection. Those important genes not in regularized model may have colinearity with other genes and be explained by those selected by LASSO jointly.\n"
   ]
  },
  {
   "cell_type": "markdown",
   "metadata": {
    "deletable": true,
    "editable": true
   },
   "source": [
    "<div class='exercise'> <b> Question 4 [25pts]: Multi Class Log Regression </b> </div>"
   ]
  },
  {
   "cell_type": "markdown",
   "metadata": {
    "deletable": true,
    "editable": true
   },
   "source": [
    "**4.1** Load the data from `hw4_mc_enhance.csv.zip` and examine its structure. How many instances of each class are there in our dataset? \n",
    "\n",
    "**4.2** Split the dataset into train and test, 80-20 split, random_state = 8. \n",
    "\n",
    "We are going to utilize these two features - 'M31523_at', 'X95735_at'.  Create a scatter plot of these two features using the training dataset.  It should be easily discernable via labeling/marking in the plot which observations belong to which `cancer_type`.\n",
    "\n",
    "**4.3** Fit the following two models using crossvalidation: \n",
    "- Logistic Regression Multiclass model with linear features. \n",
    "- Logistic Regression Multiclass model with Polynomial features, degree = 2.\n",
    "\n",
    "**4.4** Plot the decision boundaries for each model and interpret the results. Hint: You may utilize the function `overlay_decision_boundary`. \n",
    "\n",
    "**4.5** Report and plot the CV scores for the two models and interpret. \n"
   ]
  },
  {
   "cell_type": "markdown",
   "metadata": {
    "deletable": true,
    "editable": true
   },
   "source": [
    "<hr>\n",
    "### Solutions"
   ]
  },
  {
   "cell_type": "markdown",
   "metadata": {
    "deletable": true,
    "editable": true
   },
   "source": [
    "**4.1 Load the data from `hw4_mc_enhance.csv.zip` and examine its structure. How many instances of each class are there in our dataset?**"
   ]
  },
  {
   "cell_type": "code",
   "execution_count": 26,
   "metadata": {
    "collapsed": false,
    "deletable": true,
    "editable": true
   },
   "outputs": [
    {
     "name": "stdout",
     "output_type": "stream",
     "text": [
      "(750, 7130)\n"
     ]
    }
   ],
   "source": [
    "#your code here\n",
    "df2 = pd.read_csv('hw4_mc_enhance.csv', index_col=0)\n",
    "print(df2.shape)"
   ]
  },
  {
   "cell_type": "code",
   "execution_count": 27,
   "metadata": {
    "collapsed": false
   },
   "outputs": [
    {
     "data": {
      "text/html": [
       "<div>\n",
       "<style scoped>\n",
       "    .dataframe tbody tr th:only-of-type {\n",
       "        vertical-align: middle;\n",
       "    }\n",
       "\n",
       "    .dataframe tbody tr th {\n",
       "        vertical-align: top;\n",
       "    }\n",
       "\n",
       "    .dataframe thead th {\n",
       "        text-align: right;\n",
       "    }\n",
       "</style>\n",
       "<table border=\"1\" class=\"dataframe\">\n",
       "  <thead>\n",
       "    <tr style=\"text-align: right;\">\n",
       "      <th></th>\n",
       "      <th>AFFX-BioB-5_at</th>\n",
       "      <th>AFFX-BioB-M_at</th>\n",
       "      <th>AFFX-BioB-3_at</th>\n",
       "      <th>AFFX-BioC-5_at</th>\n",
       "      <th>AFFX-BioC-3_at</th>\n",
       "      <th>AFFX-BioDn-5_at</th>\n",
       "      <th>AFFX-BioDn-3_at</th>\n",
       "      <th>AFFX-CreX-5_at</th>\n",
       "      <th>AFFX-CreX-3_at</th>\n",
       "      <th>AFFX-BioB-5_st</th>\n",
       "      <th>...</th>\n",
       "      <th>U58516_at</th>\n",
       "      <th>U73738_at</th>\n",
       "      <th>X06956_at</th>\n",
       "      <th>X16699_at</th>\n",
       "      <th>X83863_at</th>\n",
       "      <th>Z17240_at</th>\n",
       "      <th>L49218_f_at</th>\n",
       "      <th>M71243_f_at</th>\n",
       "      <th>Z78285_f_at</th>\n",
       "      <th>cancer_type</th>\n",
       "    </tr>\n",
       "  </thead>\n",
       "  <tbody>\n",
       "    <tr>\n",
       "      <th>0</th>\n",
       "      <td>-1363.276427</td>\n",
       "      <td>-1058.585495</td>\n",
       "      <td>-541.469194</td>\n",
       "      <td>74.349803</td>\n",
       "      <td>-1110.082554</td>\n",
       "      <td>-1545.661845</td>\n",
       "      <td>-2037.029616</td>\n",
       "      <td>-1255.990888</td>\n",
       "      <td>-335.480958</td>\n",
       "      <td>-938.425691</td>\n",
       "      <td>...</td>\n",
       "      <td>1565.618803</td>\n",
       "      <td>-485.680714</td>\n",
       "      <td>-170.261227</td>\n",
       "      <td>-919.114293</td>\n",
       "      <td>1675.050053</td>\n",
       "      <td>389.769289</td>\n",
       "      <td>-526.449219</td>\n",
       "      <td>-268.963924</td>\n",
       "      <td>-779.643092</td>\n",
       "      <td>0.0</td>\n",
       "    </tr>\n",
       "    <tr>\n",
       "      <th>1</th>\n",
       "      <td>-796.285053</td>\n",
       "      <td>-1167.103365</td>\n",
       "      <td>7.538493</td>\n",
       "      <td>83.544731</td>\n",
       "      <td>-1116.432539</td>\n",
       "      <td>-1731.392100</td>\n",
       "      <td>249.376523</td>\n",
       "      <td>-1636.960108</td>\n",
       "      <td>-149.080421</td>\n",
       "      <td>-222.783440</td>\n",
       "      <td>...</td>\n",
       "      <td>622.498054</td>\n",
       "      <td>-1275.354673</td>\n",
       "      <td>214.828233</td>\n",
       "      <td>-750.220666</td>\n",
       "      <td>-441.589276</td>\n",
       "      <td>9.841713</td>\n",
       "      <td>-671.911209</td>\n",
       "      <td>-671.911209</td>\n",
       "      <td>-644.272577</td>\n",
       "      <td>0.0</td>\n",
       "    </tr>\n",
       "    <tr>\n",
       "      <th>2</th>\n",
       "      <td>-679.139168</td>\n",
       "      <td>-1069.832308</td>\n",
       "      <td>-690.301829</td>\n",
       "      <td>-112.075981</td>\n",
       "      <td>-1199.319178</td>\n",
       "      <td>-1286.387935</td>\n",
       "      <td>-605.465604</td>\n",
       "      <td>-1043.041921</td>\n",
       "      <td>-728.254877</td>\n",
       "      <td>388.011238</td>\n",
       "      <td>...</td>\n",
       "      <td>162.525483</td>\n",
       "      <td>-692.534361</td>\n",
       "      <td>517.498108</td>\n",
       "      <td>-674.674103</td>\n",
       "      <td>1265.396405</td>\n",
       "      <td>-65.192805</td>\n",
       "      <td>-714.859684</td>\n",
       "      <td>3672.066149</td>\n",
       "      <td>-822.021231</td>\n",
       "      <td>0.0</td>\n",
       "    </tr>\n",
       "    <tr>\n",
       "      <th>3</th>\n",
       "      <td>-1164.400197</td>\n",
       "      <td>-1109.939891</td>\n",
       "      <td>-990.127218</td>\n",
       "      <td>-238.574994</td>\n",
       "      <td>-1264.607160</td>\n",
       "      <td>-1218.860503</td>\n",
       "      <td>-1255.893511</td>\n",
       "      <td>-1009.732928</td>\n",
       "      <td>-521.768585</td>\n",
       "      <td>-926.953263</td>\n",
       "      <td>...</td>\n",
       "      <td>-31.625831</td>\n",
       "      <td>-621.975549</td>\n",
       "      <td>-458.594630</td>\n",
       "      <td>-630.689198</td>\n",
       "      <td>937.767618</td>\n",
       "      <td>-264.715941</td>\n",
       "      <td>-635.046022</td>\n",
       "      <td>475.944222</td>\n",
       "      <td>-794.070116</td>\n",
       "      <td>0.0</td>\n",
       "    </tr>\n",
       "    <tr>\n",
       "      <th>4</th>\n",
       "      <td>-1299.653758</td>\n",
       "      <td>-1401.998536</td>\n",
       "      <td>-1077.543813</td>\n",
       "      <td>-437.344560</td>\n",
       "      <td>-1386.755697</td>\n",
       "      <td>-1726.453259</td>\n",
       "      <td>-1499.988218</td>\n",
       "      <td>-1219.084464</td>\n",
       "      <td>-994.796971</td>\n",
       "      <td>-670.342247</td>\n",
       "      <td>...</td>\n",
       "      <td>383.591216</td>\n",
       "      <td>-905.517483</td>\n",
       "      <td>-36.675640</td>\n",
       "      <td>-1116.739685</td>\n",
       "      <td>316.087213</td>\n",
       "      <td>-210.879518</td>\n",
       "      <td>-953.423549</td>\n",
       "      <td>-291.448812</td>\n",
       "      <td>-1057.945876</td>\n",
       "      <td>0.0</td>\n",
       "    </tr>\n",
       "  </tbody>\n",
       "</table>\n",
       "<p>5 rows × 7130 columns</p>\n",
       "</div>"
      ],
      "text/plain": [
       "   AFFX-BioB-5_at  AFFX-BioB-M_at  AFFX-BioB-3_at  AFFX-BioC-5_at  \\\n",
       "0    -1363.276427    -1058.585495     -541.469194       74.349803   \n",
       "1     -796.285053    -1167.103365        7.538493       83.544731   \n",
       "2     -679.139168    -1069.832308     -690.301829     -112.075981   \n",
       "3    -1164.400197    -1109.939891     -990.127218     -238.574994   \n",
       "4    -1299.653758    -1401.998536    -1077.543813     -437.344560   \n",
       "\n",
       "   AFFX-BioC-3_at  AFFX-BioDn-5_at  AFFX-BioDn-3_at  AFFX-CreX-5_at  \\\n",
       "0    -1110.082554     -1545.661845     -2037.029616    -1255.990888   \n",
       "1    -1116.432539     -1731.392100       249.376523    -1636.960108   \n",
       "2    -1199.319178     -1286.387935      -605.465604    -1043.041921   \n",
       "3    -1264.607160     -1218.860503     -1255.893511    -1009.732928   \n",
       "4    -1386.755697     -1726.453259     -1499.988218    -1219.084464   \n",
       "\n",
       "   AFFX-CreX-3_at  AFFX-BioB-5_st     ...         U58516_at    U73738_at  \\\n",
       "0     -335.480958     -938.425691     ...       1565.618803  -485.680714   \n",
       "1     -149.080421     -222.783440     ...        622.498054 -1275.354673   \n",
       "2     -728.254877      388.011238     ...        162.525483  -692.534361   \n",
       "3     -521.768585     -926.953263     ...        -31.625831  -621.975549   \n",
       "4     -994.796971     -670.342247     ...        383.591216  -905.517483   \n",
       "\n",
       "    X06956_at    X16699_at    X83863_at   Z17240_at  L49218_f_at  M71243_f_at  \\\n",
       "0 -170.261227  -919.114293  1675.050053  389.769289  -526.449219  -268.963924   \n",
       "1  214.828233  -750.220666  -441.589276    9.841713  -671.911209  -671.911209   \n",
       "2  517.498108  -674.674103  1265.396405  -65.192805  -714.859684  3672.066149   \n",
       "3 -458.594630  -630.689198   937.767618 -264.715941  -635.046022   475.944222   \n",
       "4  -36.675640 -1116.739685   316.087213 -210.879518  -953.423549  -291.448812   \n",
       "\n",
       "   Z78285_f_at  cancer_type  \n",
       "0  -779.643092          0.0  \n",
       "1  -644.272577          0.0  \n",
       "2  -822.021231          0.0  \n",
       "3  -794.070116          0.0  \n",
       "4 -1057.945876          0.0  \n",
       "\n",
       "[5 rows x 7130 columns]"
      ]
     },
     "execution_count": 27,
     "metadata": {},
     "output_type": "execute_result"
    }
   ],
   "source": [
    "df2.head()"
   ]
  },
  {
   "cell_type": "code",
   "execution_count": 28,
   "metadata": {
    "collapsed": false,
    "deletable": true,
    "editable": true
   },
   "outputs": [
    {
     "data": {
      "text/plain": [
       "cancer_type\n",
       "0.0    250\n",
       "1.0    250\n",
       "2.0    250\n",
       "Name: cancer_type, dtype: int64"
      ]
     },
     "execution_count": 28,
     "metadata": {},
     "output_type": "execute_result"
    }
   ],
   "source": [
    "#your code here \n",
    "df2['cancer_type'].groupby(df2['cancer_type']).count()"
   ]
  },
  {
   "cell_type": "markdown",
   "metadata": {},
   "source": [
    "250 instances for each type of cancer."
   ]
  },
  {
   "cell_type": "markdown",
   "metadata": {
    "deletable": true,
    "editable": true
   },
   "source": [
    "**4.2 Split the dataset into train and test, 80-20 split, random_state = 8.**\n",
    "\n",
    "**We are going to utilize these two features - 'M31523_at', 'X95735_at'.  Create a scatter plot of these two features using training dataset.  We should be able to discern from the plot which sample belongs to which `cancer_type`.** "
   ]
  },
  {
   "cell_type": "code",
   "execution_count": 29,
   "metadata": {
    "collapsed": false,
    "deletable": true,
    "editable": true
   },
   "outputs": [],
   "source": [
    "# your code here\n",
    "X2_train, X2_test, y2_train, y2_test =train_test_split(df2.loc[:, df2.columns != 'cancer_type'], \n",
    "                                                         df2.cancer_type, test_size=0.2, \n",
    "                                                         random_state = 8, \n",
    "                                                         stratify = df2.cancer_type)\n",
    "X2_train=X2_train[['M31523_at','X95735_at']]\n",
    "X2_test=X2_test[['M31523_at','X95735_at']]\n",
    "scaler2 = MinMaxScaler()\n",
    "X2_train_scaled = X2_train.copy()\n",
    "X2_train_scaled[X2_train_scaled.columns] = scaler.fit_transform(X2_train_scaled[X2_train_scaled.columns])\n",
    "X2_test_scaled = X2_test.copy()\n",
    "X2_test_scaled[X2_test_scaled.columns] = scaler.transform(X2_test_scaled[X2_test_scaled.columns])"
   ]
  },
  {
   "cell_type": "code",
   "execution_count": 30,
   "metadata": {
    "collapsed": false
   },
   "outputs": [
    {
     "data": {
      "text/plain": [
       "<matplotlib.text.Text at 0x21f8b2be6d8>"
      ]
     },
     "execution_count": 30,
     "metadata": {},
     "output_type": "execute_result"
    },
    {
     "data": {
      "image/png": "[encoded data removed]",
      "text/plain": [
       "<matplotlib.figure.Figure at 0x21f8b3e8898>"
      ]
     },
     "metadata": {},
     "output_type": "display_data"
    }
   ],
   "source": [
    "df2_plot=pd.concat([X2_train_scaled,y2_train],axis=1)\n",
    "fig, ax=plt.subplots(1,1)\n",
    "ax.scatter(df2_plot[df2_plot.cancer_type==0].M31523_at,df2_plot[df2_plot.cancer_type==0].X95735_at,\n",
    "           label='cancer type 0',color='r',alpha=0.7,s=10)\n",
    "ax.scatter(df2_plot[df2_plot.cancer_type==1].M31523_at,df2_plot[df2_plot.cancer_type==1].X95735_at,\n",
    "           label='cancer type 1',color='g',alpha=0.7,s=10)\n",
    "ax.scatter(df2_plot[df2_plot.cancer_type==2].M31523_at,df2_plot[df2_plot.cancer_type==2].X95735_at,\n",
    "           label='cancer type 2',color='b',alpha=0.7,s=10)\n",
    "ax.legend()\n",
    "ax.set_xlabel('M31523_at')\n",
    "ax.set_ylabel('X95735_at')"
   ]
  },
  {
   "cell_type": "markdown",
   "metadata": {
    "deletable": true,
    "editable": true
   },
   "source": [
    "**4.3  Fit the following two models using crossvalidation:**\n",
    "\n",
    "**Logistic Regression Multiclass model with linear features.**\n",
    "\n",
    "**Logistic Regression Multiclass model with Polynomial features, degree = 2.**\n"
   ]
  },
  {
   "cell_type": "code",
   "execution_count": 31,
   "metadata": {
    "collapsed": false,
    "deletable": true,
    "editable": true
   },
   "outputs": [],
   "source": [
    "# your code here\n",
    "logistic_multi_cv=LogisticRegressionCV(penalty='l2',solver='newton-cg',multi_class='ovr').fit(X2_train_scaled.values, y2_train)"
   ]
  },
  {
   "cell_type": "code",
   "execution_count": 32,
   "metadata": {
    "collapsed": true,
    "deletable": true,
    "editable": true
   },
   "outputs": [],
   "source": [
    "# your code here\n",
    "X2_train_scaled_poly=X2_train_scaled.copy()\n",
    "X2_train_scaled_poly['M31523_at_sq']=X2_train_scaled['M31523_at']**2\n",
    "X2_train_scaled_poly['X95735_at_sq']=X2_train_scaled['X95735_at']**2\n",
    "logistic_multi_cv_poly=LogisticRegressionCV(penalty='l2',solver='newton-cg',multi_class='ovr').fit(X2_train_scaled_poly.values, y2_train)"
   ]
  },
  {
   "cell_type": "markdown",
   "metadata": {
    "deletable": true,
    "editable": true
   },
   "source": [
    "**4.4 Plot the decision boundary and interpret results. Hint: You may utilize the function `overlay_decision_boundary`** \n"
   ]
  },
  {
   "cell_type": "code",
   "execution_count": 33,
   "metadata": {
    "collapsed": false,
    "deletable": true,
    "editable": true
   },
   "outputs": [],
   "source": [
    "def overlay_decision_boundary(ax, model, colors=None, nx=200, ny=200, desaturate=.5, xlim=None, ylim=None,poly=False):\n",
    "    \"\"\"\n",
    "    A function that visualizes the decision boundaries of a classifier.\n",
    "    \n",
    "    ax: Matplotlib Axes to plot on\n",
    "    model: Classifier to use.\n",
    "     - if `model` has a `.predict` method, like an sklearn classifier, we call `model.predict(X)`\n",
    "     - otherwise, we simply call `model(X)`\n",
    "    colors: list or dict of colors to use. Use color `colors[i]` for class i.\n",
    "     - If colors is not provided, uses the current color cycle\n",
    "    nx, ny: number of mesh points to evaluated the classifier on\n",
    "    desaturate: how much to desaturate each of the colors (for better contrast with the sample points)\n",
    "    xlim, ylim: range to plot on. (If the default, None, is passed, the limits will be taken from `ax`.)\n",
    "    \"\"\"\n",
    "    # Create mesh.\n",
    "    xmin, xmax = ax.get_xlim() if xlim is None else xlim\n",
    "    ymin, ymax = ax.get_ylim() if ylim is None else ylim\n",
    "    xx, yy = np.meshgrid(\n",
    "        np.linspace(xmin, xmax, nx),\n",
    "        np.linspace(ymin, ymax, ny))\n",
    "    if poly == True:\n",
    "        X = np.c_[xx.flatten(), yy.flatten(), xx.flatten()**2,yy.flatten()**2]\n",
    "    else:\n",
    "        X = np.c_[xx.flatten(), yy.flatten()]\n",
    "    #X = np.c_[xx.flatten(), yy.flatten()]\n",
    "\n",
    "    # Predict on mesh of points.\n",
    "    model = getattr(model, 'predict', model)\n",
    "    y = model(X)\n",
    "    #print(\"Do I predict\" , y)\n",
    "    \n",
    "    \n",
    "#     y[np.where(y=='aml')]=3\n",
    "#     y[np.where(y=='allT')]=2\n",
    "#     y[np.where(y=='allB')]=1\n",
    "    \n",
    "    \n",
    "    \n",
    "    y = y.astype(int) # This may be necessary for 32-bit Python.\n",
    "    y = y.reshape((nx, ny))\n",
    "\n",
    "    # Generate colormap.\n",
    "    if colors is None:\n",
    "        # If colors not provided, use the current color cycle.\n",
    "        # Shift the indices so that the lowest class actually predicted gets the first color.\n",
    "        # ^ This is a bit magic, consider removing for next year.\n",
    "        colors = (['white'] * np.min(y)) + sns.utils.get_color_cycle()\n",
    "\n",
    "    if isinstance(colors, dict):\n",
    "        missing_colors = [idx for idx in np.unique(y) if idx not in colors]\n",
    "        assert len(missing_colors) == 0, \"Color not specified for predictions {missing_colors}.\"\n",
    "\n",
    "        # Make a list of colors, filling in items from the dict.\n",
    "        color_list = ['white'] * (np.max(y) + 1)\n",
    "        for idx, val in colors.items():\n",
    "            color_list[idx] = val\n",
    "    else:\n",
    "        assert len(colors) >= np.max(y) + 1, \"Insufficient colors passed for all predictions.\"\n",
    "        color_list = colors\n",
    "    color_list = [sns.utils.desaturate(color, desaturate) for color in color_list]\n",
    "    cmap = matplotlib.colors.ListedColormap(color_list)\n",
    "\n",
    "    # Plot decision surface\n",
    "    ax.pcolormesh(xx, yy, y, zorder=-2, cmap=cmap, norm=matplotlib.colors.NoNorm(), vmin=0, vmax=y.max() + 1)\n",
    "    xx = xx.reshape(nx, ny)\n",
    "    yy = yy.reshape(nx, ny)\n",
    "    if len(np.unique(y)) > 1:\n",
    "        ax.contour(xx, yy, y, colors=\"black\", linewidths=1, zorder=-1)\n",
    "    else:\n",
    "        print(\"Warning: only one class predicted, so not plotting contour lines.\")"
   ]
  },
  {
   "cell_type": "code",
   "execution_count": 34,
   "metadata": {
    "collapsed": false,
    "deletable": true,
    "editable": true,
    "scrolled": true
   },
   "outputs": [
    {
     "data": {
      "text/plain": [
       "<matplotlib.text.Text at 0x21f88e60ba8>"
      ]
     },
     "execution_count": 34,
     "metadata": {},
     "output_type": "execute_result"
    },
    {
     "data": {
      "image/png": "[encoded data removed]",
      "text/plain": [
       "<matplotlib.figure.Figure at 0x21f8b197f28>"
      ]
     },
     "metadata": {},
     "output_type": "display_data"
    }
   ],
   "source": [
    "# Your code here\n",
    "fig,ax=plt.subplots(1,1)\n",
    "overlay_decision_boundary(ax, logistic_multi_cv,colors=['tomato','palegreen','deepskyblue'])\n",
    "ax.scatter(df2_plot[df2_plot.cancer_type==0].M31523_at,df2_plot[df2_plot.cancer_type==0].X95735_at,\n",
    "           label='cancer type 0',color='r',alpha=1,s=10)\n",
    "ax.scatter(df2_plot[df2_plot.cancer_type==1].M31523_at,df2_plot[df2_plot.cancer_type==1].X95735_at,\n",
    "           label='cancer type 1',color='g',alpha=1,s=10)\n",
    "ax.scatter(df2_plot[df2_plot.cancer_type==2].M31523_at,df2_plot[df2_plot.cancer_type==2].X95735_at,\n",
    "           label='cancer type 2',color='b',alpha=1,s=10)\n",
    "ax.legend(fontsize=12)\n",
    "ax.set_title('Classes of cancer, no poly, ovr')\n",
    "ax.set_xlabel('M31523_at')\n",
    "ax.set_ylabel('X95735_at')"
   ]
  },
  {
   "cell_type": "code",
   "execution_count": 35,
   "metadata": {
    "collapsed": false
   },
   "outputs": [
    {
     "name": "stdout",
     "output_type": "stream",
     "text": [
      "Accuracy of multi logistic regression model on training set:  84.8333333333 %\n"
     ]
    }
   ],
   "source": [
    "y2_train_pred_logit_multi=logistic_multi_cv.predict(X2_train_scaled.values)\n",
    "print('Accuracy of multi logistic regression model on training set: ',accuracy_score(y2_train,y2_train_pred_logit_multi)*100,'%')"
   ]
  },
  {
   "cell_type": "code",
   "execution_count": 36,
   "metadata": {
    "collapsed": false,
    "deletable": true,
    "editable": true
   },
   "outputs": [
    {
     "data": {
      "text/plain": [
       "<matplotlib.text.Text at 0x21f8b256080>"
      ]
     },
     "execution_count": 36,
     "metadata": {},
     "output_type": "execute_result"
    },
    {
     "data": {
      "image/png": "[encoded data removed]",
      "text/plain": [
       "<matplotlib.figure.Figure at 0x21f8b9ac160>"
      ]
     },
     "metadata": {},
     "output_type": "display_data"
    }
   ],
   "source": [
    "# your code here\n",
    "fig,ax=plt.subplots(1,1)\n",
    "overlay_decision_boundary(ax, logistic_multi_cv_poly,poly=True,colors=['tomato','palegreen','deepskyblue'])\n",
    "ax.scatter(df2_plot[df2_plot.cancer_type==0].M31523_at,df2_plot[df2_plot.cancer_type==0].X95735_at,\n",
    "           label='cancer type 0',color='r',alpha=1,s=10)\n",
    "ax.scatter(df2_plot[df2_plot.cancer_type==1].M31523_at,df2_plot[df2_plot.cancer_type==1].X95735_at,\n",
    "           label='cancer type 1',color='g',alpha=1,s=10)\n",
    "ax.scatter(df2_plot[df2_plot.cancer_type==2].M31523_at,df2_plot[df2_plot.cancer_type==2].X95735_at,\n",
    "           label='cancer type 2',color='b',alpha=1,s=10)\n",
    "ax.legend(fontsize=12)\n",
    "ax.set_title('Classes of cancer, poly, ovr')\n",
    "ax.set_xlabel('M31523_at')\n",
    "ax.set_ylabel('X95735_at')"
   ]
  },
  {
   "cell_type": "code",
   "execution_count": 37,
   "metadata": {
    "collapsed": false
   },
   "outputs": [
    {
     "name": "stdout",
     "output_type": "stream",
     "text": [
      "Accuracy of multi logistic regression model with poly on training set:  88.8333333333 %\n"
     ]
    }
   ],
   "source": [
    "y2_train_pred_logit_multi_poly=logistic_multi_cv_poly.predict(X2_train_scaled_poly.values)\n",
    "print('Accuracy of multi logistic regression model with poly on training set: ',accuracy_score(y2_train,y2_train_pred_logit_multi_poly)*100,'%')"
   ]
  },
  {
   "cell_type": "markdown",
   "metadata": {},
   "source": [
    "The boundry of the model without poly terms is linear, while it is non-linear for the model with poly terms. The accuracy of the poly model is higher than the other model, which can result from the flexibility of the decision boundary."
   ]
  },
  {
   "cell_type": "markdown",
   "metadata": {},
   "source": [
    "From the plot above, we can see the prediction of ovr model without poly is not so good, as there are bunch of green points in red block. We can try multinomial model."
   ]
  },
  {
   "cell_type": "code",
   "execution_count": 38,
   "metadata": {
    "collapsed": false
   },
   "outputs": [
    {
     "data": {
      "text/plain": [
       "<matplotlib.text.Text at 0x21f9775c940>"
      ]
     },
     "execution_count": 38,
     "metadata": {},
     "output_type": "execute_result"
    },
    {
     "data": {
      "image/png": "[encoded data removed]",
      "text/plain": [
       "<matplotlib.figure.Figure at 0x21f8b845438>"
      ]
     },
     "metadata": {},
     "output_type": "display_data"
    }
   ],
   "source": [
    "logistic_multi_cv_extra=LogisticRegressionCV(penalty='l2',solver='newton-cg',multi_class='multinomial').fit(X2_train_scaled.values, \n",
    "                                                                                                            y2_train)\n",
    "fig,ax=plt.subplots(1,1)\n",
    "overlay_decision_boundary(ax, logistic_multi_cv_extra,colors=['tomato','palegreen','deepskyblue'])\n",
    "ax.scatter(df2_plot[df2_plot.cancer_type==0].M31523_at,df2_plot[df2_plot.cancer_type==0].X95735_at,\n",
    "           label='cancer type 0',color='r',alpha=1,s=10)\n",
    "ax.scatter(df2_plot[df2_plot.cancer_type==1].M31523_at,df2_plot[df2_plot.cancer_type==1].X95735_at,\n",
    "           label='cancer type 1',color='g',alpha=1,s=10)\n",
    "ax.scatter(df2_plot[df2_plot.cancer_type==2].M31523_at,df2_plot[df2_plot.cancer_type==2].X95735_at,\n",
    "           label='cancer type 2',color='b',alpha=1,s=10)\n",
    "ax.legend(fontsize=12)\n",
    "ax.set_title('Classes of cancer, no poly, multinomial')\n",
    "ax.set_xlabel('M31523_at')\n",
    "ax.set_ylabel('X95735_at')"
   ]
  },
  {
   "cell_type": "code",
   "execution_count": 39,
   "metadata": {
    "collapsed": false
   },
   "outputs": [
    {
     "name": "stdout",
     "output_type": "stream",
     "text": [
      "Accuracy of multi logistic regression model on training set (multinomial):  89.0 %\n"
     ]
    }
   ],
   "source": [
    "y2_train_pred_logit_multi_extra=logistic_multi_cv_extra.predict(X2_train_scaled.values)\n",
    "print('Accuracy of multi logistic regression model on training set (multinomial): ',\n",
    "      accuracy_score(y2_train,y2_train_pred_logit_multi_extra)*100,'%')"
   ]
  },
  {
   "cell_type": "markdown",
   "metadata": {},
   "source": [
    "The accuracy improves, although we can still see blue and red points in green block.  \n",
    "Try poly on multinomial."
   ]
  },
  {
   "cell_type": "code",
   "execution_count": 40,
   "metadata": {
    "collapsed": false
   },
   "outputs": [
    {
     "data": {
      "text/plain": [
       "<matplotlib.text.Text at 0x21f9ed52cf8>"
      ]
     },
     "execution_count": 40,
     "metadata": {},
     "output_type": "execute_result"
    },
    {
     "data": {
      "image/png": "[encoded data removed]",
      "text/plain": [
       "<matplotlib.figure.Figure at 0x21f8b406cf8>"
      ]
     },
     "metadata": {},
     "output_type": "display_data"
    }
   ],
   "source": [
    "logistic_multi_cv_poly_extra=LogisticRegressionCV(penalty='l2',\n",
    "                                                  solver='newton-cg',multi_class='multinomial').fit(X2_train_scaled_poly.values, y2_train)\n",
    "fig,ax=plt.subplots(1,1)\n",
    "overlay_decision_boundary(ax, logistic_multi_cv_poly_extra,poly=True,colors=['tomato','palegreen','deepskyblue'])\n",
    "ax.scatter(df2_plot[df2_plot.cancer_type==0].M31523_at,df2_plot[df2_plot.cancer_type==0].X95735_at,\n",
    "           label='cancer type 0',color='r',alpha=1,s=10)\n",
    "ax.scatter(df2_plot[df2_plot.cancer_type==1].M31523_at,df2_plot[df2_plot.cancer_type==1].X95735_at,\n",
    "           label='cancer type 1',color='g',alpha=1,s=10)\n",
    "ax.scatter(df2_plot[df2_plot.cancer_type==2].M31523_at,df2_plot[df2_plot.cancer_type==2].X95735_at,\n",
    "           label='cancer type 2',color='b',alpha=1,s=10)\n",
    "ax.legend(fontsize=12)\n",
    "ax.set_title('Classes of cancer, poly, multinomial')\n",
    "ax.set_xlabel('M31523_at')\n",
    "ax.set_ylabel('X95735_at')"
   ]
  },
  {
   "cell_type": "code",
   "execution_count": 41,
   "metadata": {
    "collapsed": false
   },
   "outputs": [
    {
     "name": "stdout",
     "output_type": "stream",
     "text": [
      "Accuracy of multi logistic regression model with poly on training set (multinomial):  91.0 %\n"
     ]
    }
   ],
   "source": [
    "y2_train_pred_logit_multi_poly_extra=logistic_multi_cv_poly_extra.predict(X2_train_scaled_poly.values)\n",
    "print('Accuracy of multi logistic regression model with poly on training set (multinomial): ',\n",
    "      accuracy_score(y2_train,y2_train_pred_logit_multi_poly_extra)*100,'%')"
   ]
  },
  {
   "cell_type": "markdown",
   "metadata": {},
   "source": [
    "The accuracy also improves. But the decision region for cancer type 0 (red block) has an unreasonable part on the bottom-left."
   ]
  },
  {
   "cell_type": "markdown",
   "metadata": {
    "deletable": true,
    "editable": true
   },
   "source": [
    "**4.5 Report and plot the CV scores for the two models and interpret.**"
   ]
  },
  {
   "cell_type": "code",
   "execution_count": 42,
   "metadata": {
    "collapsed": false,
    "deletable": true,
    "editable": true
   },
   "outputs": [
    {
     "name": "stdout",
     "output_type": "stream",
     "text": [
      "CV scores for model without poly:  [0.84999999999999998, 0.76666666666666672, 0.83333333333333337, 0.78333333333333333, 0.84999999999999998, 0.91666666666666663, 0.83333333333333337, 0.8666666666666667, 0.84999999999999998, 0.8666666666666667]\n",
      "CV scores for model with poly:  [0.90000000000000002, 0.80000000000000004, 0.83333333333333337, 0.76666666666666672, 0.8666666666666667, 0.84999999999999998, 0.8666666666666667, 0.8666666666666667, 0.81666666666666665, 0.8833333333333333]\n"
     ]
    }
   ],
   "source": [
    "# your code here\n",
    "cv_score_multi=cross_val_score(logistic_multi_cv,X2_train_scaled.values,y2_train,cv=10)\n",
    "cv_score_multi_poly=cross_val_score(logistic_multi_cv_poly,X2_train_scaled_poly.values,y2_train,cv=10)\n",
    "print('CV scores for model without poly: ',list(cv_score_multi))\n",
    "print('CV scores for model with poly: ',list(cv_score_multi_poly))"
   ]
  },
  {
   "cell_type": "code",
   "execution_count": 43,
   "metadata": {
    "collapsed": false,
    "deletable": true,
    "editable": true
   },
   "outputs": [
    {
     "data": {
      "image/png": "[encoded data removed]",
      "text/plain": [
       "<matplotlib.figure.Figure at 0x21f8b3d8588>"
      ]
     },
     "metadata": {},
     "output_type": "display_data"
    }
   ],
   "source": [
    "# your code here\n",
    "fig,ax=plt.subplots(1,1)\n",
    "ax.boxplot([cv_score_multi,cv_score_multi_poly])\n",
    "ax.set_xticklabels(['multi logistic', 'multi logistic with poly terms'])\n",
    "ax.set_ylabel('accuracy')\n",
    "plt.show()\n",
    "#plt.boxplot(cv_score_multi_poly)"
   ]
  },
  {
   "cell_type": "markdown",
   "metadata": {},
   "source": [
    "The fluctuation of cross-validation accuracy score in model with poly terms is larger than the model without poly terms, so the model with poly terms is affected by the training data more easily."
   ]
  },
  {
   "cell_type": "markdown",
   "metadata": {
    "deletable": true,
    "editable": true
   },
   "source": [
    "<div class='exercise'><b> Question 5: [10 pts] Including an 'abstain' option </b></div>\n",
    "\n",
    "One of the reasons a hospital might be hesitant to use your cancer classification model is that a misdiagnosis by the model on a patient can sometimes prove to be very costly (e.g. if the patient were to file a law suit seeking a compensation for damages). One way to mitigate this concern is to allow the model to 'abstain' from making a prediction: whenever it is uncertain about the diagnosis for a patient. However, when the model abstains from making a prediction, the hospital will have to forward the patient to a specialist, which would incur additional cost.  How could one design a cancer classification model with an abstain option, such that the cost to the hospital is minimized?\n",
    "\n",
    "*Hint:* Think of ways to build on top of the logistic regression model and have it abstain on patients who are difficult to classify."
   ]
  },
  {
   "cell_type": "markdown",
   "metadata": {
    "deletable": true,
    "editable": true
   },
   "source": [
    "**5.1** More specifically, suppose the cost incurred by a hospital when a model mis-predicts on a patient is $\\$5000$ , and the cost incurred when the model abstains from making a prediction is \\$1000. What is the average cost per patient for the OvR logistic regression model (without quadratic or interaction terms) from **Question 4**.  Note that this needs to be evaluated on the patients in the test set. "
   ]
  },
  {
   "cell_type": "markdown",
   "metadata": {
    "deletable": true,
    "editable": true
   },
   "source": [
    "**5.2** Design a classification strategy (into the 3 groups plus the *abstain* group) that has as low cost as possible per patient (certainly lower cost per patient than the logistic regression model).   Give a justification for your approach."
   ]
  },
  {
   "cell_type": "markdown",
   "metadata": {
    "deletable": true,
    "editable": true
   },
   "source": [
    "<hr>\n",
    "### Solutions"
   ]
  },
  {
   "cell_type": "markdown",
   "metadata": {
    "deletable": true,
    "editable": true
   },
   "source": [
    "**5.1 More specifically, suppose the cost incurred by a hospital when a model mis-predicts on a patient is $\\$5000$ , and the cost incurred when the model abstains from making a prediction is \\$1000. What is the average cost per patient for the OvR logistic regression model (without quadratic or interaction terms) from Question 4.  Note that this needs to be evaluated on the patients in the test set.**\n",
    "**\n",
    "...\n",
    "**"
   ]
  },
  {
   "cell_type": "markdown",
   "metadata": {
    "deletable": true,
    "editable": true
   },
   "source": [
    "*your answer here* \n"
   ]
  },
  {
   "cell_type": "code",
   "execution_count": 44,
   "metadata": {
    "collapsed": false,
    "deletable": true,
    "editable": true
   },
   "outputs": [
    {
     "name": "stdout",
     "output_type": "stream",
     "text": [
      "Average cost per patient for mis-predict in $:  700.0\n"
     ]
    }
   ],
   "source": [
    "# your code here\n",
    "y2_test_pred_logit_multi=logistic_multi_cv.predict(X2_test_scaled.values)\n",
    "mis_predict=1-accuracy_score(y2_test,y2_test_pred_logit_multi)\n",
    "print('Average cost per patient for mis-predict in $: ', 5000*mis_predict)"
   ]
  },
  {
   "cell_type": "markdown",
   "metadata": {
    "deletable": true,
    "editable": true
   },
   "source": [
    "**5.2 Design a classification strategy (into the 3 groups plus the *abstain* group) that has as low cost as possible per patient (certainly lower cost per patient than the logistic regression model).   Give a justification for your approach.**"
   ]
  },
  {
   "cell_type": "markdown",
   "metadata": {},
   "source": [
    "My thinking about whether to abstain a patient is that, if the probability of this patient being classified into either class is not high enough, we'll consider it \"difficult to decide\" and then abstain this patient. It is natural thinking because if the probability of this patient being in a certain class is dominantly high, much higher than the other two classes, we may not feel difficult or inconfident to decide this patient's class."
   ]
  },
  {
   "cell_type": "markdown",
   "metadata": {},
   "source": [
    "To balance the trade off between abstaining patients and suffering costs, we define a function to calculate the loss function, which is the overall cost per patient, for us to find optimal probability threshold."
   ]
  },
  {
   "cell_type": "code",
   "execution_count": 45,
   "metadata": {
    "collapsed": false,
    "deletable": true,
    "editable": true
   },
   "outputs": [],
   "source": [
    "# your code here\n",
    "def predict_abstain(model,threshold,x,y):\n",
    "    if threshold>1 or threshold<0:\n",
    "        print('Threshold out of reasonalbe range')\n",
    "    else:\n",
    "        total_number=x.shape[0]\n",
    "        predict_origin=model.predict(x)\n",
    "        predict_abstain=predict_origin.copy()\n",
    "        predict_abstain[model.predict_proba(x).max(axis=1)<threshold]=3 # to indicate \"abstain\"\n",
    "        abstain_number=sum(model.predict_proba(x).max(axis=1)<threshold)\n",
    "        loss_function=(5000*(total_number*(1-accuracy_score(predict_abstain,y))-abstain_number)+(1000*abstain_number))/total_number\n",
    "    return loss_function"
   ]
  },
  {
   "cell_type": "code",
   "execution_count": 46,
   "metadata": {
    "collapsed": false
   },
   "outputs": [
    {
     "data": {
      "image/png": "[encoded data removed]",
      "text/plain": [
       "<matplotlib.figure.Figure at 0x21f9fa569e8>"
      ]
     },
     "metadata": {},
     "output_type": "display_data"
    }
   ],
   "source": [
    "thresholds = np.linspace(0, 1,2000)\n",
    "cost_pp_train=[]\n",
    "for each in thresholds:\n",
    "    loss_function=predict_abstain(logistic_multi_cv,each,X2_train_scaled.values,y2_train)\n",
    "    cost_pp_train.append(loss_function)\n",
    "cost_pp_train=np.array(cost_pp_train)\n",
    "fig,ax=plt.subplots(1,1)\n",
    "ax.plot(thresholds,cost_pp_train)\n",
    "ax.set_xlabel('Threshold')\n",
    "ax.set_ylabel('Cost per patient in $')\n",
    "ax.set_title('Cost per patient in training data')\n",
    "plt.show()"
   ]
  },
  {
   "cell_type": "markdown",
   "metadata": {},
   "source": [
    "From this plot, we can see that the loss function reaches minimum at threshold=0.66, in training data. It means that with training data, we will suffer lease cost if we abstain patients whose predicted probability being in any type of cancers is less than 0.66, and keep using this model for the patients whose predicted probability being in the most likely cancer type is greater than 0.66."
   ]
  },
  {
   "cell_type": "markdown",
   "metadata": {},
   "source": [
    "Check the results with test data."
   ]
  },
  {
   "cell_type": "code",
   "execution_count": 47,
   "metadata": {
    "collapsed": false
   },
   "outputs": [
    {
     "data": {
      "image/png": "[encoded data removed]",
      "text/plain": [
       "<matplotlib.figure.Figure at 0x21f8b238c18>"
      ]
     },
     "metadata": {},
     "output_type": "display_data"
    }
   ],
   "source": [
    "cost_pp_test=[]\n",
    "for each in thresholds:\n",
    "    loss_function=predict_abstain(logistic_multi_cv,each,X2_test_scaled.values,y2_test)\n",
    "    cost_pp_test.append(loss_function)\n",
    "cost_pp_test=np.array(cost_pp_test)\n",
    "fig,ax=plt.subplots(1,1)\n",
    "ax.plot(thresholds,cost_pp_test,'r')\n",
    "ax.set_xlabel('Threshold')\n",
    "ax.set_ylabel('Cost per patient in $')\n",
    "ax.set_title('Cost per patient in test data')\n",
    "plt.show()"
   ]
  },
  {
   "cell_type": "code",
   "execution_count": 48,
   "metadata": {
    "collapsed": false
   },
   "outputs": [
    {
     "data": {
      "image/png": "[encoded data removed]",
      "text/plain": [
       "<matplotlib.figure.Figure at 0x21f9fb24f28>"
      ]
     },
     "metadata": {},
     "output_type": "display_data"
    }
   ],
   "source": [
    "fig,ax=plt.subplots(1,1)\n",
    "ax.plot(thresholds,cost_pp_train,label='Training',alpha=0.7)\n",
    "ax.plot(thresholds,cost_pp_test,'r',label='Test',alpha=0.7)\n",
    "ax.set_xlabel('Threshold')\n",
    "ax.set_ylabel('Cost per patient in $')\n",
    "ax.axvline(x=0.66,color='orange',label='Threshold 0.66',alpha=0.4)\n",
    "ax.legend()\n",
    "ax.set_title('Cost per patient')\n",
    "plt.show()"
   ]
  },
  {
   "cell_type": "markdown",
   "metadata": {},
   "source": [
    "The threshold we obtained is not bad in test data. So our aproach is feasible."
   ]
  }
 ],
 "metadata": {
  "kernelspec": {
   "display_name": "Python 3",
   "language": "python",
   "name": "python3"
  },
  "language_info": {
   "codemirror_mode": {
    "name": "ipython",
    "version": 3
   },
   "file_extension": ".py",
   "mimetype": "text/x-python",
   "name": "python",
   "nbconvert_exporter": "python",
   "pygments_lexer": "ipython3",
   "version": "3.5.2"
  }
 },
 "nbformat": 4,
 "nbformat_minor": 2
}
