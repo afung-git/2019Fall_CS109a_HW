{
 "cells": [
  {
   "cell_type": "code",
   "execution_count": 25,
   "metadata": {},
   "outputs": [],
   "source": [
    "import pandas as pd\n",
    "import numpy as np\n",
    "import sqlite3\n",
    "import itertools"
   ]
  },
  {
   "cell_type": "code",
   "execution_count": 5,
   "metadata": {
    "collapsed": true
   },
   "outputs": [
    {
     "data": {
      "text/plain": [
       "['alternative',\n",
       " 'indie',\n",
       " 'female vocalists',\n",
       " 'Love',\n",
       " '00s',\n",
       " 'alternative rock',\n",
       " 'jazz',\n",
       " 'beautiful',\n",
       " 'singer-songwriter',\n",
       " 'metal',\n",
       " 'chillout',\n",
       " 'male vocalists',\n",
       " 'Awesome',\n",
       " 'classic rock',\n",
       " 'soul',\n",
       " 'indie rock',\n",
       " 'Mellow',\n",
       " '80s',\n",
       " 'british',\n",
       " '90s',\n",
       " 'chill',\n",
       " 'american',\n",
       " 'punk',\n",
       " 'oldies',\n",
       " 'seen live',\n",
       " 'hard rock',\n",
       " 'cool',\n",
       " 'ambient',\n",
       " 'experimental',\n",
       " 'female vocalist',\n",
       " 'guitar',\n",
       " 'Hip-Hop',\n",
       " '70s',\n",
       " 'party',\n",
       " 'sexy',\n",
       " 'catchy',\n",
       " 'funk',\n",
       " 'heavy metal',\n",
       " 'Progressive rock',\n",
       " '60s',\n",
       " 'fun',\n",
       " 'indie pop',\n",
       " 'sad',\n",
       " 'House',\n",
       " 'happy',\n",
       " 'punk rock',\n",
       " 'piano',\n",
       " 'psychedelic',\n",
       " 'hip hop',\n",
       " 'male vocalist',\n",
       " 'pop rock',\n",
       " 'trance',\n",
       " 'melancholy',\n",
       " 'female',\n",
       " 'amazing',\n",
       " 'hardcore',\n",
       " 'lounge',\n",
       " 'cover',\n",
       " 'techno',\n",
       " 'heard on Pandora',\n",
       " 'relax',\n",
       " 'relaxing',\n",
       " 'upbeat',\n",
       " 'good',\n",
       " 'romantic',\n",
       " 'epic',\n",
       " 'Ballad',\n",
       " 'death metal',\n",
       " 'summer',\n",
       " 'USA',\n",
       " '2000s',\n",
       " 'emo',\n",
       " 'UK',\n",
       " 'funky',\n",
       " 'drjazzmrfunkmusic',\n",
       " 'post-punk',\n",
       " 'world',\n",
       " 'soft rock',\n",
       " 'female vocals',\n",
       " 'britpop',\n",
       " 'blues rock',\n",
       " 'atmospheric',\n",
       " 'smooth',\n",
       " 'rock n roll',\n",
       " 'Progressive',\n",
       " 'german',\n",
       " 'trip-hop',\n",
       " 'sweet',\n",
       " 'Disco']"
      ]
     },
     "execution_count": 5,
     "metadata": {},
     "output_type": "execute_result"
    }
   ],
   "source": [
    "filename='tags_list.txt'\n",
    "file_tags=open(filename)\n",
    "file_tags.read().splitlines()"
   ]
  },
  {
   "cell_type": "code",
   "execution_count": 10,
   "metadata": {},
   "outputs": [],
   "source": [
    "## connect to sql database\n",
    "tags=\"lastfm_tags.db\"\n",
    "conn_tag  = sqlite3.connect(tags)\n",
    "\n",
    "## data query\n",
    "sql  = \"\"\"SELECT tids.tid, tags.tag, tid_tag.val FROM tid_tag, tids, tags \n",
    "          WHERE tids.ROWID=tid_tag.tid AND tid_tag.tag=tags.ROWID \n",
    "          AND tags.tag in ('alternative', 'indie', 'female vocalists', 'Love', '00s',\n",
    "          'alternative rock', 'jazz', 'beautiful', 'singer-songwriter', 'metal', 'chillout',\n",
    "          'male vocalists', 'Awesome', 'classic rock', 'soul', 'indie rock', 'Mellow', '80s',\n",
    "           'british', '90s', 'chill', 'american', 'punk', 'oldies', 'seen live', 'hard rock',\n",
    "           'cool', 'ambient', 'experimental', 'female vocalist', 'guitar', 'Hip-Hop', '70s',\n",
    "            'party', 'sexy', 'catchy', 'funk', 'heavy metal', 'Progressive rock', '60s', 'fun',\n",
    "             'indie pop', 'sad', 'House', 'happy', 'punk rock', 'piano', 'psychedelic', 'hip hop',\n",
    "              'male vocalist', 'pop rock', 'trance', 'melancholy', 'female', 'amazing', 'hardcore',\n",
    "              'lounge', 'cover', 'techno', 'heard on Pandora', 'relax', 'relaxing', 'upbeat', 'good',\n",
    "              'romantic', 'epic', 'Ballad', 'death metal', 'summer', 'USA', '2000s', 'emo', 'UK', 'funky',\n",
    "              'drjazzmrfunkmusic', 'post-punk', 'world', 'soft rock', 'female vocals', 'britpop',\n",
    "              'blues rock', 'atmospheric', 'smooth', 'rock n roll', 'Progressive', 'german', 'trip-hop',\n",
    "              'sweet', 'Disco')\n",
    "          ORDER BY tids.tid\"\"\"\n",
    "tag_data = np.array(conn_tag.execute(sql).fetchall())\n",
    "\n"
   ]
  },
  {
   "cell_type": "code",
   "execution_count": 11,
   "metadata": {},
   "outputs": [
    {
     "data": {
      "text/plain": [
       "array([['TRAAAAK128F9318786', '00s', '20.0'],\n",
       "       ['TRAAAAK128F9318786', 'alternative rock', '100.0'],\n",
       "       ['TRAAAAK128F9318786', 'hard rock', '60.0'],\n",
       "       ...,\n",
       "       ['TRZZZZD128F4236844', 'Progressive rock', '100.0'],\n",
       "       ['TRZZZZD128F4236844', 'hard rock', '50.0'],\n",
       "       ['TRZZZZZ12903D05E3A', 'ambient', '100.0']], dtype='<U18')"
      ]
     },
     "execution_count": 11,
     "metadata": {},
     "output_type": "execute_result"
    }
   ],
   "source": [
    "tag_data"
   ]
  },
  {
   "cell_type": "code",
   "execution_count": 12,
   "metadata": {
    "collapsed": true
   },
   "outputs": [
    {
     "data": {
      "text/plain": [
       "1438488"
      ]
     },
     "execution_count": 12,
     "metadata": {},
     "output_type": "execute_result"
    }
   ],
   "source": [
    "len(tag_data)"
   ]
  },
  {
   "cell_type": "code",
   "execution_count": 23,
   "metadata": {},
   "outputs": [],
   "source": [
    "tags_ls=['alternative', 'indie', 'female vocalists', 'Love', '00s',\n",
    "          'alternative rock', 'jazz', 'beautiful', 'singer-songwriter', 'metal', 'chillout',\n",
    "          'male vocalists', 'Awesome', 'classic rock', 'soul', 'indie rock', 'Mellow', '80s',\n",
    "           'british', '90s', 'chill', 'american', 'punk', 'oldies', 'seen live', 'hard rock',\n",
    "           'cool', 'ambient', 'experimental', 'female vocalist', 'guitar', 'Hip-Hop', '70s',\n",
    "            'party', 'sexy', 'catchy', 'funk', 'heavy metal', 'Progressive rock', '60s', 'fun',\n",
    "             'indie pop', 'sad', 'House', 'happy', 'punk rock', 'piano', 'psychedelic', 'hip hop',\n",
    "              'male vocalist', 'pop rock', 'trance', 'melancholy', 'female', 'amazing', 'hardcore',\n",
    "              'lounge', 'cover', 'techno', 'heard on Pandora', 'relax', 'relaxing', 'upbeat', 'good',\n",
    "              'romantic', 'epic', 'Ballad', 'death metal', 'summer', 'USA', '2000s', 'emo', 'UK', 'funky',\n",
    "              'drjazzmrfunkmusic', 'post-punk', 'world', 'soft rock', 'female vocals', 'britpop',\n",
    "              'blues rock', 'atmospheric', 'smooth', 'rock n roll', 'Progressive', 'german', 'trip-hop',\n",
    "              'sweet', 'Disco']"
   ]
  },
  {
   "cell_type": "code",
   "execution_count": 26,
   "metadata": {},
   "outputs": [],
   "source": [
    "## construct empty dictionary\n",
    "data_dict = {track_id:{} for track_id in tag_data[:,0]}\n",
    "for track_id, item in itertools.product(tag_data[:,0], tags_ls):\n",
    "    data_dict[track_id][item] = 0\n",
    "    \n",
    "## fill dictionary with tag values\n",
    "for entry in tag_data:\n",
    "    data_dict[entry[0]][entry[1]]=float(entry[2])"
   ]
  },
  {
   "cell_type": "code",
   "execution_count": 29,
   "metadata": {},
   "outputs": [],
   "source": [
    "tags_lastfm=pd.DataFrame(data_dict).T"
   ]
  },
  {
   "cell_type": "code",
   "execution_count": 33,
   "metadata": {},
   "outputs": [
    {
     "data": {
      "text/plain": [
       "Index(['TRAAAAK128F9318786', 'TRAAAAW128F429D538', 'TRAAABD128F429CF47',\n",
       "       'TRAAADJ128F4287B47', 'TRAAAED128E0783FAB', 'TRAAAEF128F4273421',\n",
       "       'TRAAAEM128F93347B9', 'TRAAAFD128F92F423A', 'TRAAAGF12903CEC202',\n",
       "       'TRAAAGR128F425B14B',\n",
       "       ...\n",
       "       'TRZZZOW128F4248475', 'TRZZZRJ128F42819AF', 'TRZZZUK128F92E3C60',\n",
       "       'TRZZZUM128F424188C', 'TRZZZYG128F92EF836', 'TRZZZYR128F92F0796',\n",
       "       'TRZZZYV128F92E996D', 'TRZZZYX128F92D32C6', 'TRZZZZD128F4236844',\n",
       "       'TRZZZZZ12903D05E3A'],\n",
       "      dtype='object', length=325019)"
      ]
     },
     "execution_count": 33,
     "metadata": {},
     "output_type": "execute_result"
    }
   ],
   "source": [
    "tags_lastfm.index"
   ]
  },
  {
   "cell_type": "code",
   "execution_count": 37,
   "metadata": {},
   "outputs": [],
   "source": [
    "tags_lastfm=tags_lastfm.reset_index(level=0, inplace=False).rename(columns={'index':\"lastfm_track_id\"})"
   ]
  },
  {
   "cell_type": "code",
   "execution_count": 38,
   "metadata": {},
   "outputs": [
    {
     "data": {
      "text/html": [
       "<div>\n",
       "<style scoped>\n",
       "    .dataframe tbody tr th:only-of-type {\n",
       "        vertical-align: middle;\n",
       "    }\n",
       "\n",
       "    .dataframe tbody tr th {\n",
       "        vertical-align: top;\n",
       "    }\n",
       "\n",
       "    .dataframe thead th {\n",
       "        text-align: right;\n",
       "    }\n",
       "</style>\n",
       "<table border=\"1\" class=\"dataframe\">\n",
       "  <thead>\n",
       "    <tr style=\"text-align: right;\">\n",
       "      <th></th>\n",
       "      <th>lastfm_track_id</th>\n",
       "      <th>00s</th>\n",
       "      <th>2000s</th>\n",
       "      <th>60s</th>\n",
       "      <th>70s</th>\n",
       "      <th>80s</th>\n",
       "      <th>90s</th>\n",
       "      <th>Awesome</th>\n",
       "      <th>Ballad</th>\n",
       "      <th>Disco</th>\n",
       "      <th>...</th>\n",
       "      <th>smooth</th>\n",
       "      <th>soft rock</th>\n",
       "      <th>soul</th>\n",
       "      <th>summer</th>\n",
       "      <th>sweet</th>\n",
       "      <th>techno</th>\n",
       "      <th>trance</th>\n",
       "      <th>trip-hop</th>\n",
       "      <th>upbeat</th>\n",
       "      <th>world</th>\n",
       "    </tr>\n",
       "  </thead>\n",
       "  <tbody>\n",
       "    <tr>\n",
       "      <th>0</th>\n",
       "      <td>TRAAAAK128F9318786</td>\n",
       "      <td>20.0</td>\n",
       "      <td>0.0</td>\n",
       "      <td>0.0</td>\n",
       "      <td>0.0</td>\n",
       "      <td>0.0</td>\n",
       "      <td>0.0</td>\n",
       "      <td>0.0</td>\n",
       "      <td>0.0</td>\n",
       "      <td>0.0</td>\n",
       "      <td>...</td>\n",
       "      <td>0.0</td>\n",
       "      <td>0.0</td>\n",
       "      <td>0.0</td>\n",
       "      <td>0.0</td>\n",
       "      <td>0.0</td>\n",
       "      <td>0.0</td>\n",
       "      <td>0.0</td>\n",
       "      <td>0.0</td>\n",
       "      <td>0.0</td>\n",
       "      <td>0.0</td>\n",
       "    </tr>\n",
       "    <tr>\n",
       "      <th>1</th>\n",
       "      <td>TRAAAAW128F429D538</td>\n",
       "      <td>0.0</td>\n",
       "      <td>0.0</td>\n",
       "      <td>0.0</td>\n",
       "      <td>0.0</td>\n",
       "      <td>0.0</td>\n",
       "      <td>0.0</td>\n",
       "      <td>0.0</td>\n",
       "      <td>0.0</td>\n",
       "      <td>0.0</td>\n",
       "      <td>...</td>\n",
       "      <td>0.0</td>\n",
       "      <td>0.0</td>\n",
       "      <td>0.0</td>\n",
       "      <td>0.0</td>\n",
       "      <td>0.0</td>\n",
       "      <td>0.0</td>\n",
       "      <td>0.0</td>\n",
       "      <td>0.0</td>\n",
       "      <td>0.0</td>\n",
       "      <td>0.0</td>\n",
       "    </tr>\n",
       "    <tr>\n",
       "      <th>2</th>\n",
       "      <td>TRAAABD128F429CF47</td>\n",
       "      <td>0.0</td>\n",
       "      <td>0.0</td>\n",
       "      <td>100.0</td>\n",
       "      <td>0.0</td>\n",
       "      <td>0.0</td>\n",
       "      <td>0.0</td>\n",
       "      <td>0.0</td>\n",
       "      <td>0.0</td>\n",
       "      <td>0.0</td>\n",
       "      <td>...</td>\n",
       "      <td>0.0</td>\n",
       "      <td>0.0</td>\n",
       "      <td>52.0</td>\n",
       "      <td>0.0</td>\n",
       "      <td>0.0</td>\n",
       "      <td>0.0</td>\n",
       "      <td>0.0</td>\n",
       "      <td>0.0</td>\n",
       "      <td>0.0</td>\n",
       "      <td>0.0</td>\n",
       "    </tr>\n",
       "    <tr>\n",
       "      <th>3</th>\n",
       "      <td>TRAAADJ128F4287B47</td>\n",
       "      <td>0.0</td>\n",
       "      <td>0.0</td>\n",
       "      <td>100.0</td>\n",
       "      <td>0.0</td>\n",
       "      <td>0.0</td>\n",
       "      <td>0.0</td>\n",
       "      <td>0.0</td>\n",
       "      <td>0.0</td>\n",
       "      <td>0.0</td>\n",
       "      <td>...</td>\n",
       "      <td>0.0</td>\n",
       "      <td>0.0</td>\n",
       "      <td>0.0</td>\n",
       "      <td>0.0</td>\n",
       "      <td>0.0</td>\n",
       "      <td>0.0</td>\n",
       "      <td>0.0</td>\n",
       "      <td>0.0</td>\n",
       "      <td>0.0</td>\n",
       "      <td>0.0</td>\n",
       "    </tr>\n",
       "    <tr>\n",
       "      <th>4</th>\n",
       "      <td>TRAAAED128E0783FAB</td>\n",
       "      <td>1.0</td>\n",
       "      <td>0.0</td>\n",
       "      <td>0.0</td>\n",
       "      <td>0.0</td>\n",
       "      <td>0.0</td>\n",
       "      <td>0.0</td>\n",
       "      <td>0.0</td>\n",
       "      <td>0.0</td>\n",
       "      <td>0.0</td>\n",
       "      <td>...</td>\n",
       "      <td>1.0</td>\n",
       "      <td>1.0</td>\n",
       "      <td>1.0</td>\n",
       "      <td>0.0</td>\n",
       "      <td>0.0</td>\n",
       "      <td>0.0</td>\n",
       "      <td>0.0</td>\n",
       "      <td>0.0</td>\n",
       "      <td>0.0</td>\n",
       "      <td>0.0</td>\n",
       "    </tr>\n",
       "  </tbody>\n",
       "</table>\n",
       "<p>5 rows × 90 columns</p>\n",
       "</div>"
      ],
      "text/plain": [
       "      lastfm_track_id   00s  2000s    60s  70s  80s  90s  Awesome  Ballad  \\\n",
       "0  TRAAAAK128F9318786  20.0    0.0    0.0  0.0  0.0  0.0      0.0     0.0   \n",
       "1  TRAAAAW128F429D538   0.0    0.0    0.0  0.0  0.0  0.0      0.0     0.0   \n",
       "2  TRAAABD128F429CF47   0.0    0.0  100.0  0.0  0.0  0.0      0.0     0.0   \n",
       "3  TRAAADJ128F4287B47   0.0    0.0  100.0  0.0  0.0  0.0      0.0     0.0   \n",
       "4  TRAAAED128E0783FAB   1.0    0.0    0.0  0.0  0.0  0.0      0.0     0.0   \n",
       "\n",
       "   Disco  ...  smooth  soft rock  soul  summer  sweet  techno  trance  \\\n",
       "0    0.0  ...     0.0        0.0   0.0     0.0    0.0     0.0     0.0   \n",
       "1    0.0  ...     0.0        0.0   0.0     0.0    0.0     0.0     0.0   \n",
       "2    0.0  ...     0.0        0.0  52.0     0.0    0.0     0.0     0.0   \n",
       "3    0.0  ...     0.0        0.0   0.0     0.0    0.0     0.0     0.0   \n",
       "4    0.0  ...     1.0        1.0   1.0     0.0    0.0     0.0     0.0   \n",
       "\n",
       "   trip-hop  upbeat  world  \n",
       "0       0.0     0.0    0.0  \n",
       "1       0.0     0.0    0.0  \n",
       "2       0.0     0.0    0.0  \n",
       "3       0.0     0.0    0.0  \n",
       "4       0.0     0.0    0.0  \n",
       "\n",
       "[5 rows x 90 columns]"
      ]
     },
     "execution_count": 38,
     "metadata": {},
     "output_type": "execute_result"
    }
   ],
   "source": [
    "tags_lastfm.head()"
   ]
  },
  {
   "cell_type": "code",
   "execution_count": 39,
   "metadata": {},
   "outputs": [
    {
     "data": {
      "text/plain": [
       "(325019, 90)"
      ]
     },
     "execution_count": 39,
     "metadata": {},
     "output_type": "execute_result"
    }
   ],
   "source": [
    "tags_lastfm.shape"
   ]
  },
  {
   "cell_type": "code",
   "execution_count": 40,
   "metadata": {},
   "outputs": [],
   "source": [
    "tags_lastfm.to_csv('lastfm_with_tags.csv')"
   ]
  },
  {
   "cell_type": "code",
   "execution_count": null,
   "metadata": {},
   "outputs": [],
   "source": []
  }
 ],
 "metadata": {
  "kernelspec": {
   "display_name": "Python 3",
   "language": "python",
   "name": "python3"
  },
  "language_info": {
   "codemirror_mode": {
    "name": "ipython",
    "version": 3
   },
   "file_extension": ".py",
   "mimetype": "text/x-python",
   "name": "python",
   "nbconvert_exporter": "python",
   "pygments_lexer": "ipython3",
   "version": "3.7.3"
  }
 },
 "nbformat": 4,
 "nbformat_minor": 2
}
