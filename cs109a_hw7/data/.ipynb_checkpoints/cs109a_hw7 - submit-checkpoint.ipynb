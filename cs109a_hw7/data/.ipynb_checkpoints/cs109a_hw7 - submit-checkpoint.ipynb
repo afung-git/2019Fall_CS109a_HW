{
 "cells": [
  {
   "cell_type": "markdown",
   "metadata": {
    "deletable": false,
    "editable": false
   },
   "source": [
    "# <img style=\"float: left; padding-right: 10px; width: 45px\" src=\"https://raw.githubusercontent.com/Harvard-IACS/2018-CS109A/master/content/styles/iacs.png\"> CS109A Introduction to Data Science: \n",
    "\n",
    "\n",
    "## Homework 7:  ANNs and Model interpretability \n",
    "\n",
    "\n",
    "**Harvard University**<br/>\n",
    "**Fall 2019**<br/>\n",
    "**Instructors**: Pavlos Protopapas, Kevin Rader and Chris Tanner<br/>\n",
    "\n",
    "\n",
    "<hr style=\"height:2pt\">\n",
    "\n"
   ]
  },
  {
   "cell_type": "code",
   "execution_count": 1,
   "metadata": {
    "deletable": false,
    "editable": false
   },
   "outputs": [
    {
     "data": {
      "text/html": [
       "<style>\n",
       "blockquote { background: #AEDE94; }\n",
       "h1 { \n",
       "    padding-top: 25px;\n",
       "    padding-bottom: 25px;\n",
       "    text-align: left; \n",
       "    padding-left: 10px;\n",
       "    background-color: #DDDDDD; \n",
       "    color: black;\n",
       "}\n",
       "h2 { \n",
       "    padding-top: 10px;\n",
       "    padding-bottom: 10px;\n",
       "    text-align: left; \n",
       "    padding-left: 5px;\n",
       "    background-color: #EEEEEE; \n",
       "    color: black;\n",
       "}\n",
       "\n",
       "div.exercise {\n",
       "\tbackground-color: #ffcccc;\n",
       "\tborder-color: #E9967A; \t\n",
       "\tborder-left: 5px solid #800080; \n",
       "\tpadding: 0.5em;\n",
       "}\n",
       "\n",
       "span.sub-q {\n",
       "\tfont-weight: bold;\n",
       "}\n",
       "div.theme {\n",
       "\tbackground-color: #DDDDDD;\n",
       "\tborder-color: #E9967A; \t\n",
       "\tborder-left: 5px solid #800080; \n",
       "\tpadding: 0.5em;\n",
       "\tfont-size: 18pt;\n",
       "}\n",
       "div.gc { \n",
       "\tbackground-color: #AEDE94;\n",
       "\tborder-color: #E9967A; \t \n",
       "\tborder-left: 5px solid #800080; \n",
       "\tpadding: 0.5em;\n",
       "\tfont-size: 12pt;\n",
       "}\n",
       "p.q1 { \n",
       "    padding-top: 5px;\n",
       "    padding-bottom: 5px;\n",
       "    text-align: left; \n",
       "    padding-left: 5px;\n",
       "    background-color: #EEEEEE; \n",
       "    color: black;\n",
       "}\n",
       "header {\n",
       "   padding-top: 35px;\n",
       "    padding-bottom: 35px;\n",
       "    text-align: left; \n",
       "    padding-left: 10px;\n",
       "    background-color: #DDDDDD; \n",
       "    color: black;\n",
       "}\n",
       "</style>\n",
       "\n"
      ],
      "text/plain": [
       "<IPython.core.display.HTML object>"
      ]
     },
     "execution_count": 1,
     "metadata": {},
     "output_type": "execute_result"
    }
   ],
   "source": [
    "# RUN THIS CELL FOR FORMAT\n",
    "import requests\n",
    "from IPython.core.display import HTML\n",
    "styles = requests.get(\"https://raw.githubusercontent.com/Harvard-IACS/2018-CS109A/master/content/styles/cs109.css\").text\n",
    "HTML(styles)"
   ]
  },
  {
   "cell_type": "markdown",
   "metadata": {
    "deletable": false,
    "editable": false
   },
   "source": [
    "### INSTRUCTIONS\n",
    "\n",
    "- **This is an individual homework. No group collaboration.**\n",
    "- To submit your assignment, follow the instructions given in Canvas.\n",
    "- Restart the kernel and run the whole notebook again before you submit. \n",
    "- As much as possible, try and stick to the hints and functions we import at the top of the homework, as those are the ideas and tools the class supports and are aiming to teach. And if a problem specifies a particular library, you're required to use that library, and possibly others from the import list.\n",
    "- Please use .head() when viewing data. Do not submit a notebook that is excessively long because output was not suppressed or otherwise limited. "
   ]
  },
  {
   "cell_type": "markdown",
   "metadata": {
    "deletable": false,
    "editable": false
   },
   "source": [
    "</span></div><div class='alert alert-block alert-danger'><b>WARNING!:</b><span style = 'color:black'> Do not delete any of the `### cs109Test() ###` comment lines!</span></div></div>"
   ]
  },
  {
   "cell_type": "markdown",
   "metadata": {
    "deletable": false,
    "editable": false
   },
   "source": [
    "</span></div><div class='alert alert-block alert-danger'><b>Note:</b><span style = 'color:black'> Make sure your submission passes all assert statements we've provided in this notebook.</span></div></div>"
   ]
  },
  {
   "cell_type": "code",
   "execution_count": 2,
   "metadata": {
    "deletable": false,
    "editable": false
   },
   "outputs": [],
   "source": [
    "### cs109default ### \n",
    "import random\n",
    "random.seed(112358)\n",
    "\n",
    "import numpy as np\n",
    "import pandas as pd\n",
    "import matplotlib.pyplot as plt\n",
    "\n",
    "from sklearn.model_selection import cross_val_score\n",
    "from sklearn.utils import resample\n",
    "from sklearn.tree import DecisionTreeClassifier\n",
    "from sklearn.ensemble import RandomForestClassifier\n",
    "from sklearn.ensemble import AdaBoostClassifier\n",
    "from sklearn.linear_model import LogisticRegressionCV\n",
    "from sklearn.model_selection import train_test_split\n",
    "from sklearn.metrics import confusion_matrix\n",
    "from sklearn.preprocessing import scale\n",
    "from sklearn.metrics import roc_auc_score,accuracy_score\n",
    "from sklearn.model_selection import GridSearchCV\n",
    "from random import randint \n",
    "\n",
    "from sklearn import tree\n",
    "%matplotlib inline\n",
    "\n",
    "import seaborn as sns\n",
    "pd.set_option('display.width', 1500)\n",
    "pd.set_option('display.max_columns', 100)\n",
    "\n",
    "from sklearn.utils import shuffle"
   ]
  },
  {
   "cell_type": "code",
   "execution_count": 3,
   "metadata": {
    "deletable": false,
    "editable": false
   },
   "outputs": [
    {
     "name": "stdout",
     "output_type": "stream",
     "text": [
      "2.0.0\n"
     ]
    }
   ],
   "source": [
    "### cs109default ### \n",
    "# TensorFlow and tf.keras\n",
    "import tensorflow as tf\n",
    "\n",
    "print(tf.__version__)  # You should see a 2.0.0 here!"
   ]
  },
  {
   "cell_type": "markdown",
   "metadata": {
    "deletable": false,
    "editable": false
   },
   "source": [
    "<div class=\"exercise\"> <b> Question 1: Construct a feed forward neural network [25 pts]</b> </div>\n",
    "\n",
    "In this part of the homework, you are to construct three feed-forward neural networks. Each neural network will consist of an input layer, a hidden layer, and an output layer. The three different networks only differ in their number of nodes used for their hidden layer, which we specify for each specific question below. All networks' hidden layers use the sigmoid as the activation function, along with a linear output node. \n",
    "\n",
    "**You should code the equations from scratch.**\n",
    "\n",
    "You are given three datasets containing $(x,y)$ points where $y=f(x)$:\n",
    "\n",
    "- In the first dataset, $f(x)$ is a **single step** function (data in`data/step_df.csv`), \n",
    "- In the second dataset, $f(x)$ is a **one hump** function (data in `data/one_hump_df.csv`),\n",
    "- In the third dataset, $f(x)$ is a **two equal humps** function (data in `data/two_hump_df.csv`).\n",
    "\n",
    " \n",
    "\n",
    "**1.1** Read the files into variables name `step_df`, `one_hump_df`, and `two_hump_df`.\n",
    "Perform a forward pass using a network with one hidden layer with **one** node. The input to the network is the $x$ `step_df.x`.  Adjust the weights manually until the predicted outputs matches as closely as possible to the true $y$s (`step_df.y`) and plot the output from the network; in the same plot, show the true $y$ values. \n",
    "\n",
    "**1.2** Do the same for the **one hump** function data, this time using a hidden layer consisting of **two** nodes.\n",
    "\n",
    "**1.3** Do the same for the **two humps** function data, but this time increase the number of hidden nodes to **four**.  \n",
    "\n",
    "**1.4** Choose the appropriate loss function and calculate and report the loss from all three cases. Derive the gradient of **the output layer's weights** for all three cases (step, one hump, and two humps). Use the weights for the hidden layers you found in the previous question and perform gradient descent on the weights of this layer (output layer). What are the optimized weight value and loss you obtained? \n",
    "\n",
    "__NOTE: Only perform gradient descent for the output layer's weights (the ones that connect the hidden layer to the output layer)__"
   ]
  },
  {
   "cell_type": "markdown",
   "metadata": {
    "deletable": false,
    "editable": false
   },
   "source": [
    "## Answers"
   ]
  },
  {
   "cell_type": "markdown",
   "metadata": {
    "autograde": "1.1",
    "deletable": false,
    "editable": false
   },
   "source": [
    "**1.1** Read the files into variables name `step_df`, `one_hump_df`, and `two_hump_df`.\n",
    "Perform a forward pass using a network with one hidden layer with **one** node. The input to the network is the $x$ `step_df.x`.  Adjust the weights manually until the predicted outputs matches as closely as possible to the true $y$s (`step_df.y`) and plot the output from the network; in the same plot, show the true $y$ values.\n"
   ]
  },
  {
   "cell_type": "markdown",
   "metadata": {
    "deletable": false,
    "editable": false
   },
   "source": [
    "</span></div><div class='alert alert-block alert-danger'><b>WARNING!:</b><span style = 'color:black'> Do not delete any of the `### cs109Test() ###` comment lines!</span></div></div>"
   ]
  },
  {
   "cell_type": "code",
   "execution_count": 4,
   "metadata": {
    "deletable": false,
    "test": "test_sigmoid"
   },
   "outputs": [],
   "source": [
    "### cs109Test(test_sigmoid) ### \n",
    "def sigmoid(x: float) -> float :\n",
    "    \"\"\"The sigmoid function \n",
    "    \"\"\"    \n",
    "    # your code here \n",
    "    return 1 / (1 + np.exp(-x))\n"
   ]
  },
  {
   "cell_type": "markdown",
   "metadata": {
    "deletable": false,
    "editable": false
   },
   "source": [
    "</span></div><div class='alert alert-block alert-danger'><b>WARNING!:</b><span style = 'color:black'> Do not delete any of the `### cs109Test() ###` comment lines!</span></div></div>"
   ]
  },
  {
   "cell_type": "code",
   "execution_count": 5,
   "metadata": {
    "deletable": false,
    "test": "test_1.1a"
   },
   "outputs": [],
   "source": [
    "### cs109Test(test_1.1a) ### \n",
    "## read data \n",
    "# your code here\n",
    "step_df=pd.read_csv('step_df.csv')\n",
    "one_hump_df=pd.read_csv('one_hump_df.csv')\n",
    "two_hump_df=pd.read_csv('two_hump_df.csv')"
   ]
  },
  {
   "cell_type": "markdown",
   "metadata": {
    "deletable": false,
    "editable": false
   },
   "source": [
    "</span></div><div class='alert alert-block alert-danger'><b>WARNING!:</b><span style = 'color:black'> Do not delete any of the `### cs109Test() ###` comment lines!</span></div></div>"
   ]
  },
  {
   "cell_type": "code",
   "execution_count": 75,
   "metadata": {
    "deletable": false,
    "test": "test_forwardpass"
   },
   "outputs": [],
   "source": [
    "### cs109Test (test_forwardpass) ###\n",
    "# Forward pass\n",
    "\n",
    "def forward_step(X_in: np.ndarray, WL_0: np.ndarray, \n",
    "                 WL_1: np.ndarray, y_out: np.ndarray) -> (float, float) :\n",
    "    \n",
    "    \"\"\"\n",
    "    This implements forward step:\n",
    "        z = X_in . WL_0 #Input layer . Weights\n",
    "        h = sigmoid(z)  #hidden \n",
    "        y = h . WL_1    #Output layer \n",
    "        (Add intercepts as appropriate)\n",
    "    \n",
    "    Args (3 different scenarios 1.1, 1.2 and 1.3): \n",
    "        X_in: Input array\n",
    "              1.1 - Array shape (100,1)\n",
    "              1.2 - Array shape (100,1)\n",
    "              1.3 - Array Shape (100,1)\n",
    "              \n",
    "        WL_0: Input array [Weights for Layer 0]\n",
    "              1.1 - Array shape (2,1)\n",
    "              1.2 - Array shape (2,2)\n",
    "              1.3 - Array shape (2,4)\n",
    "              \n",
    "        WL_1: Input Array [Weights for Layer 1]\n",
    "              1.1 - Array shape (2,1) \n",
    "              1.2 - Array shape (3,1) \n",
    "              1.3 - Array shape (5,1)\n",
    "\n",
    "        y_out: Input Array\n",
    "              1.1 - Array shape (100,1)\n",
    "              1.2 - Array shape (100,1)\n",
    "              1.3 - Array shape (100,1)\n",
    "              \n",
    "    Returns:\n",
    "              1.1 - Output = (100, 1), hidden = (100, 2)\n",
    "              1.2 - Output = (100, 1), hidden = (100, 3)\n",
    "              1.3 - Output = (100, 1), hidden = (100, 5)\n",
    "              (hidden will be utilized for 1.4)    \n",
    "    \"\"\"\n",
    " \n",
    "    # your code here \n",
    "    n=len(X_in)\n",
    "    X_array=X_in.values.reshape(n,1)\n",
    "    ones = np.ones((n,1))\n",
    "    X_addconst = np.append(X_array, ones, axis=1)\n",
    "    \n",
    "    z = np.dot(X_addconst,WL_0)\n",
    "    h = sigmoid(z) \n",
    "    hidden = np.append(h, ones, axis=1)\n",
    "    \n",
    "    y = np.dot(hidden,WL_1)\n",
    "    output = y\n",
    "\n",
    "    \n",
    "    # end of your code here\n",
    "    \n",
    "    \n",
    "    return output, hidden\n"
   ]
  },
  {
   "cell_type": "markdown",
   "metadata": {
    "deletable": false,
    "editable": false
   },
   "source": [
    "</span></div><div class='alert alert-block alert-danger'><b>WARNING!:</b><span style = 'color:black'> Do not delete any of the `### cs109Test() ###` comment lines!</span></div></div>"
   ]
  },
  {
   "cell_type": "code",
   "execution_count": 25,
   "metadata": {},
   "outputs": [],
   "source": [
    "def loss_mse(y_true,y_pre):\n",
    "    return np.mean((y_true-y_pre)**2)"
   ]
  },
  {
   "cell_type": "code",
   "execution_count": 109,
   "metadata": {
    "deletable": false,
    "test": "test1.1b"
   },
   "outputs": [
    {
     "data": {
      "text/plain": [
       "0.0003375175156889486"
      ]
     },
     "execution_count": 109,
     "metadata": {},
     "output_type": "execute_result"
    }
   ],
   "source": [
    "### cs109Test(test1.1b) ###\n",
    "# ONE STEP - one node in hidden layer \n",
    "step_df_sort=step_df.sort_values('x')\n",
    "y_pre = forward_step(step_df_sort.x, np.array([[10],[-20]]), \n",
    "                 np.array([[1],[.001]]), step_df_sort.y)[0]\n",
    "loss_mse(step_df_sort.y.values.reshape(100,1),y_pre)"
   ]
  },
  {
   "cell_type": "code",
   "execution_count": 114,
   "metadata": {
    "deletable": false
   },
   "outputs": [
    {
     "data": {
      "text/plain": [
       "<matplotlib.legend.Legend at 0x152cad8ca20>"
      ]
     },
     "execution_count": 114,
     "metadata": {},
     "output_type": "execute_result"
    },
    {
     "data": {
      "image/png": "[encoded data removed]",
      "text/plain": [
       "<Figure size 432x288 with 1 Axes>"
      ]
     },
     "metadata": {
      "needs_background": "light"
     },
     "output_type": "display_data"
    }
   ],
   "source": [
    "# plot the prediction vs true\n",
    "# your code here\n",
    "plt.plot(step_df_sort.x,step_df_sort.y,'o',label='True data')\n",
    "plt.plot(step_df_sort.x,y_pre,label='Fitted data')\n",
    "plt.legend()"
   ]
  },
  {
   "cell_type": "markdown",
   "metadata": {
    "deletable": false,
    "editable": false
   },
   "source": [
    "</span></div><div class='alert alert-block alert-danger'><b>Note:</b><span style = 'color:black'> Make sure your submission passes all assert statements we've provided in this notebook.</span></div></div>"
   ]
  },
  {
   "cell_type": "code",
   "execution_count": 115,
   "metadata": {
    "deletable": false,
    "editable": false
   },
   "outputs": [],
   "source": [
    "### 1.1 Check that you have the requested variables\n",
    "for var in ['sigmoid', 'forward_step', 'step_df' , 'one_hump_df' , 'two_hump_df']:\n",
    "    assert var in globals(), f\"Variable '{var}' does not exist!\""
   ]
  },
  {
   "cell_type": "markdown",
   "metadata": {
    "autograde": "1.2",
    "deletable": false,
    "editable": false
   },
   "source": [
    "**1.2** Do the same for the **one hump** function data, this time using a hidden layer consisting of **two** nodes.\n"
   ]
  },
  {
   "cell_type": "markdown",
   "metadata": {
    "deletable": false,
    "editable": false
   },
   "source": [
    "</span></div><div class='alert alert-block alert-danger'><b>WARNING!:</b><span style = 'color:black'> Do not delete any of the `### cs109Test() ###` comment lines!</span></div></div>"
   ]
  },
  {
   "cell_type": "code",
   "execution_count": 396,
   "metadata": {
    "deletable": false,
    "test": "test1.2"
   },
   "outputs": [
    {
     "data": {
      "text/plain": [
       "0.1944918780813493"
      ]
     },
     "execution_count": 396,
     "metadata": {},
     "output_type": "execute_result"
    }
   ],
   "source": [
    "### cs109Test(test1.2) ###\n",
    "# ONE HUMP  - two nodes in hidden layer\n",
    "# your code here\n",
    "one_hump_df_sort=one_hump_df.sort_values('x')\n",
    "\n",
    "y_pre = forward_step(one_hump_df_sort.x, np.array([[-9,-41],[18,250]]), \n",
    "                 np.array([[-1],[1],[0]]), one_hump_df_sort.y)[0]\n",
    "loss_mse(step_df_sort.y.values.reshape(100,1),y_pre)\n"
   ]
  },
  {
   "cell_type": "code",
   "execution_count": 399,
   "metadata": {},
   "outputs": [
    {
     "data": {
      "text/plain": [
       "<matplotlib.legend.Legend at 0x152d4009128>"
      ]
     },
     "execution_count": 399,
     "metadata": {},
     "output_type": "execute_result"
    },
    {
     "data": {
      "image/png": "[encoded data removed]",
      "text/plain": [
       "<Figure size 432x288 with 1 Axes>"
      ]
     },
     "metadata": {
      "needs_background": "light"
     },
     "output_type": "display_data"
    }
   ],
   "source": [
    "plt.plot(one_hump_df_sort.x,one_hump_df_sort.y,'o',label='True data')\n",
    "plt.plot(one_hump_df_sort.x,y_pre,label='Fitted data')\n",
    "plt.legend()"
   ]
  },
  {
   "cell_type": "markdown",
   "metadata": {
    "autograde": "1.3",
    "deletable": false,
    "editable": false
   },
   "source": [
    "**1.3** Do the same for the **two humps** function data, but this time increase the number of hidden nodes to **four**.\n"
   ]
  },
  {
   "cell_type": "markdown",
   "metadata": {
    "deletable": false,
    "editable": false
   },
   "source": [
    "</span></div><div class='alert alert-block alert-danger'><b>WARNING!:</b><span style = 'color:black'> Do not delete any of the `### cs109Test() ###` comment lines!</span></div></div>"
   ]
  },
  {
   "cell_type": "code",
   "execution_count": 479,
   "metadata": {
    "deletable": false,
    "test": "test1.3"
   },
   "outputs": [
    {
     "data": {
      "text/plain": [
       "<matplotlib.legend.Legend at 0x152d9267518>"
      ]
     },
     "execution_count": 479,
     "metadata": {},
     "output_type": "execute_result"
    },
    {
     "data": {
      "image/png": "[encoded data removed]",
      "text/plain": [
       "<Figure size 432x288 with 1 Axes>"
      ]
     },
     "metadata": {
      "needs_background": "light"
     },
     "output_type": "display_data"
    }
   ],
   "source": [
    "### cs109Test(test1.3) ###\n",
    "# TWO HUMPS  - four nodes in hidden layer \n",
    "# your code here\n",
    "two_hump_df_sort=two_hump_df.sort_values('x')\n",
    "y_pre = forward_step(one_hump_df_sort.x, np.array([[6,-50,0.5,10],[3,2,50,-10]]), \n",
    "                 np.array([[1],[0],[0],[0],[0]]), one_hump_df_sort.y)[0]\n",
    "loss_mse(step_df_sort.y.values.reshape(100,1),y_pre)\n",
    "\n",
    "plt.plot(two_hump_df_sort.x,two_hump_df_sort.y,'o',label='True data')\n",
    "plt.plot(two_hump_df_sort.x,y_pre,label='Fitted data')\n",
    "plt.legend()"
   ]
  },
  {
   "cell_type": "markdown",
   "metadata": {
    "autograde": "1.4",
    "deletable": false,
    "editable": false
   },
   "source": [
    "**1.4** Choose the appropriate loss function and calculate and report the loss from all three cases. Derive the gradient of **the output layer's weights** for all three cases (step, one hump, and two humps). Use the weights for the hidden layers you found in the previous question and perform gradient descent on the weights of this layer (output layer). What are the optimized weight value and loss you obtained?\n",
    "\n",
    "__NOTE: Only perform gradient descent for the output layer's weights (the ones that connect the hidden layer to the output layer)__"
   ]
  },
  {
   "cell_type": "markdown",
   "metadata": {
    "deletable": false,
    "editable": false
   },
   "source": [
    "</span></div><div class='alert alert-block alert-danger'><b>WARNING!:</b><span style = 'color:black'> Do not delete any of the `### cs109Test() ###` comment lines!</span></div></div>"
   ]
  },
  {
   "cell_type": "code",
   "execution_count": 164,
   "metadata": {
    "deletable": false,
    "test": "testLostFunctions"
   },
   "outputs": [],
   "source": [
    "### cs109Test (testLostFunctions) ###\n",
    "\n",
    "# Loss function \n",
    "def L(y_pred, y):   \n",
    "    \"\"\"\n",
    "    This function returns the appropriate loss given the predictions and actual values\n",
    "    Inputs: \n",
    "        y_pred: A vector with the predicted y values \n",
    "        y:      A vector with the true y values \n",
    "    Output:\n",
    "        loss:   A scalar for the loss\"\"\"\n",
    "    # your code here \n"
   ]
  },
  {
   "cell_type": "markdown",
   "metadata": {
    "deletable": false,
    "editable": false
   },
   "source": [
    "</span></div><div class='alert alert-block alert-danger'><b>WARNING!:</b><span style = 'color:black'> Do not delete any of the `### cs109Test() ###` comment lines!</span></div></div>"
   ]
  },
  {
   "cell_type": "code",
   "execution_count": 165,
   "metadata": {
    "deletable": false,
    "test": "test_der_L_WL1"
   },
   "outputs": [],
   "source": [
    "### cs109Test (test_der_L_WL1) ###\n",
    "\n",
    "    \n",
    "# derivative with respect to W1\n",
    "def der_L_WL1(z, y_pred, y):\n",
    "    \"\"\"\n",
    "    This function calculates the derivatives with respect to output weights\n",
    "    Inputs: \n",
    "        y_pred: A vector with the predicted y values \n",
    "        y:      A vector with the true y values \n",
    "        z:      A vector with the values of the output layer \n",
    "    Output:\n",
    "        ders:   A vector of partial derivatives \n",
    "    \"\"\"\n",
    "    # your code here \n",
    "    # end of your code here\n",
    "    return ders # returns vector of partial derivatives"
   ]
  },
  {
   "cell_type": "markdown",
   "metadata": {
    "deletable": false,
    "editable": false
   },
   "source": [
    "</span></div><div class='alert alert-block alert-danger'><b>WARNING!:</b><span style = 'color:black'> Do not delete any of the `### cs109Test() ###` comment lines!</span></div></div>"
   ]
  },
  {
   "cell_type": "code",
   "execution_count": 166,
   "metadata": {
    "deletable": false,
    "test": "test_GradientDescent"
   },
   "outputs": [],
   "source": [
    "### cs109Test (test_GradientDescent) ###\n",
    "\n",
    "# gradient descent \n",
    "def gradient_descent(steps, lr, WL0, WL1, X, y):\n",
    "    \"\"\"\n",
    "    This function performs Gradient Descent\n",
    "    Inputs: \n",
    "        steps: Number of steps\n",
    "        lr: Learning Rate\n",
    "        WL0: Layer 0 weights\n",
    "        WL1: Layer 1 weights - Initital value\n",
    "        X: X\n",
    "        y: y\n",
    "     Outputs:\n",
    "        z1:  A vector with the final values of y (after steps steps)\n",
    "        WL1_n: The final values of WL1 (after steps steps)\n",
    "        errors: list of errors\n",
    "    \"\"\"\n",
    "    \n",
    "    \n",
    "    # your code here \n",
    "    # end of your code here\n",
    "    return z1, WL1_n, errors"
   ]
  },
  {
   "cell_type": "markdown",
   "metadata": {
    "deletable": false,
    "editable": false
   },
   "source": [
    "#### a) step function NN (a hidden layer with a single node)"
   ]
  },
  {
   "cell_type": "code",
   "execution_count": 167,
   "metadata": {
    "deletable": false
   },
   "outputs": [],
   "source": [
    "# SINGLE STEP\n",
    "# your code here \n"
   ]
  },
  {
   "cell_type": "markdown",
   "metadata": {
    "deletable": false,
    "editable": false
   },
   "source": [
    "#### b) one hump function NN (a hidden layer with two nodes)"
   ]
  },
  {
   "cell_type": "code",
   "execution_count": 168,
   "metadata": {
    "deletable": false
   },
   "outputs": [],
   "source": [
    "# ONE HUMP\n",
    "# your code here \n"
   ]
  },
  {
   "cell_type": "markdown",
   "metadata": {
    "deletable": false,
    "editable": false
   },
   "source": [
    "#### c) two hump function NN (a hidden layer with 4 nodes)"
   ]
  },
  {
   "cell_type": "code",
   "execution_count": 169,
   "metadata": {
    "deletable": false
   },
   "outputs": [],
   "source": [
    "# TWO HUMPS\n",
    "# your code here \n"
   ]
  },
  {
   "cell_type": "markdown",
   "metadata": {
    "deletable": false,
    "editable": false
   },
   "source": [
    "<hr style='height:2pt'>\n",
    "<div class='theme'> Neural Networks part B</div> \n",
    "\n",
    "Neural networks are, of course, a large and complex topic that cannot be covered in a single homework. Here, we'll focus on the key idea of ANNs: they are able to learn a mapping from example input data (of fixed size) to example output data (of fixed size). We'll also partially explore what patterns the neural network learns and how well neural networks generalize.\n",
    "\n",
    "In this question we'll see if neural networks can learn a limited version of the [Fourier Transform.](https://en.wikipedia.org/wiki/Fourier_transform) (The Fourier Transform takes in values from some function and returns a set of sine and cosine functions which, when added together, approximate the original function.)\n",
    "\n",
    "In symbols: $ \\cal{F(s)} = \\int_{-\\infty}^\\infty f(x)e^{- i xs}dx$. In words, the value of the transformed function at some point, $s$, is the value of an integral which measures, in some sense, how much the original $f(x)$ looks like a wave with a period of $s$. As an example, with $f(x) = 4cos(x) + sin(2x)$,  $\\cal{F}(s)$ is 0 everywhere except at -2, -1, 1, and 2, mapping to the waves of period 1 and 1/2. The values at these points are linked to the magnitude of the waves, and their phases (roughly: sin waves versus cosine waves).\n",
    "\n",
    "The only thing about the Fourier transform that matters for this p-set is this: a function goes in, and a re-written form in terms of sine and cosine comes out.\n",
    "\n",
    "In our specific problem, we'll train a network to map from 1000 sample values from a function (equally spaced along 0 to 2$\\pi$) to the four features of the sine and cosine waves that make up that function. Thus, the network is attempting to learn a mapping from a 1000-entry vector down to a 4-entry vector. Our `X_train` dataset's shape is $N x 1000$ and our `y_train` is $N x 4.$\n",
    "\n",
    "Questions 2.1 and 2.2 will get you used to the format of the data. \n",
    "\n",
    "We'll use 6 data files in this question:\n",
    "- `sinewaves_X_train.npy` and `sinewaves_y_train.npy`: a (10,000 x 1,000) and (10,000 x 4) training dataset. Examples were generated by randomly selecting a,b,c,d in the interval [0,1] and building the curve $a\\sin(b\\,x) + c\\cos(d\\,x)$\n",
    "- `sinewaves_X_test.npy` and `sinewaves_y_test.npy`: a (2,000 x 1,000) and (2,000 x 4) test dataset, generated in the same way as the training data\n",
    "- `sinewaves_X_extended_test` and `sinewaves_y_extended_test`: a (9 x 1,000) and (9 x 4) test dataset, testing whether the network can generalize beyond the training data (e.g. to negative values of $a$)\n",
    "\n",
    "**These datasets are read in to their respective variables for you.**"
   ]
  },
  {
   "cell_type": "markdown",
   "metadata": {
    "deletable": false,
    "editable": false
   },
   "source": [
    "<div class='exercise'> <b> Question 2 [25pts] </b> </div>\n",
    "    \n",
    "**2.1** Plot the first row of the `X_train` training data and visually verify that it is a sinusoidal curve.\n",
    "\n",
    "**2.2** The first row of the `y_train` data is $[0.024, 0.533, 0.018, 0.558]$. Visually or numerically verify that the first row of X_train is 1000 equally-spaced samples in $[0,10\\pi]$ from the function $f(x) = 0.024\\sin(0.533\\,x) + 0.018\\cos(0.558\\,x)$. This pattern (y_train is the true parameters of the curve in X_train) will always hold.\n",
    "\n",
    "**2.3** Use `tf.keras` to build a fully-connected neural network:\n",
    "\n",
    "**a:** Use `tf.keras.models.Sequential` and `tf.keras.layers.Dense` to build the fully-connected neural network. You can choose any number of layers and any number of nodes in each layer. \n",
    "\n",
    "**b:** Compile your model via the line `model.compile(loss='mean_absolute_error', optimizer='adam')` and display the `.summary()`. Explain why the first layer in your network has the indicated number of parameters.\n",
    "\n",
    "**c:** Fit your model to the data for $50$ epochs using a batch size of $32$ and a validation split of $0.2$. You can train for longer if you wish -- the fit tends to improve over time.\n",
    "\n",
    "**2.4** Use the `plot_predictions` function to plot the model's predictions on `X_test` to the true values in `y_test` (by default, it will only plot the first few rows). Report the model's overall loss on the test set. Comment on how well the model performs on this unseen data. Do you think it has accurately learned how to map from sample data to the coefficients that generated the data?\n",
    "\n",
    "**2.5** Examine the model's performance on the 9 train/test pairs in the `extended_test` variables. Which examples does the model do well on, and which examples does it struggle with?\n",
    "\n",
    "**2.6** Is there something that stands out about the difficult examples, especially with respect to the data the model was trained on? Did the model learn the mapping we had in mind? Would you say the model is overfit, underfit, or neither?\n",
    "\n",
    "**Hint**:\n",
    "- The Tensorflow 2.0 [`tf.keras` (here)](https://www.tensorflow.org/guide/keras) documentation and examples of a Sequential model are a good place to start.\n",
    "- A strong model can achieve validation error of around 0.03 on this data and 0.02 is very good."
   ]
  },
  {
   "cell_type": "markdown",
   "metadata": {
    "deletable": false,
    "editable": false
   },
   "source": [
    "</span></div><div class='alert alert-block alert-danger'><b>WARNING!:</b><span style = 'color:black'> Do not delete any of the `### cs109Test() ###` comment lines!</span></div></div>"
   ]
  },
  {
   "cell_type": "code",
   "execution_count": 480,
   "metadata": {
    "deletable": false,
    "editable": false
   },
   "outputs": [],
   "source": [
    "### cs109default ### \n",
    "def plot_predictions(model, test_x, test_y, count=None):\n",
    "    # Model - a tf.keras model that takes in (n,1000) training data and predicts (n,4) output data\n",
    "    # test_x - a (n,1000) input dataset\n",
    "    # test_y - a (n,4) output dataset\n",
    "    # This function will plot the sine curves in the training data and those implied by the model's predictions.\n",
    "    # It will also print the predicted and actual output values.\n",
    "    \n",
    "    #helper function that takes the n by 4 output and reverse-engineers \n",
    "    #the sine curves that output would create\n",
    "    def y2x(y_data):\n",
    "        #extract parameters\n",
    "        a=y_data[:,0].reshape(-1,1)\n",
    "        b=y_data[:,1].reshape(-1,1)\n",
    "        c=y_data[:,2].reshape(-1,1)\n",
    "        d=y_data[:,3].reshape(-1,1)\n",
    "\n",
    "        #build the matching training data\n",
    "        x_points = np.linspace(0,10*np.pi,1000)\n",
    "        x_data = a*np.sin(np.outer(b,x_points)) + c*np.cos(np.outer(d,x_points))\n",
    "        return x_data\n",
    "    \n",
    "    #if <20 examples, plot all. If more, just plot 5\n",
    "    if count==None:\n",
    "        if test_x.shape[0]>20:\n",
    "            count=5\n",
    "        else:\n",
    "            count=test_x.shape[0]\n",
    "    \n",
    "    #build predictions\n",
    "    predicted = model.predict(test_x)\n",
    "    implied_x = y2x(predicted)\n",
    "    for i in range(count):\n",
    "        plt.plot(test_x[i,:],label='true')\n",
    "        plt.plot(implied_x[i,:],label='predicted')\n",
    "        plt.legend()\n",
    "        plt.ylim(-2.1,2.1)\n",
    "        plt.xlabel(\"x value\")\n",
    "        plt.xlabel(\"y value\")\n",
    "        plt.title(\"Curves using the Neural Network's Approximate Fourier Transform\")\n",
    "        plt.show()\n",
    "        print(\"true:\", test_y[i,:])\n",
    "        print(\"predicted:\", predicted[i,:])\n",
    "    \n",
    "    "
   ]
  },
  {
   "cell_type": "markdown",
   "metadata": {
    "deletable": false,
    "editable": false
   },
   "source": [
    "</span></div><div class='alert alert-block alert-danger'><b>WARNING!:</b><span style = 'color:black'> Do not delete any of the `### cs109Test() ###` comment lines!</span></div></div>"
   ]
  },
  {
   "cell_type": "code",
   "execution_count": 481,
   "metadata": {
    "deletable": false,
    "editable": false
   },
   "outputs": [
    {
     "ename": "FileNotFoundError",
     "evalue": "[Errno 2] No such file or directory: 'data/sinewaves_X_train.npy'",
     "output_type": "error",
     "traceback": [
      "\u001b[1;31m---------------------------------------------------------------------------\u001b[0m",
      "\u001b[1;31mFileNotFoundError\u001b[0m                         Traceback (most recent call last)",
      "\u001b[1;32m<ipython-input-481-ea507c7dae43>\u001b[0m in \u001b[0;36m<module>\u001b[1;34m\u001b[0m\n\u001b[0;32m      1\u001b[0m \u001b[1;31m### cs109default ###\u001b[0m\u001b[1;33m\u001b[0m\u001b[1;33m\u001b[0m\u001b[1;33m\u001b[0m\u001b[0m\n\u001b[1;32m----> 2\u001b[1;33m \u001b[0mX_train\u001b[0m \u001b[1;33m=\u001b[0m \u001b[0mnp\u001b[0m\u001b[1;33m.\u001b[0m\u001b[0mload\u001b[0m\u001b[1;33m(\u001b[0m\u001b[1;34m'data/sinewaves_X_train.npy'\u001b[0m\u001b[1;33m)\u001b[0m\u001b[1;33m\u001b[0m\u001b[1;33m\u001b[0m\u001b[0m\n\u001b[0m\u001b[0;32m      3\u001b[0m \u001b[0my_train\u001b[0m \u001b[1;33m=\u001b[0m \u001b[0mnp\u001b[0m\u001b[1;33m.\u001b[0m\u001b[0mload\u001b[0m\u001b[1;33m(\u001b[0m\u001b[1;34m'data/sinewaves_y_train.npy'\u001b[0m\u001b[1;33m)\u001b[0m\u001b[1;33m\u001b[0m\u001b[1;33m\u001b[0m\u001b[0m\n\u001b[0;32m      4\u001b[0m \u001b[1;33m\u001b[0m\u001b[0m\n\u001b[0;32m      5\u001b[0m \u001b[0mX_test\u001b[0m \u001b[1;33m=\u001b[0m \u001b[0mnp\u001b[0m\u001b[1;33m.\u001b[0m\u001b[0mload\u001b[0m\u001b[1;33m(\u001b[0m\u001b[1;34m'data/sinewaves_X_test.npy'\u001b[0m\u001b[1;33m)\u001b[0m\u001b[1;33m\u001b[0m\u001b[1;33m\u001b[0m\u001b[0m\n",
      "\u001b[1;32m~\\Anaconda3\\envs\\tfcs109a\\lib\\site-packages\\numpy\\lib\\npyio.py\u001b[0m in \u001b[0;36mload\u001b[1;34m(file, mmap_mode, allow_pickle, fix_imports, encoding)\u001b[0m\n\u001b[0;32m    426\u001b[0m         \u001b[0mown_fid\u001b[0m \u001b[1;33m=\u001b[0m \u001b[1;32mFalse\u001b[0m\u001b[1;33m\u001b[0m\u001b[1;33m\u001b[0m\u001b[0m\n\u001b[0;32m    427\u001b[0m     \u001b[1;32melse\u001b[0m\u001b[1;33m:\u001b[0m\u001b[1;33m\u001b[0m\u001b[1;33m\u001b[0m\u001b[0m\n\u001b[1;32m--> 428\u001b[1;33m         \u001b[0mfid\u001b[0m \u001b[1;33m=\u001b[0m \u001b[0mopen\u001b[0m\u001b[1;33m(\u001b[0m\u001b[0mos_fspath\u001b[0m\u001b[1;33m(\u001b[0m\u001b[0mfile\u001b[0m\u001b[1;33m)\u001b[0m\u001b[1;33m,\u001b[0m \u001b[1;34m\"rb\"\u001b[0m\u001b[1;33m)\u001b[0m\u001b[1;33m\u001b[0m\u001b[1;33m\u001b[0m\u001b[0m\n\u001b[0m\u001b[0;32m    429\u001b[0m         \u001b[0mown_fid\u001b[0m \u001b[1;33m=\u001b[0m \u001b[1;32mTrue\u001b[0m\u001b[1;33m\u001b[0m\u001b[1;33m\u001b[0m\u001b[0m\n\u001b[0;32m    430\u001b[0m \u001b[1;33m\u001b[0m\u001b[0m\n",
      "\u001b[1;31mFileNotFoundError\u001b[0m: [Errno 2] No such file or directory: 'data/sinewaves_X_train.npy'"
     ]
    }
   ],
   "source": [
    "### cs109default ### \n",
    "X_train = np.load('data/sinewaves_X_train.npy')\n",
    "y_train = np.load('data/sinewaves_y_train.npy')\n",
    "\n",
    "X_test = np.load('data/sinewaves_X_test.npy')\n",
    "y_test = np.load('data/sinewaves_y_test.npy')\n",
    "\n",
    "X_extended_test = np.load('data/sinewaves_X_extended_test.npy')\n",
    "y_extended_test = np.load('data/sinewaves_y_extended_test.npy')"
   ]
  },
  {
   "cell_type": "markdown",
   "metadata": {
    "deletable": false,
    "editable": false
   },
   "source": [
    "## Answers:  "
   ]
  },
  {
   "cell_type": "markdown",
   "metadata": {
    "autograde": "2.1",
    "deletable": false,
    "editable": false
   },
   "source": [
    "**2.1** Plot the first row of the `X_train` training data and visually verify that it is a sinusoidal curve.\n"
   ]
  },
  {
   "cell_type": "code",
   "execution_count": 172,
   "metadata": {
    "deletable": false
   },
   "outputs": [],
   "source": [
    "# your code here\n"
   ]
  },
  {
   "cell_type": "markdown",
   "metadata": {
    "autograde": "2.2",
    "deletable": false,
    "editable": false
   },
   "source": [
    "**2.2** The first row of the `y_train` data is $[0.024, 0.533, 0.018, 0.558]$. Visually or numerically verify that the first row of X_train is 1000 equally-spaced samples in $[0,10\\pi]$ from the function $f(x) = 0.024\\sin(0.533\\,x) + 0.018\\cos(0.558\\,x)$. This pattern (y_train is the true parameters of the curve in X_train) will always hold.\n"
   ]
  },
  {
   "cell_type": "code",
   "execution_count": 173,
   "metadata": {
    "deletable": false
   },
   "outputs": [],
   "source": [
    "# your code here\n"
   ]
  },
  {
   "cell_type": "code",
   "execution_count": 174,
   "metadata": {
    "deletable": false
   },
   "outputs": [],
   "source": [
    "# your code here \n"
   ]
  },
  {
   "cell_type": "markdown",
   "metadata": {
    "autograde": "2.3",
    "deletable": false,
    "editable": false
   },
   "source": [
    "**2.3** Use `tf.keras` to build a fully-connected neural network:\n",
    "\n",
    "**a:** Use `tf.keras.models.Sequential` and `tf.keras.layers.Dense` to build the fully-connected neural network. You can choose any number of layers and any number of nodes in each layer.\n",
    "\n",
    "**b:** Compile your model via the line `model.compile(loss='mean_absolute_error', optimizer='adam')` and display the `.summary()`. Explain why the first layer in your network has the indicated number of parameters.\n",
    "\n",
    "**c:** Fit your model to the data for $50$ epochs using a batch size of $32$ and a validation split of $0.2$. You can train for longer if you wish -- the fit tends to improve over time.\n"
   ]
  },
  {
   "cell_type": "code",
   "execution_count": 175,
   "metadata": {
    "deletable": false
   },
   "outputs": [],
   "source": [
    "# build the fully-connected neural network\n",
    "# your code here\n"
   ]
  },
  {
   "cell_type": "code",
   "execution_count": 176,
   "metadata": {
    "deletable": false
   },
   "outputs": [],
   "source": [
    "# Compile your model \n",
    "# your code here\n"
   ]
  },
  {
   "cell_type": "markdown",
   "metadata": {
    "deletable": false
   },
   "source": [
    "*Your answer here*"
   ]
  },
  {
   "cell_type": "code",
   "execution_count": 177,
   "metadata": {
    "deletable": false
   },
   "outputs": [],
   "source": [
    "# Fit your model \n",
    "# your code here\n"
   ]
  },
  {
   "cell_type": "markdown",
   "metadata": {
    "autograde": "2.4",
    "deletable": false,
    "editable": false
   },
   "source": [
    "**2.4** Use the `plot_predictions` function to plot the model's predictions on `X_test` to the true values in `y_test` (by default, it will only plot the first few rows). Report the model's overall loss on the test set. Comment on how well the model performs on this unseen data. Do you think it has accurately learned how to map from sample data to the coefficients that generated the data?\n"
   ]
  },
  {
   "cell_type": "code",
   "execution_count": 178,
   "metadata": {
    "deletable": false
   },
   "outputs": [],
   "source": [
    "# your code here\n"
   ]
  },
  {
   "cell_type": "code",
   "execution_count": 179,
   "metadata": {
    "deletable": false
   },
   "outputs": [],
   "source": [
    "# model's overall loss\n",
    "# your code here\n"
   ]
  },
  {
   "cell_type": "markdown",
   "metadata": {
    "deletable": false
   },
   "source": [
    "*Your answer here*"
   ]
  },
  {
   "cell_type": "markdown",
   "metadata": {
    "autograde": "2.5",
    "deletable": false,
    "editable": false
   },
   "source": [
    "**2.5** Examine the model's performance on the 9 train/test pairs in the `extended_test` variables. Which examples does the model do well on, and which examples does it struggle with?\n"
   ]
  },
  {
   "cell_type": "code",
   "execution_count": 180,
   "metadata": {
    "deletable": false
   },
   "outputs": [],
   "source": [
    "# your code here\n"
   ]
  },
  {
   "cell_type": "markdown",
   "metadata": {
    "deletable": false
   },
   "source": [
    "*Your answer here*"
   ]
  },
  {
   "cell_type": "markdown",
   "metadata": {
    "autograde": "2.6",
    "deletable": false,
    "editable": false
   },
   "source": [
    "**2.6** Is there something that stands out about the difficult examples, especially with respect to the data the model was trained on? Did the model learn the mapping we had in mind? Would you say the model is overfit, underfit, or neither?\n",
    "\n",
    "**Hint**:\n",
    "- The Tensorflow 2.0 [`tf.keras` (here)](https://www.tensorflow.org/guide/keras) documentation and examples of a Sequential model are a good place to start.\n",
    "- A strong model can achieve validation error of around 0.03 on this data and 0.02 is very good."
   ]
  },
  {
   "cell_type": "markdown",
   "metadata": {
    "deletable": false
   },
   "source": [
    "*Your answer here*"
   ]
  },
  {
   "cell_type": "markdown",
   "metadata": {
    "collapsed": true,
    "deletable": false,
    "editable": false
   },
   "source": [
    "<hr style='height:2pt'>\n",
    "\n",
    "<div class='theme'> Regularizing Neural Networks </div>\n",
    "\n",
    "In this problem set, we have already explored how ANNs are able to learn a mapping from example input data (of fixed size) to example output data (of fixed size), and how well the neural network can generalize. In this problem, we focus on issues of overfitting and regularization in neural networks.\n",
    "\n",
    "As we have explained in class, ANNs can be prone to overfitting, where they learn specific patterns present in the training data, but the patterns do not generalize to new data.\n",
    "\n",
    "There are several methods used to improve ANN generalization. One approach is to use an architecture just barely wide/deep enough to fit the data. The idea here is that smaller networks are less expressive and thus less able to overfit the data.\n",
    "\n",
    "However, it is difficult to know a priori the correct size of the ANN, and it is computationally costly to hunt for the correct size. Given this, other methodologies are used to prevent overfitting and improve ANNs' generalizability. These methodologies, like other techniques that combat overfitting, fall under the umbrella of regularization.\n",
    "\n",
    "In this problem, you are asked to regularize a network given to you below.\n",
    "    \n",
    "For this problem, we will be working with a modified version of MNIST dataset (MNIST CS109, MNIST: Modified National Institute of Standards and Technology database), which is a large database of handwritten digits and commonly used for training various image processing systems. This dataset consists of 60,000 28x28 grayscale images of the ten digits, along with a test set of 10,000 images. For pedagogical simplicity, we will only use the digits labeled `4` and `9`, and we want to use a total of 1600 samples for training (this includes the data you will use for validation).\n",
    "\n",
    "We have selected the samples for you and the dataset is available at https://www.kaggle.com/c/cs109a. You have to create an account on Kaggle and join competition via https://www.kaggle.com/t/ca16b77c5feb4cbabb0d8cf63d9a7212. This is a limited participation competition. Please do not share link.  \n",
    "\n",
    "`x_train_mnist_cs109.csv` is our training dataset, last column is the target column. Class 0 means sample is handwritten digit 4 and class 1 means sample is handwritten digit 9.  784 columns correspond to 28x28 image size. \n",
    "\n",
    "\n",
    "`x_test_mnist_cs109.csv` has  structure similar to `x_train_mnist_cs109.csv` with no labels. `x_test_mnist_cs109.csv` has 3200  samples. Kaggle leaderboard scores are accuracy scores calculated on this test set.  \n",
    "\n",
    "`sample_submission.csv` is the format that kaggle will accept.\n"
   ]
  },
  {
   "cell_type": "markdown",
   "metadata": {
    "deletable": false,
    "editable": false,
    "test": "Kaggle_name"
   },
   "source": [
    "\n",
    "<div class='exercise'> <b> Question 3 [25 pts] </b> </div>\n",
    "    \n",
    "**3.1**  Download data from the competition page. You should have three files `x_train_mnist_cs109.csv`, `x_test_mnist_cs109.csv` and `sample_submission.csv`. We will utilize `x_test_mnist_cs109.csv` in 3.3.  Load the data and use the matplotlib function `imshow` to display a handwritten 4 and a handwritten 9.\n",
    "\n",
    "**3.2** **Overfit an ANN:** Build a fully-connected network (FCN) using `tensorflow.keras` and assign it to a variable called `model_overfit`: \n",
    "\n",
    "1. Number of hidden layers: 3\n",
    "2. Nodes per hidden layer: 100,100,100\n",
    "2. Activation function: reLU \n",
    "3. Loss function: binary_crossentropy\n",
    "4. Output unit: Sigmoid \n",
    "5. Optimizer: adam (use the defaults; no other tuning)\n",
    "6. Epochs: no more than 2,000\n",
    "7. Batch size: 128\n",
    "8. Validation size: .3\n",
    "\n",
    "This ANN trained on the dataset you built here will overfit to the training set. Plot the training accuracy and validation accuracy as a function of epochs and explain how you can tell it is overfitting. \n",
    "\n",
    "\n",
    "**3.3** Create an ANN that doesn't overfit and compete on Kaggle.\n",
    "\n",
    "Keep the architecture above as is. In other words, keep the number of layers, number of nodes, activation function,  loss function and output unit the same. You can change the number of epochs (max 2000), batch size, optimizer, and of course, add elements that can help to regularize (e.g., drop out, L2 norm, etc.). You can also do data augmentation. \n",
    "\n",
    "\n",
    "\n",
    "- 3.3.1 Save your model's training accuracy as a variable called `kaggle_train_acc` and make sure it prints in the assert cell provided\n",
    "- 3.3.2 Additionally, display model summary, training and validation accuracy and loss (yes, the training accuracy should be displayed again here).\n",
    "- 3.3.3 Print the difference between training and validation accuracy and loss.\n",
    "- 3.3.4 Plot the training accuracy and validation accuracy as a function of epochs.\n",
    "- 3.3.5 Save the model using `model.save(filename)` and **submit it on canvas along with your notebook**. Code on how to save your model is provided below.\n",
    "- 3.3.6 **Submit your Kaggle name that you have used on the leaderboard. *We can't give you credit without this* . Enter it in the code cell below that starts with ### cs109Test(Kaggle_name) ###.**\n",
    "\n",
    "\n",
    "\n",
    "\n",
    "**RULES:**\n",
    "\n",
    "- **Please do not manually label your submissions.** In other words the labels should be the outcome of your model. \n",
    "\n",
    "- **No CNNs  allowed for this competition. \n",
    "\n",
    "- **No external data are allowed, please only use the x_train_mnist_cs109.csv for training the models.**\n",
    "\n",
    "- Do not create multiple accounts on Kaggle.\n",
    "\n",
    "\n",
    "**Grading:** (all accuracies are in percentages)\n",
    "\n",
    "S1: (Model overfit training accuracy - Model overfit validation accuracy)  => How much are you overfitting 3.2  ?\n",
    "\n",
    "S2: (Good model training accuracy - Good model average on Kaggle)  => How much are you overfitting on kaggle 3.3\n",
    "\n",
    "S3: (min (0, Good model training accuracy - Model overfit training accuracy )) => Your good model accuracy must be higher than model overfit. \n",
    "\n",
    "score = S1 - S2 + S3\n",
    "\n",
    "1. score > 1 : 4pt\n",
    "2. score > 1.5-2.0 : 8pts\n",
    "3. score > 2.0: 12pts\n",
    "4. 3pt extra to the top 10 students\n",
    "\n",
    "\n"
   ]
  },
  {
   "cell_type": "markdown",
   "metadata": {
    "deletable": false,
    "editable": false
   },
   "source": [
    "## Answers"
   ]
  },
  {
   "cell_type": "markdown",
   "metadata": {
    "autograde": "3.1",
    "deletable": false,
    "editable": false
   },
   "source": [
    "**3.1**  Download data from the competition page. You should have three files `x_train_mnist_cs109.csv`, `x_test_mnist_cs109.csv` and `sample_submission.csv`. We will utilize `x_test_mnist_cs109.csv` in 3.3.  Load the data and use the matplotlib function `imshow` to display a handwritten 4 and a handwritten 9.\n"
   ]
  },
  {
   "cell_type": "code",
   "execution_count": 181,
   "metadata": {
    "deletable": false
   },
   "outputs": [],
   "source": [
    "# your code here\n"
   ]
  },
  {
   "cell_type": "markdown",
   "metadata": {
    "autograde": "3.2",
    "deletable": false,
    "editable": false
   },
   "source": [
    "**3.2** **Overfit an ANN:** Build a fully-connected network (FCN) using `tensorflow.keras` and assign it to a variable called `model_overfit`:\n",
    "\n",
    "1. Number of hidden layers: 3\n",
    "2. Nodes per hidden layer: 100,100,100\n",
    "2. Activation function: reLU\n",
    "3. Loss function: binary_crossentropy\n",
    "4. Output unit: Sigmoid\n",
    "5. Optimizer: adam (use the defaults; no other tuning)\n",
    "6. Epochs: no more than 2,000\n",
    "7. Batch size: 128\n",
    "8. Validation size: .3\n",
    "\n",
    "This ANN trained on the dataset you built here will overfit to the training set. Plot the training accuracy and validation accuracy as a function of epochs and explain how you can tell it is overfitting.\n",
    "\n"
   ]
  },
  {
   "cell_type": "code",
   "execution_count": 182,
   "metadata": {
    "deletable": false
   },
   "outputs": [],
   "source": [
    "# your code here\n"
   ]
  },
  {
   "cell_type": "markdown",
   "metadata": {
    "deletable": false
   },
   "source": [
    "*Your answer here*"
   ]
  },
  {
   "cell_type": "markdown",
   "metadata": {
    "autograde": "3.3",
    "deletable": false,
    "editable": false,
    "test": "Kaggle_name"
   },
   "source": [
    "**3.3** Create an ANN that doesn't overfit and compete on Kaggle.\n",
    "\n",
    "Keep the architecture above as is. In other words, keep the number of layers, number of nodes, activation function,  loss function and output unit the same. You can change the number of epochs (max 2000), batch size, optimizer, and of course, add elements that can help to regularize (e.g., drop out, L2 norm, etc.). You can also do data augmentation.\n",
    "\n",
    "\n",
    "- 3.3.1 Save your model's training accuracy as a variable called `kaggle_train_acc` and make sure it prints in the assert cell provided\n",
    "- 3.3.2 Additionally, display model summary, training and validation accuracy and loss (yes, the training accuracy should be displayed again here).\n",
    "- 3.3.3 Print the difference between training and validation accuracy and loss.\n",
    "- 3.3.4 Plot the training accuracy and validation accuracy as a function of epochs.\n",
    "- 3.3.5 Save the model using `model.save(filename)` and **submit it on canvas along with your notebook**. Code on how to save your model is provided below.\n",
    "- 3.3.6 **Submit your Kaggle name that you have used on the leaderboard. *We can't give you credit without this* . Enter it in the code cell below that starts with ### cs109Test(Kaggle_name) ###.**\n",
    "\n",
    "\n",
    "\n",
    "\n",
    "**RULES:**\n",
    "\n",
    "- **Please do not manually label your submissions.** In other words the labels should be the outcome of your model.\n",
    "\n",
    "- **No CNNs  allowed for this competition.\n",
    "\n",
    "- **No external data are allowed, please only use the x_train_mnist_cs109.csv for training the models.**\n",
    "\n",
    "- Do not create multiple accounts on Kaggle.\n",
    "\n",
    "\n",
    "**Grading:** (all accuracies are in percentages)\n",
    "\n",
    "S1: (Model overfit training accuracy - Model overfit validation accuracy)  => How much are you overfitting 3.2  ?\n",
    "\n",
    "S2: (Good model training accuracy - Good model average on Kaggle)  => How much are you overfitting on kaggle 3.3\n",
    "\n",
    "S3: (min (0, Good model training accuracy - Model overfit training accuracy )) => Your good model accuracy must be higher than model overfit.\n",
    "\n",
    "score = S1 - S2 + S3\n",
    "\n",
    "1. score > 1 : 4pt\n",
    "2. score > 1.5-2.0 : 8pts\n",
    "3. score > 2.0: 12pts\n",
    "4. 3pt extra to the top 10 students\n",
    "\n"
   ]
  },
  {
   "cell_type": "code",
   "execution_count": 186,
   "metadata": {
    "deletable": false
   },
   "outputs": [],
   "source": [
    "# your code here\n"
   ]
  },
  {
   "cell_type": "code",
   "execution_count": 29,
   "metadata": {
    "deletable": false,
    "editable": false,
    "test": "Kaggle_Train_Acc"
   },
   "outputs": [],
   "source": [
    "### cs109Test(Kaggle_Train_Acc) ###\n",
    "### Print your Kaggle model's train accuracy\n",
    "assert 'kaggle_train_acc' in globals(), f\"Variable 'kaggle_train_acc' does not exist!\"\n",
    "print('Kaggle Train Accuracy: {}'.format(kaggle_train_acc))"
   ]
  },
  {
   "cell_type": "code",
   "execution_count": null,
   "metadata": {},
   "outputs": [],
   "source": [
    "# your code here\n"
   ]
  },
  {
   "cell_type": "code",
   "execution_count": 188,
   "metadata": {
    "deletable": false
   },
   "outputs": [],
   "source": [
    "# your code here\n"
   ]
  },
  {
   "cell_type": "code",
   "execution_count": 190,
   "metadata": {
    "deletable": false
   },
   "outputs": [],
   "source": [
    "# your code here\n"
   ]
  },
  {
   "cell_type": "code",
   "execution_count": 191,
   "metadata": {
    "deletable": false,
    "editable": false
   },
   "outputs": [
    {
     "name": "stdout",
     "output_type": "stream",
     "text": [
      "Saved model to disk\n"
     ]
    }
   ],
   "source": [
    "### cs109default ### \n",
    "# serialize model to JSON\n",
    "model_json = model.to_json()\n",
    "with open(\"model.json\", \"w\") as json_file:\n",
    "    json_file.write(model_json)\n",
    "# serialize weights to HDF5\n",
    "model.save_weights(\"model.h5\")\n",
    "print(\"Saved model to disk\")"
   ]
  },
  {
   "cell_type": "markdown",
   "metadata": {
    "deletable": false
   },
   "source": [
    "### cs109test (Kaggle_name) ###\n",
    "\n",
    "**Enter your Kaggle Leaderboard name as a string in the cell below**\n",
    "\n",
    "**(No credit without the name!)**"
   ]
  },
  {
   "cell_type": "code",
   "execution_count": 19,
   "metadata": {
    "deletable": false,
    "test": "Kaggle_name"
   },
   "outputs": [],
   "source": [
    "### cs109Test(Kaggle_name) ###\n",
    "# Enter your Kaggle Leaderboard name exactly as it appears\n",
    "# (No name == no credit!)\n",
    "\n",
    "KAGGLE_NAME = ''"
   ]
  },
  {
   "cell_type": "code",
   "execution_count": 21,
   "metadata": {
    "deletable": false,
    "editable": false
   },
   "outputs": [],
   "source": [
    "### Check that you entered your Kaggle name!\n",
    "assert 'KAGGLE_NAME' in globals(), f\"Variable 'KAGGLE_NAME' does not exist!\"\n",
    "assert KAGGLE_NAME != '', f\"You forgot to enter your KAGGLE_NAME\"\n",
    "print(f'Kaggle Leaderboard Name: {KAGGLE_NAME}')"
   ]
  },
  {
   "cell_type": "markdown",
   "metadata": {
    "deletable": false,
    "editable": false
   },
   "source": [
    "---"
   ]
  },
  {
   "cell_type": "markdown",
   "metadata": {
    "deletable": false,
    "editable": false
   },
   "source": [
    "<div class='exercise'><b> Question 4: Model interpretations </b> </div>\n",
    "\n",
    "In this problem you will be building and interpreting models to predict whether or not a flight was delayed for its arrival based on features that could be measured as the flight takes off.  The included variables are:\n",
    "\n",
    "**ARRIVAL_DELAY**: the difference between scheduled arrival and actual arrival, in minutes (positive is late, negative is early).\n",
    "\n",
    "**DISTANCE**: the distance between arrival and departure airports, in miles.\n",
    "\n",
    "**SCHEDULED_TIME**: the amount of time the flight was scheduled to take.\n",
    "\n",
    "**MONTH**: the month the flight took off, 1 = January, 2 = February, etc.\n",
    "\n",
    "**SCHED_DEP_HOUR**: the scheduled departure time (the hour of the day).\n",
    "\n",
    "**SCHED_ARR_HOUR**: the scheduled arrival time (the hour of the day).\n",
    "\n",
    "**FLIGHT_COUNT**: the number of flights flying out of that airport before noon on a typical day.\n",
    "\n",
    "**DAY_OF_WEEK**: the day of the week, 1 = Monday, 2 = Tuesday, etc.\n",
    "\n",
    "**ORIGIN_AIRPORT**: the airport the flight took off from.\n",
    "\n",
    "**DESTINATION_AIRPORT**: the airport the flight was scheduled to land at.\n",
    "\n",
    "For the airport codes, see: https://www.bts.gov/topics/airlines-and-airports/world-airport-codes\n",
    "\n",
    "This problem steps you through fitting several models (starting simple, tuning a  and building up to complex), evaluate their accuracies, and then interpret the relationships of the predictors in the models via feature importance measures and through plotting their predications.\n",
    "\n",
    "*Note: the observations were stratified sampled so that roughly half of the observations were delayed and half of the observations were not delayed.\n"
   ]
  },
  {
   "cell_type": "markdown",
   "metadata": {
    "deletable": false,
    "editable": false
   },
   "source": [
    "**4.1**  Read in the dataset `flights.csv`. Create a variable `DELAY_OR_NOT` that denotes whether `ARRIVAL_DELAY` is greater than or equal to 15 minutes (the FAA and BTS define a flight as delayed only if it arrives 15 minutes late or more). Turn the following predictors into dummies: `['ORIGIN_AIRPORT','DESTINATION_AIRPORT']`, and then split into train and test (80-20 split) using `train_test_split` with a random state of `109`.  Print out the dimensions of the resulting train and test `flights_train` and `flights_test` data frames.\n",
    "\n",
    "**4.2** Fit two tree based models: one with `max_depth = 20` (call it `tree20`) and one with a `best_depth` that is chosen via 5-fold cross-validation (call it `tree_best`) using all predictors.  Evaluate these two models via AUC on both train and test.  Print out `tree20_train_auc`, `tree20_test_auc`, `tree_best_train_auc`, and `tree_best_test_auc` (make sure they are well-labeled in the print out; see primer below).\n",
    "\n",
    "**4.3** Interpret your tree based models.  Provide a plot with the **relative** variable importance of the 10 most important predictors, `top_predictors` in each of the two models.  Interpret (i) which variables are clearly most important and (ii) compare to each other to describe how the two models differ and/or agree with which variables matter. \n",
    "\n",
    "**4.4** Fit an artifical neural network model (call it `NN_model`) using all predictors.  Use a dense 2-layer feed-forward network (1 input, 1 hidden) with 15 nodes in each layer.  Evaluate the model on both train and test, and print out the resulting `NN_model_train_auc`, `NN_model_train_auc`.\n",
    "\n",
    "**4.5** Fit a classification tree with `max_depth=20` on the predictions from your `NN_model`.  Call it `dec_tree_NN`.  Draw the first 3 layers of the tree and interpret what predictors seem most important in `dec_tree_NN` from the top of this tree.\n",
    "\n",
    "**4.6** Use your `dec_tree_NN` to measure **relative** variable importance in your `NN_model` and provide a plot for the 10 most important predictors.  How do these compare to those from 4.3 and the drawn tree in 4.5?  Discuss in 2-4 sentences.\n",
    "\n",
    "**4.7** Interpret the results of your `NN_model` via plotting predicted probabilities of delay vs. `SCHED_DEP_HOUR` when all the other variables are set to their means/modes.  Interpret what you see in 2-4 sentences."
   ]
  },
  {
   "cell_type": "markdown",
   "metadata": {
    "deletable": false,
    "editable": false
   },
   "source": [
    "## Answers"
   ]
  },
  {
   "cell_type": "markdown",
   "metadata": {
    "autograde": "4.1",
    "deletable": false,
    "editable": false
   },
   "source": [
    "**4.1**  Read in the dataset `flights.csv`. Create a variable `DELAY_OR_NOT` that denotes whether `ARRIVAL_DELAY` is greater than or equal to 15 minutes (the FAA and BTS define a flight as delayed only if it arrives 15 minutes late or more). Turn the following predictors into dummies: `['ORIGIN_AIRPORT','DESTINATION_AIRPORT']`, and then split into train and test (80-20 split) using `train_test_split` with a random state of `109`.  Print out the dimensions of the resulting train and test `flights_train` and `flights_test` data frames.\n"
   ]
  },
  {
   "cell_type": "markdown",
   "metadata": {
    "deletable": false,
    "editable": false
   },
   "source": [
    "</span></div><div class='alert alert-block alert-danger'><b>WARNING!:</b><span style = 'color:black'> Do not delete any of the `### cs109Test() ###` comment lines!</span></div></div>"
   ]
  },
  {
   "cell_type": "code",
   "execution_count": 44,
   "metadata": {
    "deletable": false,
    "test": "test_4.1"
   },
   "outputs": [],
   "source": [
    "### cs109Test (test_4.1) ### \n",
    "# your code here \n"
   ]
  },
  {
   "cell_type": "markdown",
   "metadata": {
    "deletable": false,
    "editable": false
   },
   "source": [
    "</span></div><div class='alert alert-block alert-danger'><b>Note:</b><span style = 'color:black'> Make sure your submission passes all assert statements we've provided in this notebook.</span></div></div>"
   ]
  },
  {
   "cell_type": "code",
   "execution_count": 45,
   "metadata": {
    "deletable": false,
    "editable": false
   },
   "outputs": [],
   "source": [
    "### 4.1 Check that you have the requested variables\n",
    "for var in ['flights_train', 'flights_test']:\n",
    "    assert var in globals(), f\"Variable '{var}' does not exist!\""
   ]
  },
  {
   "cell_type": "markdown",
   "metadata": {
    "autograde": "4.2",
    "deletable": false,
    "editable": false
   },
   "source": [
    "**4.2** Fit two tree based models: one with `max_depth = 20` (call it `tree20`) and one with a `best_depth` that is chosen via 5-fold cross-validation (call it `tree_best`) using all predictors.  Evaluate these two models via AUC on both train and test.  Print out `tree20_train_auc`, `tree20_test_auc`, `tree_best_train_auc`, and `tree_best_test_auc` (make sure they are well-labeled in the print out; see primer below).\n"
   ]
  },
  {
   "cell_type": "markdown",
   "metadata": {
    "deletable": false,
    "editable": false
   },
   "source": [
    "</span></div><div class='alert alert-block alert-danger'><b>WARNING!:</b><span style = 'color:black'> Do not delete any of the `### cs109Test() ###` comment lines!</span></div></div>"
   ]
  },
  {
   "cell_type": "markdown",
   "metadata": {
    "deletable": false,
    "editable": false
   },
   "source": [
    "</span></div><div class='alert alert-block alert-danger'><b>Note:</b><span style = 'color:black'> Make sure your submission passes all assert statements we've provided in this notebook.</span></div></div>"
   ]
  },
  {
   "cell_type": "code",
   "execution_count": 192,
   "metadata": {
    "deletable": false,
    "test": "test_4.2a"
   },
   "outputs": [],
   "source": [
    "### cs109Test (test_4.2a) ### \n",
    "# your code here\n",
    "# end of your code here"
   ]
  },
  {
   "cell_type": "code",
   "execution_count": 193,
   "metadata": {
    "deletable": false,
    "test": "test_4.2b"
   },
   "outputs": [],
   "source": [
    "### cs109Test (test_4.2b) ### \n",
    "# Decision Tree Classifier\n",
    "# your code here \n",
    "# end of your code here\n",
    "### 4.2 Check that you have the requested variables\n",
    "for var in ['tree20', 'tree_best', 'best_depth']:\n",
    "    assert var in globals(), f\"Variable '{var}' does not exist!\""
   ]
  },
  {
   "cell_type": "markdown",
   "metadata": {
    "deletable": false,
    "editable": false
   },
   "source": [
    "</span></div><div class='alert alert-block alert-danger'><b>WARNING!:</b><span style = 'color:black'> Do not delete any of the `### cs109Test() ###` comment lines!</span></div></div>"
   ]
  },
  {
   "cell_type": "code",
   "execution_count": 47,
   "metadata": {
    "deletable": false,
    "test": "test_4.2c"
   },
   "outputs": [],
   "source": [
    "### cs109Test (test_4.2c) ### \n",
    "# primer to print: \n",
    "# print(\"tree20_train_auc:\", roc_auc_score(y_train, y_hat))\n",
    "# your code here \n"
   ]
  },
  {
   "cell_type": "code",
   "execution_count": null,
   "metadata": {
    "deletable": false
   },
   "outputs": [],
   "source": [
    "# your code here  \n"
   ]
  },
  {
   "cell_type": "markdown",
   "metadata": {
    "autograde": "4.3",
    "deletable": false,
    "editable": false
   },
   "source": [
    "**4.3** Interpret your tree based models.  Provide a plot with the **relative** variable importance of the 10 most important predictors, `top_predictors` in each of the two models.  Interpret (i) which variables are clearly most important and (ii) compare to each other to describe how the two models differ and/or agree with which variables matter.\n"
   ]
  },
  {
   "cell_type": "markdown",
   "metadata": {
    "deletable": false,
    "editable": false
   },
   "source": [
    "</span></div><div class='alert alert-block alert-danger'><b>WARNING!:</b><span style = 'color:black'> Do not delete any of the `### cs109Test() ###` comment lines!</span></div></div>"
   ]
  },
  {
   "cell_type": "code",
   "execution_count": 49,
   "metadata": {
    "deletable": false,
    "test": "test_4.3"
   },
   "outputs": [],
   "source": [
    "### cs109Test (test_4.3) ### \n",
    "#feature importance\n",
    "# your code here \n"
   ]
  },
  {
   "cell_type": "markdown",
   "metadata": {
    "deletable": false
   },
   "source": [
    "*Your answer here*"
   ]
  },
  {
   "cell_type": "markdown",
   "metadata": {
    "autograde": "4.4",
    "deletable": false,
    "editable": false
   },
   "source": [
    "**4.4** Fit an artifical neural network model (call it `NN_model`) using all predictors.  Use a dense 2-layer feed-forward network (1 input, 1 hidden) with 15 nodes in each layer.  Evaluate the model on both train and test, and print out the resulting `NN_model_train_auc`, `NN_model_train_auc`.\n"
   ]
  },
  {
   "cell_type": "markdown",
   "metadata": {
    "deletable": false,
    "editable": false
   },
   "source": [
    "</span></div><div class='alert alert-block alert-danger'><b>WARNING!:</b><span style = 'color:black'> Do not delete any of the `### cs109Test() ###` comment lines!</span></div></div>"
   ]
  },
  {
   "cell_type": "code",
   "execution_count": 50,
   "metadata": {
    "deletable": false,
    "test": "test_4.4"
   },
   "outputs": [],
   "source": [
    "### cs109Test (test_4.4) ### \n",
    "# build the NN \n",
    "# your code here\n"
   ]
  },
  {
   "cell_type": "markdown",
   "metadata": {
    "deletable": false,
    "editable": false
   },
   "source": [
    "</span></div><div class='alert alert-block alert-danger'><b>Note:</b><span style = 'color:black'> Make sure your submission passes all assert statements we've provided in this notebook.</span></div></div>"
   ]
  },
  {
   "cell_type": "code",
   "execution_count": null,
   "metadata": {
    "deletable": false,
    "editable": false
   },
   "outputs": [],
   "source": [
    "### 4.4 Check that you have the requested variables\n",
    "for var in ['NN_model']:\n",
    "    assert var in globals(), f\"Variable '{var}' does not exist!\""
   ]
  },
  {
   "cell_type": "code",
   "execution_count": 51,
   "metadata": {
    "deletable": false
   },
   "outputs": [],
   "source": [
    "# compile it and run it\n",
    "# your code here \n"
   ]
  },
  {
   "cell_type": "code",
   "execution_count": 52,
   "metadata": {
    "deletable": false
   },
   "outputs": [],
   "source": [
    "# plot train and val acc as  a function of epochs\n",
    "# your code here\n"
   ]
  },
  {
   "cell_type": "markdown",
   "metadata": {
    "deletable": false,
    "editable": false
   },
   "source": [
    "</span></div><div class='alert alert-block alert-danger'><b>WARNING!:</b><span style = 'color:black'> Do not delete any of the `### cs109Test() ###` comment lines!</span></div></div>"
   ]
  },
  {
   "cell_type": "code",
   "execution_count": 53,
   "metadata": {
    "deletable": false,
    "test": "test_4.4b"
   },
   "outputs": [],
   "source": [
    "### cs109Test (test_4.4b) ### \n",
    "# primer to print: \n",
    "# print(\"NN_model_train_auc:\", roc_auc_score(y_train, y_hat))\n",
    "# your code here \n"
   ]
  },
  {
   "cell_type": "markdown",
   "metadata": {
    "autograde": "4.5",
    "deletable": false,
    "editable": false
   },
   "source": [
    "**4.5** Fit a classification tree with `max_depth=20` on the predictions from your `NN_model`.  Call it `dec_tree_NN`.  Draw the first 3 layers of the tree and interpret what predictors seem most important in `dec_tree_NN` from the top of this tree.\n"
   ]
  },
  {
   "cell_type": "markdown",
   "metadata": {
    "deletable": false,
    "editable": false
   },
   "source": [
    "</span></div><div class='alert alert-block alert-danger'><b>WARNING!:</b><span style = 'color:black'> Do not delete any of the `### cs109Test() ###` comment lines!</span></div></div>"
   ]
  },
  {
   "cell_type": "code",
   "execution_count": 54,
   "metadata": {
    "deletable": false,
    "test": "test_4.5"
   },
   "outputs": [],
   "source": [
    "### cs109Test (test_4.5) ### \n",
    "# your code here\n"
   ]
  },
  {
   "cell_type": "markdown",
   "metadata": {
    "deletable": false,
    "editable": false
   },
   "source": [
    "</span></div><div class='alert alert-block alert-danger'><b>Note:</b><span style = 'color:black'> Make sure your submission passes all assert statements we've provided in this notebook.</span></div></div>"
   ]
  },
  {
   "cell_type": "code",
   "execution_count": 55,
   "metadata": {
    "deletable": false,
    "editable": false
   },
   "outputs": [],
   "source": [
    "### 4.5 Check that you have the requested variables\n",
    "for var in ['dec_tree_NN']:\n",
    "    assert var in globals(), f\"Variable '{var}' does not exist!\""
   ]
  },
  {
   "cell_type": "markdown",
   "metadata": {
    "autograde": "4.6",
    "deletable": false,
    "editable": false
   },
   "source": [
    "**4.6** Use your `dec_tree_NN` to measure **relative** variable importance in your `NN_model` and provide a plot for the 10 most important predictors.  How do these compare to those from 4.3 and the drawn tree in 4.5?  Discuss in 2-4 sentences.\n"
   ]
  },
  {
   "cell_type": "code",
   "execution_count": 189,
   "metadata": {
    "deletable": false
   },
   "outputs": [],
   "source": [
    "# your code here \n"
   ]
  },
  {
   "cell_type": "code",
   "execution_count": 57,
   "metadata": {
    "deletable": false
   },
   "outputs": [],
   "source": [
    "# your code here\n"
   ]
  },
  {
   "cell_type": "markdown",
   "metadata": {
    "autograde": "4.7",
    "deletable": false,
    "editable": false
   },
   "source": [
    "**4.7** Interpret the results of your `NN_model` via plotting predicted probabilities of delay vs. `SCHED_DEP_HOUR` when all the other variables are set to their means/modes.  Interpret what you see in 2-4 sentences."
   ]
  },
  {
   "cell_type": "code",
   "execution_count": 1,
   "metadata": {
    "deletable": false
   },
   "outputs": [],
   "source": [
    "# your code here\n"
   ]
  },
  {
   "cell_type": "markdown",
   "metadata": {
    "deletable": false
   },
   "source": [
    "*Your answer here*"
   ]
  },
  {
   "cell_type": "code",
   "execution_count": null,
   "metadata": {
    "deletable": false,
    "editable": false
   },
   "outputs": [],
   "source": []
  }
 ],
 "metadata": {
  "anaconda-cloud": {},
  "kernelspec": {
   "display_name": "Python 3",
   "language": "python",
   "name": "python3"
  },
  "language_info": {
   "codemirror_mode": {
    "name": "ipython",
    "version": 3
   },
   "file_extension": ".py",
   "mimetype": "text/x-python",
   "name": "python",
   "nbconvert_exporter": "python",
   "pygments_lexer": "ipython3",
   "version": "3.6.9"
  },
  "latex_envs": {
   "bibliofile": "biblio.bib",
   "cite_by": "apalike",
   "current_citInitial": 1,
   "eqLabelWithNumbers": true,
   "eqNumInitial": 0
  }
 },
 "nbformat": 4,
 "nbformat_minor": 1
}
